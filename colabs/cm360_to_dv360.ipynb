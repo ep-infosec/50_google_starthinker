{
  "nbformat": 4,
  "nbformat_minor": 0,
  "metadata": {
    "colab": {
      "name": "CM360 To DV360 Bulk Creator",
      "toc_visible": true
    },
    "kernelspec": {
      "name": "python3",
      "display_name": "Python 3"
    }
  },
  "cells": [
    {
      "cell_type": "markdown",
      "metadata": {
        "id": "8e3b96390001"
      },
      "source": [
        "#CM360 To DV360 Bulk Creator\n",
        "Allows bulk creating DV360 Insertion Orders and Line Items from CM360.\n"
      ]
    },
    {
      "cell_type": "markdown",
      "metadata": {
        "id": "8e3b96390002"
      },
      "source": [
        "#License\n",
        "\n",
        "Copyright 2020 Google LLC,\n",
        "\n",
        "Licensed under the Apache License, Version 2.0 (the \"License\");\n",
        "you may not use this file except in compliance with the License.\n",
        "You may obtain a copy of the License at\n",
        "\n",
        "  https://www.apache.org/licenses/LICENSE-2.0\n",
        "\n",
        "Unless required by applicable law or agreed to in writing, software\n",
        "distributed under the License is distributed on an \"AS IS\" BASIS,\n",
        "WITHOUT WARRANTIES OR CONDITIONS OF ANY KIND, either express or implied.\n",
        "See the License for the specific language governing permissions and\n",
        "limitations under the License.\n",
        "\n"
      ]
    },
    {
      "cell_type": "markdown",
      "metadata": {
        "id": "8e3b96390003"
      },
      "source": [
        "#Disclaimer\n",
        "This is not an officially supported Google product. It is a reference implementation. There is absolutely NO WARRANTY provided for using this code. The code is Apache Licensed and CAN BE fully modified, white labeled, and disassembled by your team.\n",
        "\n",
        "This code generated (see starthinker/scripts for possible source):\n",
        "  - **Command**: \"python starthinker_ui/manage.py colab\"\n",
        "  - **Command**: \"python starthinker/tools/colab.py [JSON RECIPE]\"\n",
        "\n"
      ]
    },
    {
      "cell_type": "markdown",
      "metadata": {
        "id": "8e3b96390004"
      },
      "source": [
        "#1. Install Dependencies\n",
        "First install the libraries needed to execute recipes, this only needs to be done once, then click play.\n"
      ]
    },
    {
      "cell_type": "code",
      "execution_count": null,
      "outputs": [],
      "metadata": {
        "id": "8e3b96390005"
      },
      "source": [
        "!pip install git+https://github.com/google/starthinker\n"
      ]
    },
    {
      "cell_type": "markdown",
      "metadata": {
        "id": "8e3b96390006"
      },
      "source": [
        "#2. Set Configuration\n",
        "\n",
        "This code is required to initialize the project. Fill in required fields and press play.\n",
        "\n",
        "1. If the recipe uses a Google Cloud Project:\n",
        "  - Set the configuration **project** value to the project identifier from [these instructions](https://github.com/google/starthinker/blob/master/tutorials/cloud_project.md).\n",
        "\n",
        "1. If the recipe has **auth** set to **user**:\n",
        "  - If you have user credentials:\n",
        "    - Set the configuration **user** value to your user credentials JSON.\n",
        "  - If you DO NOT have user credentials:\n",
        "    - Set the configuration **client** value to [downloaded client credentials](https://github.com/google/starthinker/blob/master/tutorials/cloud_client_installed.md).\n",
        "\n",
        "1. If the recipe has **auth** set to **service**:\n",
        "  - Set the configuration **service** value to [downloaded service credentials](https://github.com/google/starthinker/blob/master/tutorials/cloud_service.md).\n",
        "\n"
      ]
    },
    {
      "cell_type": "code",
      "execution_count": null,
      "outputs": [],
      "metadata": {
        "id": "8e3b96390007"
      },
      "source": [
        "from starthinker.util.configuration import Configuration\n",
        "\n",
        "\n",
        "CONFIG = Configuration(\n",
        "  project=\"\",\n",
        "  client={},\n",
        "  service={},\n",
        "  user=\"/content/user.json\",\n",
        "  verbose=True\n",
        ")\n",
        "\n"
      ]
    },
    {
      "cell_type": "markdown",
      "metadata": {
        "id": "8e3b96390008"
      },
      "source": [
        "#3. Enter CM360 To DV360 Bulk Creator Recipe Parameters\n",
        " 1. Select **Load Partners**, then click **Save + Run**, then a sheet called DV Editor  will be created.\n",
        " 1. In the **Partners** sheet tab, fill in **Filter** column then select **Load Advertisers**, click **Save + Run**.\n",
        " 1. In the **Advertisers** sheet tab, fill in **Filter** column then select **Load Campaigns**, click **Save + Run**.\n",
        " 1. In the **Campaigns** sheet tab, fill in **Filter** column, optional.\n",
        " 1. Then select **Load Insertion Orders And Line Items**, click **Save + Run**.\n",
        " 1. To update values, make changes on all **Edit** columns.\n",
        " 1. Select **Preview**, then **Save + Run**.\n",
        " 1. Check the **Audit** and **Preview** tabs to verify commit.\n",
        " 1. To commit changes, select **Update**, then **Save + Run**.\n",
        " 1. Check the **Success** and **Error** tabs.\n",
        " 1. Update can be run multiple times.\n",
        " 1. Update ONLY changes fields that do not match their original value.\n",
        " 1. Insert operates only on Edit columns, ignores orignal value columns.\n",
        " 1. Carefull when using drag to copy rows, values are incremented automatically.\n",
        " 1. Modify audit logic by visting BigQuery and changing the views.\n",
        "Modify the values below for your use case, can be done multiple times, then click play.\n"
      ]
    },
    {
      "cell_type": "code",
      "execution_count": null,
      "outputs": [],
      "metadata": {
        "id": "8e3b96390009"
      },
      "source": [
        "FIELDS = {\n",
        "  'auth_dv':'user',  # Credentials used for dv.\n",
        "  'auth_cm':'user',  # Credentials used for dv.\n",
        "  'auth_sheet':'user',  # Credentials used for sheet.\n",
        "  'auth_bigquery':'service',  # Credentials used for bigquery.\n",
        "  'recipe_name':'',  # Name of Google Sheet to create.\n",
        "  'recipe_slug':'',  # Name of Google BigQuery dataset to create.\n",
        "  'command':'Load',  # Action to take.\n",
        "}\n",
        "\n",
        "print(\"Parameters Set To: %s\" % FIELDS)\n"
      ]
    },
    {
      "cell_type": "markdown",
      "metadata": {
        "id": "8e3b96390010"
      },
      "source": [
        "#4. Execute CM360 To DV360 Bulk Creator\n",
        "This does NOT need to be modified unless you are changing the recipe, click play.\n"
      ]
    },
    {
      "cell_type": "code",
      "execution_count": null,
      "outputs": [],
      "metadata": {
        "id": "8e3b96390011"
      },
      "source": [
        "from starthinker.util.configuration import execute\n",
        "from starthinker.util.recipe import json_set_fields\n",
        "\n",
        "TASKS = [\n",
        "  {\n",
        "    'dataset':{\n",
        "      '__comment__':'Ensure dataset exists.',\n",
        "      'auth':{'field':{'name':'auth_bigquery','kind':'authentication','order':1,'default':'service','description':'Credentials used for writing data.'}},\n",
        "      'dataset':{'field':{'name':'recipe_slug','prefix':'CM_To_DV_','kind':'string','order':2,'default':'','description':'Name of Google BigQuery dataset to create.'}}\n",
        "    }\n",
        "  },\n",
        "  {\n",
        "    'drive':{\n",
        "      '__comment__':'Copy the default template to sheet with the recipe name',\n",
        "      'auth':{'field':{'name':'auth_sheet','kind':'authentication','order':1,'default':'user','description':'Credentials used for reading data.'}},\n",
        "      'copy':{\n",
        "        'source':'https://docs.google.com/spreadsheets/d/1XjEHq-nEFMW8RVmCNJ-TVGvVcVBEADzjbvhmAvF04iQ/edit#gid=594912061',\n",
        "        'destination':{'field':{'name':'recipe_name','prefix':'CM To DV ','kind':'string','order':3,'default':'','description':'Name of Google Sheet to create.'}}\n",
        "      }\n",
        "    }\n",
        "  },\n",
        "  {\n",
        "    'cm_to_dv':{\n",
        "      '__comment':'Depending on users choice, execute a different part of the solution.',\n",
        "      'auth_dv':{'field':{'name':'auth_dv','kind':'authentication','order':1,'default':'user','description':'Credentials used for dv.'}},\n",
        "      'auth_cm':{'field':{'name':'auth_cm','kind':'authentication','order':2,'default':'user','description':'Credentials used for dv.'}},\n",
        "      'auth_sheets':{'field':{'name':'auth_sheet','kind':'authentication','order':3,'default':'user','description':'Credentials used for sheet.'}},\n",
        "      'auth_bigquery':{'field':{'name':'auth_bigquery','kind':'authentication','order':4,'default':'service','description':'Credentials used for bigquery.'}},\n",
        "      'sheet':{'field':{'name':'recipe_name','prefix':'CM To DV ','kind':'string','order':5,'default':'','description':'Name of Google Sheet to create.'}},\n",
        "      'dataset':{'field':{'name':'recipe_slug','prefix':'CM_To_DV_','kind':'string','order':6,'default':'','description':'Name of Google BigQuery dataset to create.'}},\n",
        "      'command':{'field':{'name':'command','kind':'choice','choices':['Clear','Load','Preview','Insert'],'order':6,'default':'Load','description':'Action to take.'}}\n",
        "    }\n",
        "  }\n",
        "]\n",
        "\n",
        "json_set_fields(TASKS, FIELDS)\n",
        "\n",
        "execute(CONFIG, TASKS, force=True)\n"
      ]
    }
  ]
}
