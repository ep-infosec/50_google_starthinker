{
  "nbformat": 4,
  "nbformat_minor": 0,
  "metadata": {
    "colab": {
      "name": "CM360 Report Replicate",
      "toc_visible": true
    },
    "kernelspec": {
      "name": "python3",
      "display_name": "Python 3"
    }
  },
  "cells": [
    {
      "cell_type": "markdown",
      "metadata": {
        "id": "1d705f630001"
      },
      "source": [
        "#CM360 Report Replicate\n",
        "Replicate a report across multiple networks and advertisers.\n"
      ]
    },
    {
      "cell_type": "markdown",
      "metadata": {
        "id": "1d705f630002"
      },
      "source": [
        "#License\n",
        "\n",
        "Copyright 2020 Google LLC,\n",
        "\n",
        "Licensed under the Apache License, Version 2.0 (the \"License\");\n",
        "you may not use this file except in compliance with the License.\n",
        "You may obtain a copy of the License at\n",
        "\n",
        "  https://www.apache.org/licenses/LICENSE-2.0\n",
        "\n",
        "Unless required by applicable law or agreed to in writing, software\n",
        "distributed under the License is distributed on an \"AS IS\" BASIS,\n",
        "WITHOUT WARRANTIES OR CONDITIONS OF ANY KIND, either express or implied.\n",
        "See the License for the specific language governing permissions and\n",
        "limitations under the License.\n",
        "\n"
      ]
    },
    {
      "cell_type": "markdown",
      "metadata": {
        "id": "1d705f630003"
      },
      "source": [
        "#Disclaimer\n",
        "This is not an officially supported Google product. It is a reference implementation. There is absolutely NO WARRANTY provided for using this code. The code is Apache Licensed and CAN BE fully modified, white labeled, and disassembled by your team.\n",
        "\n",
        "This code generated (see starthinker/scripts for possible source):\n",
        "  - **Command**: \"python starthinker_ui/manage.py colab\"\n",
        "  - **Command**: \"python starthinker/tools/colab.py [JSON RECIPE]\"\n",
        "\n"
      ]
    },
    {
      "cell_type": "markdown",
      "metadata": {
        "id": "1d705f630004"
      },
      "source": [
        "#1. Install Dependencies\n",
        "First install the libraries needed to execute recipes, this only needs to be done once, then click play.\n"
      ]
    },
    {
      "cell_type": "code",
      "execution_count": null,
      "outputs": [],
      "metadata": {
        "id": "1d705f630005"
      },
      "source": [
        "!pip install git+https://github.com/google/starthinker\n"
      ]
    },
    {
      "cell_type": "markdown",
      "metadata": {
        "id": "1d705f630006"
      },
      "source": [
        "#2. Set Configuration\n",
        "\n",
        "This code is required to initialize the project. Fill in required fields and press play.\n",
        "\n",
        "1. If the recipe uses a Google Cloud Project:\n",
        "  - Set the configuration **project** value to the project identifier from [these instructions](https://github.com/google/starthinker/blob/master/tutorials/cloud_project.md).\n",
        "\n",
        "1. If the recipe has **auth** set to **user**:\n",
        "  - If you have user credentials:\n",
        "    - Set the configuration **user** value to your user credentials JSON.\n",
        "  - If you DO NOT have user credentials:\n",
        "    - Set the configuration **client** value to [downloaded client credentials](https://github.com/google/starthinker/blob/master/tutorials/cloud_client_installed.md).\n",
        "\n",
        "1. If the recipe has **auth** set to **service**:\n",
        "  - Set the configuration **service** value to [downloaded service credentials](https://github.com/google/starthinker/blob/master/tutorials/cloud_service.md).\n",
        "\n"
      ]
    },
    {
      "cell_type": "code",
      "execution_count": null,
      "outputs": [],
      "metadata": {
        "id": "1d705f630007"
      },
      "source": [
        "from starthinker.util.configuration import Configuration\n",
        "\n",
        "\n",
        "CONFIG = Configuration(\n",
        "  project=\"\",\n",
        "  client={},\n",
        "  service={},\n",
        "  user=\"/content/user.json\",\n",
        "  verbose=True\n",
        ")\n",
        "\n"
      ]
    },
    {
      "cell_type": "markdown",
      "metadata": {
        "id": "1d705f630008"
      },
      "source": [
        "#3. Enter CM360 Report Replicate Recipe Parameters\n",
        " 1. Provide the name or ID of an existing report.\n",
        " 1. Run the recipe once to generate the input sheet called .\n",
        " 1. Enter network and advertiser ids to replicate the report.\n",
        " 1. Data will be written to BigQuery &gt;  &gt;  &gt; _All\n",
        "Modify the values below for your use case, can be done multiple times, then click play.\n"
      ]
    },
    {
      "cell_type": "code",
      "execution_count": null,
      "outputs": [],
      "metadata": {
        "id": "1d705f630009"
      },
      "source": [
        "FIELDS = {\n",
        "  'auth_read':'user',  # Credentials used for reading data.\n",
        "  'recipe_name':'',  # Sheet to read ids from.\n",
        "  'auth_write':'service',  # Credentials used for writing data.\n",
        "  'account':'',  # CM network id.\n",
        "  'recipe_slug':'',\n",
        "  'report_id':'',  # CM template report id, for template\n",
        "  'report_name':'',  # CM template report name, empty if using id instead.\n",
        "  'delete':False,  # Use only to reset the reports if setup changes.\n",
        "  'Aggregate':False,  # Append report data to existing table, requires Date column.\n",
        "}\n",
        "\n",
        "print(\"Parameters Set To: %s\" % FIELDS)\n"
      ]
    },
    {
      "cell_type": "markdown",
      "metadata": {
        "id": "1d705f630010"
      },
      "source": [
        "#4. Execute CM360 Report Replicate\n",
        "This does NOT need to be modified unless you are changing the recipe, click play.\n"
      ]
    },
    {
      "cell_type": "code",
      "execution_count": null,
      "outputs": [],
      "metadata": {
        "id": "1d705f630011"
      },
      "source": [
        "from starthinker.util.configuration import execute\n",
        "from starthinker.util.recipe import json_set_fields\n",
        "\n",
        "TASKS = [\n",
        "  {\n",
        "    'drive':{\n",
        "      'auth':'user',\n",
        "      'copy':{\n",
        "        'source':'https://docs.google.com/spreadsheets/d/1Su3t2YUWV_GG9RD63Wa3GNANmQZswTHstFY6aDPm6qE/',\n",
        "        'destination':{'field':{'name':'recipe_name','kind':'string','order':1,'description':'Name of document to deploy to.','default':''}}\n",
        "      }\n",
        "    }\n",
        "  },\n",
        "  {\n",
        "    'dataset':{\n",
        "      'auth':{'field':{'name':'auth_write','kind':'authentication','order':1,'default':'service','description':'Credentials used for writing data.'}},\n",
        "      'dataset':{'field':{'name':'recipe_slug','kind':'string','order':2,'default':'','description':'Name of Google BigQuery dataset to create.'}}\n",
        "    }\n",
        "  },\n",
        "  {\n",
        "    'cm_report_replicate':{\n",
        "      'auth':{'field':{'name':'auth_read','kind':'authentication','order':0,'default':'user','description':'Credentials used for reading data.'}},\n",
        "      'report':{\n",
        "        'account':{'field':{'name':'account','kind':'integer','order':3,'default':'','description':'CM network id.'}},\n",
        "        'id':{'field':{'name':'report_id','kind':'integer','order':4,'default':'','description':'CM template report id, for template'}},\n",
        "        'name':{'field':{'name':'report_name','kind':'string','order':5,'default':'','description':'CM template report name, empty if using id instead.'}},\n",
        "        'delete':{'field':{'name':'delete','kind':'boolean','order':6,'default':False,'description':'Use only to reset the reports if setup changes.'}}\n",
        "      },\n",
        "      'replicate':{\n",
        "        'sheets':{\n",
        "          'sheet':{'field':{'name':'recipe_name','kind':'string','order':1,'default':'','description':'Sheet to read ids from.'}},\n",
        "          'tab':'Accounts',\n",
        "          'range':''\n",
        "        }\n",
        "      },\n",
        "      'write':{\n",
        "        'bigquery':{\n",
        "          'dataset':{'field':{'name':'recipe_slug','kind':'string','order':4,'default':''}},\n",
        "          'is_incremental_load':{'field':{'name':'Aggregate','kind':'boolean','order':7,'default':False,'description':'Append report data to existing table, requires Date column.'}}\n",
        "        }\n",
        "      }\n",
        "    }\n",
        "  }\n",
        "]\n",
        "\n",
        "json_set_fields(TASKS, FIELDS)\n",
        "\n",
        "execute(CONFIG, TASKS, force=True)\n"
      ]
    }
  ]
}
