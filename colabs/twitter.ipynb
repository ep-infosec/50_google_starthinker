{
  "nbformat": 4,
  "nbformat_minor": 0,
  "metadata": {
    "colab": {
      "name": "Twitter Targeting",
      "toc_visible": true
    },
    "kernelspec": {
      "name": "python3",
      "display_name": "Python 3"
    }
  },
  "cells": [
    {
      "cell_type": "markdown",
      "metadata": {
        "id": "ae38e60a0001"
      },
      "source": [
        "#Twitter Targeting\n",
        "Adjusts line item settings based on Twitter hashtags and locations specified in a sheet.\n"
      ]
    },
    {
      "cell_type": "markdown",
      "metadata": {
        "id": "ae38e60a0002"
      },
      "source": [
        "#License\n",
        "\n",
        "Copyright 2020 Google LLC,\n",
        "\n",
        "Licensed under the Apache License, Version 2.0 (the \"License\");\n",
        "you may not use this file except in compliance with the License.\n",
        "You may obtain a copy of the License at\n",
        "\n",
        "  https://www.apache.org/licenses/LICENSE-2.0\n",
        "\n",
        "Unless required by applicable law or agreed to in writing, software\n",
        "distributed under the License is distributed on an \"AS IS\" BASIS,\n",
        "WITHOUT WARRANTIES OR CONDITIONS OF ANY KIND, either express or implied.\n",
        "See the License for the specific language governing permissions and\n",
        "limitations under the License.\n",
        "\n"
      ]
    },
    {
      "cell_type": "markdown",
      "metadata": {
        "id": "ae38e60a0003"
      },
      "source": [
        "#Disclaimer\n",
        "This is not an officially supported Google product. It is a reference implementation. There is absolutely NO WARRANTY provided for using this code. The code is Apache Licensed and CAN BE fully modified, white labeled, and disassembled by your team.\n",
        "\n",
        "This code generated (see starthinker/scripts for possible source):\n",
        "  - **Command**: \"python starthinker_ui/manage.py colab\"\n",
        "  - **Command**: \"python starthinker/tools/colab.py [JSON RECIPE]\"\n",
        "\n"
      ]
    },
    {
      "cell_type": "markdown",
      "metadata": {
        "id": "ae38e60a0004"
      },
      "source": [
        "#1. Install Dependencies\n",
        "First install the libraries needed to execute recipes, this only needs to be done once, then click play.\n"
      ]
    },
    {
      "cell_type": "code",
      "execution_count": null,
      "outputs": [],
      "metadata": {
        "id": "ae38e60a0005"
      },
      "source": [
        "!pip install git+https://github.com/google/starthinker\n"
      ]
    },
    {
      "cell_type": "markdown",
      "metadata": {
        "id": "ae38e60a0006"
      },
      "source": [
        "#2. Set Configuration\n",
        "\n",
        "This code is required to initialize the project. Fill in required fields and press play.\n",
        "\n",
        "1. If the recipe uses a Google Cloud Project:\n",
        "  - Set the configuration **project** value to the project identifier from [these instructions](https://github.com/google/starthinker/blob/master/tutorials/cloud_project.md).\n",
        "\n",
        "1. If the recipe has **auth** set to **user**:\n",
        "  - If you have user credentials:\n",
        "    - Set the configuration **user** value to your user credentials JSON.\n",
        "  - If you DO NOT have user credentials:\n",
        "    - Set the configuration **client** value to [downloaded client credentials](https://github.com/google/starthinker/blob/master/tutorials/cloud_client_installed.md).\n",
        "\n",
        "1. If the recipe has **auth** set to **service**:\n",
        "  - Set the configuration **service** value to [downloaded service credentials](https://github.com/google/starthinker/blob/master/tutorials/cloud_service.md).\n",
        "\n"
      ]
    },
    {
      "cell_type": "code",
      "execution_count": null,
      "outputs": [],
      "metadata": {
        "id": "ae38e60a0007"
      },
      "source": [
        "from starthinker.util.configuration import Configuration\n",
        "\n",
        "\n",
        "CONFIG = Configuration(\n",
        "  project=\"\",\n",
        "  client={},\n",
        "  service={},\n",
        "  user=\"/content/user.json\",\n",
        "  verbose=True\n",
        ")\n",
        "\n"
      ]
    },
    {
      "cell_type": "markdown",
      "metadata": {
        "id": "ae38e60a0008"
      },
      "source": [
        "#3. Enter Twitter Targeting Recipe Parameters\n",
        " 1. Click **Run Now** and a sheet called **Twitter Targeting ** will be generated with a tab called **Twitter Triggers**.\n",
        " 1. Follow instructions on the sheets tab to provide triggers and lineitems.\n",
        " 1. Click **Run Now** again, trends are downloaded and triggered.\n",
        " 1. Or give these intructions to the client.\n",
        "Modify the values below for your use case, can be done multiple times, then click play.\n"
      ]
    },
    {
      "cell_type": "code",
      "execution_count": null,
      "outputs": [],
      "metadata": {
        "id": "ae38e60a0009"
      },
      "source": [
        "FIELDS = {\n",
        "  'auth_read':'user',  # Credentials used for reading data.\n",
        "  'auth_write':'service',  # Credentials used for writing data.\n",
        "  'recipe_name':'',  # Name of sheet where Line Item settings will be read from.\n",
        "  'twitter_secret':'',  # Twitter API secret token.\n",
        "  'recipe_slug':'',  # Name of Google BigQuery dataset to create.\n",
        "  'twitter_key':'',  # Twitter API key token.\n",
        "}\n",
        "\n",
        "print(\"Parameters Set To: %s\" % FIELDS)\n"
      ]
    },
    {
      "cell_type": "markdown",
      "metadata": {
        "id": "ae38e60a0010"
      },
      "source": [
        "#4. Execute Twitter Targeting\n",
        "This does NOT need to be modified unless you are changing the recipe, click play.\n"
      ]
    },
    {
      "cell_type": "code",
      "execution_count": null,
      "outputs": [],
      "metadata": {
        "id": "ae38e60a0011"
      },
      "source": [
        "from starthinker.util.configuration import execute\n",
        "from starthinker.util.recipe import json_set_fields\n",
        "\n",
        "TASKS = [\n",
        "  {\n",
        "    'dataset':{\n",
        "      'description':'Create a dataset where data will be combined and transfored for upload.',\n",
        "      'auth':{'field':{'name':'auth_write','kind':'authentication','order':1,'default':'service','description':'Credentials used for writing data.'}},\n",
        "      'dataset':{'field':{'name':'recipe_slug','kind':'string','order':1,'description':'Place where tables will be created in BigQuery.'}}\n",
        "    }\n",
        "  },\n",
        "  {\n",
        "    'sheets':{\n",
        "      'description':'Read mapping of hash tags to line item toggles from sheets.',\n",
        "      'auth':{'field':{'name':'auth_read','kind':'authentication','order':0,'default':'user','description':'Credentials used for reading data.'}},\n",
        "      'template':{\n",
        "        'sheet':'https://docs.google.com/spreadsheets/d/1iYCGa2NKOZiL2mdT4yiDfV_SWV9C7SUosXdIr4NAEXE/edit?usp=sharing',\n",
        "        'tab':'Twitter Triggers'\n",
        "      },\n",
        "      'sheet':{'field':{'name':'recipe_name','kind':'string','prefix':'Twitter Targeting For ','order':2,'description':'Name of sheet where Line Item settings will be read from.','default':''}},\n",
        "      'tab':'Twitter Triggers',\n",
        "      'range':'A7:E',\n",
        "      'out':{\n",
        "        'bigquery':{\n",
        "          'dataset':{'field':{'name':'recipe_slug','kind':'string','description':'Place where tables will be created in BigQuery.'}},\n",
        "          'table':'Twitter_Triggers',\n",
        "          'schema':[\n",
        "            {\n",
        "              'name':'Location',\n",
        "              'type':'STRING',\n",
        "              'mode':'REQUIRED'\n",
        "            },\n",
        "            {\n",
        "              'name':'WOEID',\n",
        "              'type':'INTEGER',\n",
        "              'mode':'REQUIRED'\n",
        "            },\n",
        "            {\n",
        "              'name':'Hashtag',\n",
        "              'type':'STRING',\n",
        "              'mode':'REQUIRED'\n",
        "            },\n",
        "            {\n",
        "              'name':'Advertiser_Id',\n",
        "              'type':'INTEGER',\n",
        "              'mode':'REQUIRED'\n",
        "            },\n",
        "            {\n",
        "              'name':'Line_Item_Id',\n",
        "              'type':'INTEGER',\n",
        "              'mode':'REQUIRED'\n",
        "            }\n",
        "          ]\n",
        "        }\n",
        "      }\n",
        "    }\n",
        "  },\n",
        "  {\n",
        "    'twitter':{\n",
        "      'description':'Read trends from Twitter and place into BigQuery.',\n",
        "      'auth':{'field':{'name':'auth_write','kind':'authentication','order':1,'default':'service','description':'Credentials used for writing data.'}},\n",
        "      'secret':{'field':{'name':'twitter_secret','kind':'string','order':3,'default':'','description':'Twitter API secret token.'}},\n",
        "      'key':{'field':{'name':'twitter_key','kind':'string','order':4,'default':'','description':'Twitter API key token.'}},\n",
        "      'trends':{\n",
        "        'places':{\n",
        "          'single_cell':True,\n",
        "          'bigquery':{\n",
        "            'dataset':{'field':{'name':'recipe_slug','kind':'string','description':'Place where tables will be created in BigQuery.'}},\n",
        "            'query':'SELECT DISTINCT WOEID FROM {dataset}.Twitter_Triggers',\n",
        "            'legacy':False,\n",
        "            'parameters':{\n",
        "              'dataset':{'field':{'name':'recipe_slug','kind':'string','description':'Place where tables will be created in BigQuery.'}}\n",
        "            }\n",
        "          }\n",
        "        }\n",
        "      },\n",
        "      'out':{\n",
        "        'bigquery':{\n",
        "          'dataset':{'field':{'name':'recipe_slug','kind':'string','description':'Place where tables will be created in BigQuery.'}},\n",
        "          'table':'Twitter_Trends_Place'\n",
        "        }\n",
        "      }\n",
        "    }\n",
        "  },\n",
        "  {\n",
        "    'google_api':{\n",
        "      'description':'Combine sheet and twitter data into API operations for each line item.  Match all possibilities and PAUSE if no trigger match.',\n",
        "      'auth':{'field':{'name':'auth_write','kind':'authentication','order':1,'default':'service','description':'Credentials used for writing data.'}},\n",
        "      'api':'displayvideo',\n",
        "      'version':'v1',\n",
        "      'function':'advertisers.lineItems.patch',\n",
        "      'kwargs_remote':{\n",
        "        'bigquery':{\n",
        "          'dataset':{'field':{'name':'recipe_slug','kind':'string','order':4,'default':'','description':'Name of Google BigQuery dataset to create.'}},\n",
        "          'query':\"             SELECT               CAST(S.Advertiser_Id AS STRING) advertiserId,               CAST(S.Line_Item_Id AS STRING) AS lineItemId,               STRUCT(                 IF(LOGICAL_OR(T.Name is NULL), 'ENTITY_STATUS_ACTIVE', 'ENTITY_STATUS_PAUSED') AS entityStatus               ) AS body,               'entityStatus' AS updateMask,             FROM `{dataset}.Twitter_Triggers` AS S             LEFT JOIN `{dataset}.Twitter_Trends_Place` As T             ON S.WOEID=T.WOEID AND REPLACE(LOWER(S.Hashtag), '#', '')=REPLACE(LOWER(T.Name), '#', '')             GROUP BY 1,2           \",\n",
        "          'parameters':{\n",
        "            'dataset':{'field':{'name':'recipe_slug','kind':'string','description':'Place where tables will be created in BigQuery.'}}\n",
        "          }\n",
        "        }\n",
        "      },\n",
        "      'results':{\n",
        "        'bigquery':{\n",
        "          'dataset':{'field':{'name':'recipe_slug','kind':'string','order':4,'default':'','description':'Name of Google BigQuery dataset to create.'}},\n",
        "          'table':'Trigger_Results'\n",
        "        }\n",
        "      },\n",
        "      'errors':{\n",
        "        'bigquery':{\n",
        "          'dataset':{'field':{'name':'recipe_slug','kind':'string','order':4,'default':'','description':'Name of Google BigQuery dataset to create.'}},\n",
        "          'table':'Trigger_Errors'\n",
        "        }\n",
        "      }\n",
        "    }\n",
        "  }\n",
        "]\n",
        "\n",
        "json_set_fields(TASKS, FIELDS)\n",
        "\n",
        "execute(CONFIG, TASKS, force=True)\n"
      ]
    }
  ]
}
