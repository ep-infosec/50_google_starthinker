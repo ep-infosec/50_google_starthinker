{
  "license": "Licensed under the Apache License, Version 2.0",
  "copyright": "Copyright 2020 Google LLC",
  "nbformat": 4,
  "nbformat_minor": 0,
  "metadata": {
    "colab": {
      "name": "DV360 Segmentology",
      "provenance": [],
      "collapsed_sections": [],
      "toc_visible": true
    },
    "kernelspec": {
      "name": "python3",
      "display_name": "Python 3"
    }
  },
  "cells": [
    {
      "cell_type": "markdown",
      "metadata": {
        "id": "49171172-001",
        "colab_type": "text"
      },
      "source": [
        "#1. Install Dependencies\n",
        "First install the libraries needed to execute recipes, this only needs to be done once, then click play.\n"
      ]
    },
    {
      "cell_type": "code",
      "metadata": {
        "id": "49171172-002",
        "colab_type": "code"
      },
      "source": [
        "!pip install git+https://github.com/google/starthinker\n"
      ]
    },
    {
      "cell_type": "markdown",
      "metadata": {
        "id": "49171172-003",
        "colab_type": "text"
      },
      "source": [
        "#2. Get Cloud Project ID\n",
        "To run this recipe [requires a Google Cloud Project](https://github.com/google/starthinker/blob/master/tutorials/cloud_project.md), this only needs to be done once, then click play.\n"
      ]
    },
    {
      "cell_type": "code",
      "metadata": {
        "id": "49171172-004",
        "colab_type": "code"
      },
      "source": [
        "CLOUD_PROJECT = 'PASTE PROJECT ID HERE'\n",
        "\n",
        "print(\"Cloud Project Set To: %s\" % CLOUD_PROJECT)\n"
      ]
    },
    {
      "cell_type": "markdown",
      "metadata": {
        "id": "49171172-005",
        "colab_type": "text"
      },
      "source": [
        "#3. Get Client Credentials\n",
        "To read and write to various endpoints requires [downloading client credentials](https://github.com/google/starthinker/blob/master/tutorials/cloud_client_installed.md), this only needs to be done once, then click play.\n"
      ]
    },
    {
      "cell_type": "code",
      "metadata": {
        "id": "49171172-006",
        "colab_type": "code"
      },
      "source": [
        "CLIENT_CREDENTIALS = 'PASTE CREDENTIALS HERE'\n",
        "\n",
        "print(\"Client Credentials Set To: %s\" % CLIENT_CREDENTIALS)\n"
      ]
    },
    {
      "cell_type": "markdown",
      "metadata": {
        "id": "49171172-007",
        "colab_type": "text"
      },
      "source": [
        "#4. Enter DV360 Segmentology Parameters\n",
        "DV360 funnel analysis using Census data.\n",
        " 1. Wait for <b>BigQuery->->->Census_Join</b> to be created.\n",
        " 1. Join the <a hre='https://groups.google.com/d/forum/starthinker-assets' target='_blank'>StarThinker Assets Group</a> to access the following assets\n",
        " 1. Copy <a href='https://datastudio.google.com/c/u/0/reporting/3673497b-f36f-4448-8fb9-3e05ea51842f/' target='_blank'>DV360 Segmentology Sample</a>. Leave the Data Source as is, you will change it in the next step.\n",
        " 1. Click Edit Connection, and change to <b>BigQuery->->->Census_Join</b>.\n",
        " 1. Or give these intructions to the client.\n",
        "Modify the values below for your use case, can be done multiple times, then click play.\n"
      ]
    },
    {
      "cell_type": "code",
      "metadata": {
        "id": "49171172-008",
        "colab_type": "code"
      },
      "source": [
        "FIELDS = {\n",
        "  'auth_read': 'user',  # Credentials used for reading data.\n",
        "  'recipe_timezone': 'America/Los_Angeles',  # Timezone for report dates.\n",
        "  'recipe_project': '',  # Project ID hosting dataset.\n",
        "  'auth_write': 'service',  # Authorization used for writing data.\n",
        "  'recipe_name': '',  # Name of report, not needed if ID used.\n",
        "  'recipe_slug': '',  # Name of Google BigQuery dataset to create.\n",
        "  'partners': [],  # DV360 partner id.\n",
        "  'advertisers': [],  # Comma delimited list of DV360 advertiser ids.\n",
        "}\n",
        "\n",
        "print(\"Parameters Set To: %s\" % FIELDS)\n"
      ]
    },
    {
      "cell_type": "markdown",
      "metadata": {
        "id": "49171172-009",
        "colab_type": "text"
      },
      "source": [
        "#5. Execute DV360 Segmentology\n",
        "This does NOT need to be modified unless you are changing the recipe, click play.\n"
      ]
    },
    {
      "cell_type": "code",
      "metadata": {
        "id": "49171172-010",
        "colab_type": "code"
      },
      "source": [
        "from starthinker.util.project import project\n",
        "from starthinker.script.parse import json_set_fields\n",
        "\n",
        "USER_CREDENTIALS = '/content/user.json'\n",
        "\n",
        "TASKS = [\n",
        "  {\n",
        "    'dataset': {\n",
        "      'description': 'Create a dataset for bigquery tables.',\n",
        "      'hour': [\n",
        "        4\n",
        "      ],\n",
        "      'auth': 'user',\n",
        "      'dataset': {'field': {'name': 'recipe_slug','kind': 'string','description': 'Place where tables will be created in BigQuery.'}}\n",
        "    }\n",
        "  },\n",
        "  {\n",
        "    'bigquery': {\n",
        "      'auth': 'user',\n",
        "      'function': 'Pearson Significance Test',\n",
        "      'to': {\n",
        "        'dataset': {'field': {'name': 'recipe_slug','kind': 'string','order': 4,'default': '','description': 'Name of Google BigQuery dataset to create.'}}\n",
        "      }\n",
        "    }\n",
        "  },\n",
        "  {\n",
        "    'dbm': {\n",
        "      'auth': 'user',\n",
        "      'report': {\n",
        "        'filters': {\n",
        "          'FILTER_PARTNER': {\n",
        "            'values': {'field': {'name': 'partners','kind': 'integer_list','order': 5,'default': [],'description': 'DV360 partner id.'}}\n",
        "          },\n",
        "          'FILTER_ADVERTISER': {\n",
        "            'values': {'field': {'name': 'advertisers','kind': 'integer_list','order': 6,'default': [],'description': 'Comma delimited list of DV360 advertiser ids.'}}\n",
        "          }\n",
        "        },\n",
        "        'body': {\n",
        "          'timezoneCode': {'field': {'name': 'recipe_timezone','kind': 'timezone','description': 'Timezone for report dates.','default': 'America/Los_Angeles'}},\n",
        "          'metadata': {\n",
        "            'title': {'field': {'name': 'recipe_name','kind': 'string','order': 3,'prefix': 'Segmentology ','default': '','description': 'Name of report, not needed if ID used.'}},\n",
        "            'dataRange': 'LAST_30_DAYS',\n",
        "            'format': 'CSV'\n",
        "          },\n",
        "          'params': {\n",
        "            'type': 'TYPE_CROSS_PARTNER',\n",
        "            'groupBys': [\n",
        "              'FILTER_PARTNER',\n",
        "              'FILTER_PARTNER_NAME',\n",
        "              'FILTER_ADVERTISER',\n",
        "              'FILTER_ADVERTISER_NAME',\n",
        "              'FILTER_MEDIA_PLAN',\n",
        "              'FILTER_MEDIA_PLAN_NAME',\n",
        "              'FILTER_ZIP_POSTAL_CODE'\n",
        "            ],\n",
        "            'metrics': [\n",
        "              'METRIC_BILLABLE_IMPRESSIONS',\n",
        "              'METRIC_CLICKS',\n",
        "              'METRIC_TOTAL_CONVERSIONS'\n",
        "            ]\n",
        "          },\n",
        "          'schedule': {\n",
        "            'frequency': 'WEEKLY'\n",
        "          }\n",
        "        }\n",
        "      }\n",
        "    }\n",
        "  },\n",
        "  {\n",
        "    'dbm': {\n",
        "      'auth': 'user',\n",
        "      'report': {\n",
        "        'name': {'field': {'name': 'recipe_name','kind': 'string','order': 3,'prefix': 'Segmentology ','default': '','description': 'Name of report, not needed if ID used.'}}\n",
        "      },\n",
        "      'out': {\n",
        "        'bigquery': {\n",
        "          'auth': 'user',\n",
        "          'dataset': {'field': {'name': 'recipe_slug','kind': 'string','order': 4,'default': '','description': 'Name of Google BigQuery dataset to create.'}},\n",
        "          'table': 'DV360_KPI',\n",
        "          'header': True,\n",
        "          'schema': [\n",
        "            {\n",
        "              'name': 'Partner_Id',\n",
        "              'type': 'INTEGER',\n",
        "              'mode': 'REQUIRED'\n",
        "            },\n",
        "            {\n",
        "              'name': 'Partner',\n",
        "              'type': 'STRING',\n",
        "              'mode': 'REQUIRED'\n",
        "            },\n",
        "            {\n",
        "              'name': 'Advertiser_Id',\n",
        "              'type': 'INTEGER',\n",
        "              'mode': 'REQUIRED'\n",
        "            },\n",
        "            {\n",
        "              'name': 'Advertiser',\n",
        "              'type': 'STRING',\n",
        "              'mode': 'REQUIRED'\n",
        "            },\n",
        "            {\n",
        "              'name': 'Campaign_Id',\n",
        "              'type': 'INTEGER',\n",
        "              'mode': 'REQUIRED'\n",
        "            },\n",
        "            {\n",
        "              'name': 'Campaign',\n",
        "              'type': 'STRING',\n",
        "              'mode': 'REQUIRED'\n",
        "            },\n",
        "            {\n",
        "              'name': 'Zip',\n",
        "              'type': 'STRING',\n",
        "              'mode': 'NULLABLE'\n",
        "            },\n",
        "            {\n",
        "              'name': 'Impressions',\n",
        "              'type': 'FLOAT',\n",
        "              'mode': 'NULLABLE'\n",
        "            },\n",
        "            {\n",
        "              'name': 'Clicks',\n",
        "              'type': 'FLOAT',\n",
        "              'mode': 'NULLABLE'\n",
        "            },\n",
        "            {\n",
        "              'name': 'Conversions',\n",
        "              'type': 'FLOAT',\n",
        "              'mode': 'NULLABLE'\n",
        "            }\n",
        "          ]\n",
        "        }\n",
        "      }\n",
        "    }\n",
        "  },\n",
        "  {\n",
        "    'bigquery': {\n",
        "      'auth': 'user',\n",
        "      'from': {\n",
        "        'query': 'SELECT            Partner_Id,            Partner,            Advertiser_Id,            Advertiser,            Campaign_Id,            Campaign,            Zip,            SAFE_DIVIDE(Impressions, SUM(Impressions) OVER(PARTITION BY Advertiser_Id)) AS Impression_Percent,            SAFE_DIVIDE(Clicks, Impressions) AS Click_Percent,            SAFE_DIVIDE(Conversions, Impressions) AS Conversion_Percent,            Impressions AS Impressions          FROM            `{project}.{dataset}.DV360_KPI`;        ',\n",
        "        'parameters': {\n",
        "          'project': {'field': {'name': 'recipe_project','kind': 'string','description': 'Project ID hosting dataset.'}},\n",
        "          'dataset': {'field': {'name': 'recipe_slug','kind': 'string','description': 'Place where tables will be created in BigQuery.'}}\n",
        "        },\n",
        "        'legacy': False\n",
        "      },\n",
        "      'to': {\n",
        "        'dataset': {'field': {'name': 'recipe_slug','kind': 'string','description': 'Place where tables will be written in BigQuery.'}},\n",
        "        'view': 'DV360_KPI_Normalized'\n",
        "      }\n",
        "    }\n",
        "  },\n",
        "  {\n",
        "    'census': {\n",
        "      'auth': 'user',\n",
        "      'normalize': {\n",
        "        'census_geography': 'zip_codes',\n",
        "        'census_year': '2018',\n",
        "        'census_span': '5yr'\n",
        "      },\n",
        "      'to': {\n",
        "        'dataset': {'field': {'name': 'recipe_slug','kind': 'string','order': 4,'default': '','description': 'Name of Google BigQuery dataset to create.'}},\n",
        "        'type': 'view'\n",
        "      }\n",
        "    }\n",
        "  },\n",
        "  {\n",
        "    'census': {\n",
        "      'auth': 'user',\n",
        "      'correlate': {\n",
        "        'join': 'Zip',\n",
        "        'pass': [\n",
        "          'Partner_Id',\n",
        "          'Partner',\n",
        "          'Advertiser_Id',\n",
        "          'Advertiser',\n",
        "          'Campaign_Id',\n",
        "          'Campaign'\n",
        "        ],\n",
        "        'sum': [\n",
        "          'Impressions'\n",
        "        ],\n",
        "        'correlate': [\n",
        "          'Impression_Percent',\n",
        "          'Click_Percent',\n",
        "          'Conversion_Percent'\n",
        "        ],\n",
        "        'dataset': {'field': {'name': 'recipe_slug','kind': 'string','order': 4,'default': '','description': 'Name of Google BigQuery dataset to create.'}},\n",
        "        'table': 'DV360_KPI_Normalized',\n",
        "        'significance': 80\n",
        "      },\n",
        "      'to': {\n",
        "        'dataset': {'field': {'name': 'recipe_slug','kind': 'string','order': 4,'default': '','description': 'Name of Google BigQuery dataset to create.'}},\n",
        "        'type': 'view'\n",
        "      }\n",
        "    }\n",
        "  }\n",
        "]\n",
        "\n",
        "json_set_fields(TASKS, FIELDS)\n",
        "\n",
        "project.initialize(_recipe={ 'tasks':TASKS }, _project=CLOUD_PROJECT, _user=USER_CREDENTIALS, _client=CLIENT_CREDENTIALS, _verbose=True, _force=True)\n",
        "project.execute(_force=True)\n"
      ]
    }
  ]
}
