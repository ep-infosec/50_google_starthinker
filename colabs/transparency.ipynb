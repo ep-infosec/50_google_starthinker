{
  "nbformat": 4,
  "nbformat_minor": 0,
  "metadata": {
    "colab": {
      "name": "CM360 Domain And App Transparency",
      "toc_visible": true
    },
    "kernelspec": {
      "name": "python3",
      "display_name": "Python 3"
    }
  },
  "cells": [
    {
      "cell_type": "markdown",
      "metadata": {
        "id": "f5e858b30001"
      },
      "source": [
        "#CM360 Domain And App Transparency\n",
        "Reports the percentage of CM impressions that can be attributed to a specific domain or application.  Allows diagnostic of which domains and apps are misconfigured by publisher resulting in underreporting.\n"
      ]
    },
    {
      "cell_type": "markdown",
      "metadata": {
        "id": "f5e858b30002"
      },
      "source": [
        "#License\n",
        "\n",
        "Copyright 2020 Google LLC,\n",
        "\n",
        "Licensed under the Apache License, Version 2.0 (the \"License\");\n",
        "you may not use this file except in compliance with the License.\n",
        "You may obtain a copy of the License at\n",
        "\n",
        "  https://www.apache.org/licenses/LICENSE-2.0\n",
        "\n",
        "Unless required by applicable law or agreed to in writing, software\n",
        "distributed under the License is distributed on an \"AS IS\" BASIS,\n",
        "WITHOUT WARRANTIES OR CONDITIONS OF ANY KIND, either express or implied.\n",
        "See the License for the specific language governing permissions and\n",
        "limitations under the License.\n",
        "\n"
      ]
    },
    {
      "cell_type": "markdown",
      "metadata": {
        "id": "f5e858b30003"
      },
      "source": [
        "#Disclaimer\n",
        "This is not an officially supported Google product. It is a reference implementation. There is absolutely NO WARRANTY provided for using this code. The code is Apache Licensed and CAN BE fully modified, white labeled, and disassembled by your team.\n",
        "\n",
        "This code generated (see starthinker/scripts for possible source):\n",
        "  - **Command**: \"python starthinker_ui/manage.py colab\"\n",
        "  - **Command**: \"python starthinker/tools/colab.py [JSON RECIPE]\"\n",
        "\n"
      ]
    },
    {
      "cell_type": "markdown",
      "metadata": {
        "id": "f5e858b30004"
      },
      "source": [
        "#1. Install Dependencies\n",
        "First install the libraries needed to execute recipes, this only needs to be done once, then click play.\n"
      ]
    },
    {
      "cell_type": "code",
      "execution_count": null,
      "outputs": [],
      "metadata": {
        "id": "f5e858b30005"
      },
      "source": [
        "!pip install git+https://github.com/google/starthinker\n"
      ]
    },
    {
      "cell_type": "markdown",
      "metadata": {
        "id": "f5e858b30006"
      },
      "source": [
        "#2. Set Configuration\n",
        "\n",
        "This code is required to initialize the project. Fill in required fields and press play.\n",
        "\n",
        "1. If the recipe uses a Google Cloud Project:\n",
        "  - Set the configuration **project** value to the project identifier from [these instructions](https://github.com/google/starthinker/blob/master/tutorials/cloud_project.md).\n",
        "\n",
        "1. If the recipe has **auth** set to **user**:\n",
        "  - If you have user credentials:\n",
        "    - Set the configuration **user** value to your user credentials JSON.\n",
        "  - If you DO NOT have user credentials:\n",
        "    - Set the configuration **client** value to [downloaded client credentials](https://github.com/google/starthinker/blob/master/tutorials/cloud_client_installed.md).\n",
        "\n",
        "1. If the recipe has **auth** set to **service**:\n",
        "  - Set the configuration **service** value to [downloaded service credentials](https://github.com/google/starthinker/blob/master/tutorials/cloud_service.md).\n",
        "\n"
      ]
    },
    {
      "cell_type": "code",
      "execution_count": null,
      "outputs": [],
      "metadata": {
        "id": "f5e858b30007"
      },
      "source": [
        "from starthinker.util.configuration import Configuration\n",
        "\n",
        "\n",
        "CONFIG = Configuration(\n",
        "  project=\"\",\n",
        "  client={},\n",
        "  service={},\n",
        "  user=\"/content/user.json\",\n",
        "  verbose=True\n",
        ")\n",
        "\n"
      ]
    },
    {
      "cell_type": "markdown",
      "metadata": {
        "id": "f5e858b30008"
      },
      "source": [
        "#3. Enter CM360 Domain And App Transparency Recipe Parameters\n",
        " 1. Wait for [BigQuery :  :  : ](https://console.cloud.google.com/bigquery?project=&d=) to be created.\n",
        " 1. Copy DataStudio [Transparency Combined KPI](https://datastudio.google.com/c/u/0/datasources/1Az6d9loAHo69GSIyKUfusrtyf_IDqTVs) and connect.\n",
        " 1. Copy DataStudio [Transparency Breakdown](https://datastudio.google.com/c/u/0/reporting/1foircGRxgYCL_PR8gfdmYOleBacnPKwB/page/QCXj).\n",
        " 1. When prompted choose the new data source you just created.\n",
        " 1. Or give these intructions to the client, they will have to join the [StarThinker Assets Group](https://groups.google.com/d/forum/starthinker-assets).\n",
        "Modify the values below for your use case, can be done multiple times, then click play.\n"
      ]
    },
    {
      "cell_type": "code",
      "execution_count": null,
      "outputs": [],
      "metadata": {
        "id": "f5e858b30009"
      },
      "source": [
        "FIELDS = {\n",
        "  'recipe_slug':'',  # Place where tables will be written in BigQuery.\n",
        "  'recipe_name':'',  # Name of report in CM, should be unique.\n",
        "  'dcm_account':'',  # CM account id of client.\n",
        "  'dcm_advertisers':'',  # Comma delimited list of CM advertiser ids.\n",
        "}\n",
        "\n",
        "print(\"Parameters Set To: %s\" % FIELDS)\n"
      ]
    },
    {
      "cell_type": "markdown",
      "metadata": {
        "id": "f5e858b30010"
      },
      "source": [
        "#4. Execute CM360 Domain And App Transparency\n",
        "This does NOT need to be modified unless you are changing the recipe, click play.\n"
      ]
    },
    {
      "cell_type": "code",
      "execution_count": null,
      "outputs": [],
      "metadata": {
        "id": "f5e858b30011"
      },
      "source": [
        "from starthinker.util.configuration import execute\n",
        "from starthinker.util.recipe import json_set_fields\n",
        "\n",
        "TASKS = [\n",
        "  {\n",
        "    'dataset':{\n",
        "      'hour':[\n",
        "        1\n",
        "      ],\n",
        "      'auth':'service',\n",
        "      'dataset':{'field':{'name':'recipe_slug','kind':'string','order':1,'default':'','description':'Name of Google BigQuery dataset to create.'}}\n",
        "    }\n",
        "  },\n",
        "  {\n",
        "    'dcm':{\n",
        "      'hour':[\n",
        "        2\n",
        "      ],\n",
        "      'auth':'user',\n",
        "      'report':{\n",
        "        'account':{'field':{'name':'dcm_account','kind':'integer','order':2,'default':'','description':'CM account id of client.'}},\n",
        "        'filters':{\n",
        "          'advertiser':{\n",
        "            'values':{'field':{'name':'dcm_advertisers','kind':'integer_list','order':3,'description':'Comma delimited list of CM advertiser ids.'}}\n",
        "          }\n",
        "        },\n",
        "        'body':{\n",
        "          'type':'STANDARD',\n",
        "          'format':'CSV',\n",
        "          'name':{'field':{'name':'recipe_name','kind':'string','prefix':'Transparency App For ','description':'Name of report in CM, unique.'}},\n",
        "          'criteria':{\n",
        "            'dateRange':{\n",
        "              'relativeDateRange':'PREVIOUS_MONTH'\n",
        "            },\n",
        "            'dimensions':[\n",
        "              {\n",
        "                'name':'advertiser'\n",
        "              },\n",
        "              {\n",
        "                'name':'advertiserId'\n",
        "              },\n",
        "              {\n",
        "                'name':'campaign'\n",
        "              },\n",
        "              {\n",
        "                'name':'campaignId'\n",
        "              },\n",
        "              {\n",
        "                'name':'siteId'\n",
        "              },\n",
        "              {\n",
        "                'name':'site'\n",
        "              },\n",
        "              {\n",
        "                'name':'adType'\n",
        "              },\n",
        "              {\n",
        "                'name':'environment'\n",
        "              },\n",
        "              {\n",
        "                'name':'appId'\n",
        "              },\n",
        "              {\n",
        "                'name':'app'\n",
        "              }\n",
        "            ],\n",
        "            'metricNames':[\n",
        "              'impressions'\n",
        "            ]\n",
        "          },\n",
        "          'schedule':{\n",
        "            'active':True,\n",
        "            'every':1,\n",
        "            'repeats':'MONTHLY',\n",
        "            'runsOnDayOfMonth':'DAY_OF_MONTH'\n",
        "          }\n",
        "        }\n",
        "      }\n",
        "    }\n",
        "  },\n",
        "  {\n",
        "    'dcm':{\n",
        "      'hour':[\n",
        "        2\n",
        "      ],\n",
        "      'auth':'user',\n",
        "      'report':{\n",
        "        'account':{'field':{'name':'dcm_account','kind':'integer','order':2,'default':'','description':'CM account id of client.'}},\n",
        "        'filters':{\n",
        "          'advertiser':{\n",
        "            'values':{'field':{'name':'dcm_advertisers','kind':'integer_list','order':3,'description':'Comma delimited list of CM advertiser ids.'}}\n",
        "          }\n",
        "        },\n",
        "        'body':{\n",
        "          'type':'STANDARD',\n",
        "          'format':'CSV',\n",
        "          'name':{'field':{'name':'recipe_name','kind':'string','prefix':'Transparency Domain For ','description':'Name of report in CM, unique.'}},\n",
        "          'criteria':{\n",
        "            'dateRange':{\n",
        "              'relativeDateRange':'PREVIOUS_MONTH'\n",
        "            },\n",
        "            'dimensions':[\n",
        "              {\n",
        "                'name':'advertiser'\n",
        "              },\n",
        "              {\n",
        "                'name':'advertiserId'\n",
        "              },\n",
        "              {\n",
        "                'name':'campaign'\n",
        "              },\n",
        "              {\n",
        "                'name':'campaignId'\n",
        "              },\n",
        "              {\n",
        "                'name':'site'\n",
        "              },\n",
        "              {\n",
        "                'name':'siteId'\n",
        "              },\n",
        "              {\n",
        "                'name':'adType'\n",
        "              },\n",
        "              {\n",
        "                'name':'domain'\n",
        "              }\n",
        "            ],\n",
        "            'metricNames':[\n",
        "              'verificationVerifiableImpressions'\n",
        "            ]\n",
        "          },\n",
        "          'schedule':{\n",
        "            'active':True,\n",
        "            'every':1,\n",
        "            'repeats':'MONTHLY',\n",
        "            'runsOnDayOfMonth':'DAY_OF_MONTH'\n",
        "          }\n",
        "        }\n",
        "      }\n",
        "    }\n",
        "  },\n",
        "  {\n",
        "    'dcm':{\n",
        "      'hour':[\n",
        "        4\n",
        "      ],\n",
        "      'auth':'user',\n",
        "      'report':{\n",
        "        'account':{'field':{'name':'dcm_account','kind':'integer','order':2,'default':'','description':'CM account id of client.'}},\n",
        "        'name':{'field':{'name':'recipe_name','kind':'string','prefix':'Transparency Domain For ','description':'Name of report in CM, should be unique.'}}\n",
        "      },\n",
        "      'out':{\n",
        "        'bigquery':{\n",
        "          'auth':'service',\n",
        "          'dataset':{'field':{'name':'recipe_slug','kind':'string','order':1,'default':'','description':'Name of Google BigQuery dataset to create.'}},\n",
        "          'table':'Transparency_Domain_KPI'\n",
        "        }\n",
        "      }\n",
        "    }\n",
        "  },\n",
        "  {\n",
        "    'dcm':{\n",
        "      'hour':[\n",
        "        4\n",
        "      ],\n",
        "      'auth':'user',\n",
        "      'report':{\n",
        "        'account':{'field':{'name':'dcm_account','kind':'integer','order':2,'default':'','description':'CM account id of client.'}},\n",
        "        'name':{'field':{'name':'recipe_name','kind':'string','prefix':'Transparency App For ','description':'Name of report in CM, should be unique.'}}\n",
        "      },\n",
        "      'out':{\n",
        "        'bigquery':{\n",
        "          'auth':'service',\n",
        "          'dataset':{'field':{'name':'recipe_slug','kind':'string','order':1,'default':'','description':'Name of Google BigQuery dataset to create.'}},\n",
        "          'table':'Transparency_App_KPI'\n",
        "        }\n",
        "      }\n",
        "    }\n",
        "  },\n",
        "  {\n",
        "    'bigquery':{\n",
        "      'hour':[\n",
        "        5\n",
        "      ],\n",
        "      'auth':'user',\n",
        "      'to':{\n",
        "        'dataset':{'field':{'name':'recipe_slug','kind':'string','order':1,'default':'','description':'Name of Google BigQuery dataset to create.'}},\n",
        "        'view':'Transparency_Combined_KPI'\n",
        "      },\n",
        "      'from':{\n",
        "        'query':\"WITH           Transparent_Domains AS (             SELECT               CONCAT(Advertiser, ' - ', CAST(Advertiser_Id AS STRING)) AS Advertiser,               CONCAT(Campaign, ' - ', CAST(Campaign_Id AS STRING)) AS Campaign,               CONCAT(Site_Cm360, ' - ', CAST(Site_Id_Cm360 AS STRING)) AS Site,               Domain,               Ad_Type,               Verifiable_Impressions AS Impressions,               IF(Domain IS NOT NULL, Verifiable_Impressions, 0) AS Visible_Impressions,               IF(Domain IS NULL, Verifiable_Impressions, 0) AS Null_Impressions             FROM `{dataset}.Transparency_Domain_KPI`           ),           Transparent_Apps AS (             SELECT               CONCAT(Advertiser, ' - ', CAST(Advertiser_Id AS STRING)) AS Advertiser,               CONCAT(Campaign, ' - ', CAST(Campaign_Id AS STRING)) AS Campaign,               CONCAT(Site_Cm360, ' - ', CAST(Site_Id_Cm360 AS STRING)) AS Site,               /*If(App IS NOT NULL, CONCAT(App, ' - ', CAST(App_Id AS STRING)), App_Id) AS App, */               CASE                 WHEN App IS NOT NULL THEN CONCAT(App, ' - ', CAST(App_Id AS STRING))                 WHEN App_Id IS NOT NULL THEN App_Id                 ELSE NULL               END AS App,               Ad_Type,               Impressions,               IF(App IS NOT NULL OR App_ID IS NOT NULL, Impressions, 0) AS Visible_Impressions,               IF(App IS NULL AND App_Id IS NULL, Impressions, 0) AS Null_Impressions             FROM `{dataset}.Transparency_App_KPI`  WHERE Environment = 'App'           ),           Domains_And_Apps AS (             SELECT               TD.Advertiser,               TD.Campaign,               TD.Site,               TD.Ad_Type,               TD.Domain,               TD.Impressions AS Domain_Impressions,               TD.Visible_Impressions AS Domain_Visible_Impressions,               TD.Null_Impressions AS Domain_Null_Impressions,               NULL AS App,               0 AS App_Impressions,               0 AS App_Visible_Impressions,               0 AS App_Null_Impressions  FROM Transparent_Domains AS TD  UNION ALL  SELECT               TA.Advertiser,               TA.Campaign,               TA.Site,               TA.Ad_Type,               NULL AS Domain,               0 AS Domain_Impressions,               0 AS Domain_Visible_Impressions,               0 AS Domain_Null_Impressions,               TA.App,               TA.Impressions AS App_Impressions,               TA.Visible_Impressions AS App_Visible_Impressions,               TA.Null_Impressions AS App_Null_Impressions             FROM Transparent_Apps AS TA           )           SELECT             Advertiser,             Campaign,             Site,             COALESCE(Domain, App, '') AS Domain_Or_App,             Ad_Type,             CASE               WHEN App IS NOT NULL AND Domain IS NOT NULL THEN 'Both' /* SHOULD NOT HAPPEN */               WHEN App IS NOT NULL THEN 'App'               WHEN Domain IS NOT NULL Then 'Domain'               ELSE 'Neither'             END AS Category,             SUM(Domain_Impressions) AS Domain_Impressions,             SUM(Domain_Visible_Impressions) AS Domain_Visible_Impressions,             SUM(Domain_Null_Impressions) AS Domain_Null_Impressions,             SUM(App_Impressions) AS App_Impressions,             SUM(App_Visible_Impressions) AS App_Visible_Impressions,             SUM(App_Null_Impressions) AS App_Null_Impressions,             SUM(App_Impressions + Domain_Impressions) AS Impressions             /* Could also be MAX as its always one or the other*/           FROM Domains_And_Apps  GROUP By 1,2,3,4,5,6\",\n",
        "        'parameters':{\n",
        "          'dataset':{'field':{'name':'recipe_slug','kind':'string','description':'Place where tables will be written in BigQuery.'}}\n",
        "        },\n",
        "        'legacy':False\n",
        "      }\n",
        "    }\n",
        "  }\n",
        "]\n",
        "\n",
        "json_set_fields(TASKS, FIELDS)\n",
        "\n",
        "execute(CONFIG, TASKS, force=True)\n"
      ]
    }
  ]
}
