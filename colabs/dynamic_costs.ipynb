{
  "nbformat": 4,
  "nbformat_minor": 0,
  "metadata": {
    "colab": {
      "name": "Dynamic Costs Reporting",
      "toc_visible": true
    },
    "kernelspec": {
      "name": "python3",
      "display_name": "Python 3"
    }
  },
  "cells": [
    {
      "cell_type": "markdown",
      "metadata": {
        "id": "b1e021ef0001"
      },
      "source": [
        "#Dynamic Costs Reporting\n",
        "Calculate DV360 cost at the dynamic creative combination level.\n"
      ]
    },
    {
      "cell_type": "markdown",
      "metadata": {
        "id": "b1e021ef0002"
      },
      "source": [
        "#License\n",
        "\n",
        "Copyright 2020 Google LLC,\n",
        "\n",
        "Licensed under the Apache License, Version 2.0 (the \"License\");\n",
        "you may not use this file except in compliance with the License.\n",
        "You may obtain a copy of the License at\n",
        "\n",
        "  https://www.apache.org/licenses/LICENSE-2.0\n",
        "\n",
        "Unless required by applicable law or agreed to in writing, software\n",
        "distributed under the License is distributed on an \"AS IS\" BASIS,\n",
        "WITHOUT WARRANTIES OR CONDITIONS OF ANY KIND, either express or implied.\n",
        "See the License for the specific language governing permissions and\n",
        "limitations under the License.\n",
        "\n"
      ]
    },
    {
      "cell_type": "markdown",
      "metadata": {
        "id": "b1e021ef0003"
      },
      "source": [
        "#Disclaimer\n",
        "This is not an officially supported Google product. It is a reference implementation. There is absolutely NO WARRANTY provided for using this code. The code is Apache Licensed and CAN BE fully modified, white labeled, and disassembled by your team.\n",
        "\n",
        "This code generated (see starthinker/scripts for possible source):\n",
        "  - **Command**: \"python starthinker_ui/manage.py colab\"\n",
        "  - **Command**: \"python starthinker/tools/colab.py [JSON RECIPE]\"\n",
        "\n"
      ]
    },
    {
      "cell_type": "markdown",
      "metadata": {
        "id": "b1e021ef0004"
      },
      "source": [
        "#1. Install Dependencies\n",
        "First install the libraries needed to execute recipes, this only needs to be done once, then click play.\n"
      ]
    },
    {
      "cell_type": "code",
      "execution_count": null,
      "outputs": [],
      "metadata": {
        "id": "b1e021ef0005"
      },
      "source": [
        "!pip install git+https://github.com/google/starthinker\n"
      ]
    },
    {
      "cell_type": "markdown",
      "metadata": {
        "id": "b1e021ef0006"
      },
      "source": [
        "#2. Set Configuration\n",
        "\n",
        "This code is required to initialize the project. Fill in required fields and press play.\n",
        "\n",
        "1. If the recipe uses a Google Cloud Project:\n",
        "  - Set the configuration **project** value to the project identifier from [these instructions](https://github.com/google/starthinker/blob/master/tutorials/cloud_project.md).\n",
        "\n",
        "1. If the recipe has **auth** set to **user**:\n",
        "  - If you have user credentials:\n",
        "    - Set the configuration **user** value to your user credentials JSON.\n",
        "  - If you DO NOT have user credentials:\n",
        "    - Set the configuration **client** value to [downloaded client credentials](https://github.com/google/starthinker/blob/master/tutorials/cloud_client_installed.md).\n",
        "\n",
        "1. If the recipe has **auth** set to **service**:\n",
        "  - Set the configuration **service** value to [downloaded service credentials](https://github.com/google/starthinker/blob/master/tutorials/cloud_service.md).\n",
        "\n"
      ]
    },
    {
      "cell_type": "code",
      "execution_count": null,
      "outputs": [],
      "metadata": {
        "id": "b1e021ef0007"
      },
      "source": [
        "from starthinker.util.configuration import Configuration\n",
        "\n",
        "\n",
        "CONFIG = Configuration(\n",
        "  project=\"\",\n",
        "  client={},\n",
        "  service={},\n",
        "  user=\"/content/user.json\",\n",
        "  verbose=True\n",
        ")\n",
        "\n"
      ]
    },
    {
      "cell_type": "markdown",
      "metadata": {
        "id": "b1e021ef0008"
      },
      "source": [
        "#3. Enter Dynamic Costs Reporting Recipe Parameters\n",
        " 1. Add a sheet URL. This is where you will enter advertiser and campaign level details.\n",
        " 1. Specify the CM network ID.\n",
        " 1. Click run now once, and a tab called **Dynamic Costs** will be added to the sheet with instructions.\n",
        " 1. Follow the instructions on the sheet; this will be your configuration.\n",
        " 1. StarThinker will create two or three (depending on the case) reports in CM named **Dynamic Costs - ...**.\n",
        " 1. Wait for **BigQuery->->->Dynamic_Costs_Analysis** to be created or click Run Now.\n",
        " 1. Copy [Dynamic Costs Sample Data](https://datastudio.google.com/open/1vBvBEiMbqCbBuJTsBGpeg8vCLtg6ztqA).\n",
        " 1. Click Edit Connection, and Change to **BigQuery->->->Dynamic_Costs_Analysis**.\n",
        " 1. Copy [Dynamic Costs Sample Report](https://datastudio.google.com/open/1xulBAdx95SnvjnUzFP6r14lhkvvVbsP8).\n",
        " 1. When prompted, choose the new data source you just created.\n",
        " 1. Edit the table to include or exclude columns as desired.\n",
        " 1. Or, give the dashboard connection intructions to the client.\n",
        "Modify the values below for your use case, can be done multiple times, then click play.\n"
      ]
    },
    {
      "cell_type": "code",
      "execution_count": null,
      "outputs": [],
      "metadata": {
        "id": "b1e021ef0009"
      },
      "source": [
        "FIELDS = {\n",
        "  'dcm_account':'',\n",
        "  'auth_read':'user',  # Credentials used for reading data.\n",
        "  'configuration_sheet_url':'',\n",
        "  'auth_write':'service',  # Credentials used for writing data.\n",
        "  'bigquery_dataset':'dynamic_costs',\n",
        "}\n",
        "\n",
        "print(\"Parameters Set To: %s\" % FIELDS)\n"
      ]
    },
    {
      "cell_type": "markdown",
      "metadata": {
        "id": "b1e021ef0010"
      },
      "source": [
        "#4. Execute Dynamic Costs Reporting\n",
        "This does NOT need to be modified unless you are changing the recipe, click play.\n"
      ]
    },
    {
      "cell_type": "code",
      "execution_count": null,
      "outputs": [],
      "metadata": {
        "id": "b1e021ef0011"
      },
      "source": [
        "from starthinker.util.configuration import execute\n",
        "from starthinker.util.recipe import json_set_fields\n",
        "\n",
        "TASKS = [\n",
        "  {\n",
        "    'dynamic_costs':{\n",
        "      'auth':{'field':{'name':'auth_read','kind':'authentication','order':1,'default':'user','description':'Credentials used for reading data.'}},\n",
        "      'account':{'field':{'name':'dcm_account','kind':'string','order':0,'default':''}},\n",
        "      'sheet':{\n",
        "        'template':{\n",
        "          'url':'https://docs.google.com/spreadsheets/d/19J-Hjln2wd1E0aeG3JDgKQN9TVGRLWxIEUQSmmQetJc/edit?usp=sharing',\n",
        "          'tab':'Dynamic Costs',\n",
        "          'range':'A1'\n",
        "        },\n",
        "        'url':{'field':{'name':'configuration_sheet_url','kind':'string','order':1,'default':''}},\n",
        "        'tab':'Dynamic Costs',\n",
        "        'range':'A2:B'\n",
        "      },\n",
        "      'out':{\n",
        "        'auth':{'field':{'name':'auth_write','kind':'authentication','order':1,'default':'service','description':'Credentials used for writing data.'}},\n",
        "        'dataset':{'field':{'name':'bigquery_dataset','kind':'string','order':2,'default':'dynamic_costs'}}\n",
        "      }\n",
        "    }\n",
        "  }\n",
        "]\n",
        "\n",
        "json_set_fields(TASKS, FIELDS)\n",
        "\n",
        "execute(CONFIG, TASKS, force=True)\n"
      ]
    }
  ]
}
