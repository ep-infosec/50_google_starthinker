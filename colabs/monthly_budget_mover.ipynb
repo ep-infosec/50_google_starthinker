{
  "nbformat": 4,
  "nbformat_minor": 0,
  "metadata": {
    "colab": {
      "name": "DV360 Monthly Budget Mover",
      "toc_visible": true
    },
    "kernelspec": {
      "name": "python3",
      "display_name": "Python 3"
    }
  },
  "cells": [
    {
      "cell_type": "markdown",
      "metadata": {
        "id": "f53babc40001"
      },
      "source": [
        "#DV360 Monthly Budget Mover\n",
        "Apply the previous month's budget/spend delta to the current month.  Aggregate up the budget and spend from the previous month of each category declared then apply the delta of the spend and budget equally to each Line Item under that Category.\n"
      ]
    },
    {
      "cell_type": "markdown",
      "metadata": {
        "id": "f53babc40002"
      },
      "source": [
        "#License\n",
        "\n",
        "Copyright 2020 Google LLC,\n",
        "\n",
        "Licensed under the Apache License, Version 2.0 (the \"License\");\n",
        "you may not use this file except in compliance with the License.\n",
        "You may obtain a copy of the License at\n",
        "\n",
        "  https://www.apache.org/licenses/LICENSE-2.0\n",
        "\n",
        "Unless required by applicable law or agreed to in writing, software\n",
        "distributed under the License is distributed on an \"AS IS\" BASIS,\n",
        "WITHOUT WARRANTIES OR CONDITIONS OF ANY KIND, either express or implied.\n",
        "See the License for the specific language governing permissions and\n",
        "limitations under the License.\n",
        "\n"
      ]
    },
    {
      "cell_type": "markdown",
      "metadata": {
        "id": "f53babc40003"
      },
      "source": [
        "#Disclaimer\n",
        "This is not an officially supported Google product. It is a reference implementation. There is absolutely NO WARRANTY provided for using this code. The code is Apache Licensed and CAN BE fully modified, white labeled, and disassembled by your team.\n",
        "\n",
        "This code generated (see starthinker/scripts for possible source):\n",
        "  - **Command**: \"python starthinker_ui/manage.py colab\"\n",
        "  - **Command**: \"python starthinker/tools/colab.py [JSON RECIPE]\"\n",
        "\n"
      ]
    },
    {
      "cell_type": "markdown",
      "metadata": {
        "id": "f53babc40004"
      },
      "source": [
        "#1. Install Dependencies\n",
        "First install the libraries needed to execute recipes, this only needs to be done once, then click play.\n"
      ]
    },
    {
      "cell_type": "code",
      "execution_count": null,
      "outputs": [],
      "metadata": {
        "id": "f53babc40005"
      },
      "source": [
        "!pip install git+https://github.com/google/starthinker\n"
      ]
    },
    {
      "cell_type": "markdown",
      "metadata": {
        "id": "f53babc40006"
      },
      "source": [
        "#2. Set Configuration\n",
        "\n",
        "This code is required to initialize the project. Fill in required fields and press play.\n",
        "\n",
        "1. If the recipe uses a Google Cloud Project:\n",
        "  - Set the configuration **project** value to the project identifier from [these instructions](https://github.com/google/starthinker/blob/master/tutorials/cloud_project.md).\n",
        "\n",
        "1. If the recipe has **auth** set to **user**:\n",
        "  - If you have user credentials:\n",
        "    - Set the configuration **user** value to your user credentials JSON.\n",
        "  - If you DO NOT have user credentials:\n",
        "    - Set the configuration **client** value to [downloaded client credentials](https://github.com/google/starthinker/blob/master/tutorials/cloud_client_installed.md).\n",
        "\n",
        "1. If the recipe has **auth** set to **service**:\n",
        "  - Set the configuration **service** value to [downloaded service credentials](https://github.com/google/starthinker/blob/master/tutorials/cloud_service.md).\n",
        "\n"
      ]
    },
    {
      "cell_type": "code",
      "execution_count": null,
      "outputs": [],
      "metadata": {
        "id": "f53babc40007"
      },
      "source": [
        "from starthinker.util.configuration import Configuration\n",
        "\n",
        "\n",
        "CONFIG = Configuration(\n",
        "  project=\"\",\n",
        "  client={},\n",
        "  service={},\n",
        "  user=\"/content/user.json\",\n",
        "  verbose=True\n",
        ")\n",
        "\n"
      ]
    },
    {
      "cell_type": "markdown",
      "metadata": {
        "id": "f53babc40008"
      },
      "source": [
        "#3. Enter DV360 Monthly Budget Mover Recipe Parameters\n",
        " 1. No changes made can be made in DV360 from the start to the end of this process\n",
        " 1. Make sure there is budget information for the current and previous month's IOs in DV360\n",
        " 1. Make sure the provided spend report has spend data for every IO in the previous month\n",
        " 1. Spend report must contain 'Revenue (Adv Currency)' and 'Insertion Order ID'\n",
        " 1. There are no duplicate IO Ids in the categories outlined below\n",
        " 1. This process must be ran during the month of the budget it is updating\n",
        " 1. If you receive a 502 error then you must separate your jobs into two, because there is too much information being pulled in the sdf\n",
        " 1. Manually run this job\n",
        " 1. Once the job has completed go to the table for the new sdf and export to a csv\n",
        " 1. Take the new sdf and upload it into DV360\n",
        "Modify the values below for your use case, can be done multiple times, then click play.\n"
      ]
    },
    {
      "cell_type": "code",
      "execution_count": null,
      "outputs": [],
      "metadata": {
        "id": "f53babc40009"
      },
      "source": [
        "FIELDS = {\n",
        "  'recipe_timezone':'America/Los_Angeles',  # Timezone for report dates.\n",
        "  'recipe_name':'',  # Table to write to.\n",
        "  'auth_write':'service',  # Credentials used for writing data.\n",
        "  'auth_read':'user',  # Credentials used for reading data.\n",
        "  'partner_id':'',  # The sdf file types.\n",
        "  'budget_categories':'{}',  # A dictionary to show which IO Ids go under which Category. {\"CATEGORY1\":[12345,12345,12345], \"CATEGORY2\":[12345,12345]}\n",
        "  'filter_ids':[],  # Comma separated list of filter ids for the request.\n",
        "  'excluded_ios':'',  # A comma separated list of Inserion Order Ids that should be exluded from the budget calculations\n",
        "  'version':'5',  # The sdf version to be returned.\n",
        "  'is_colab':True,  # Are you running this in Colab? (This will store the files in Colab instead of Bigquery)\n",
        "  'dataset':'',  # Dataset that you would like your output tables to be produced in.\n",
        "}\n",
        "\n",
        "print(\"Parameters Set To: %s\" % FIELDS)\n"
      ]
    },
    {
      "cell_type": "markdown",
      "metadata": {
        "id": "f53babc40010"
      },
      "source": [
        "#4. Execute DV360 Monthly Budget Mover\n",
        "This does NOT need to be modified unless you are changing the recipe, click play.\n"
      ]
    },
    {
      "cell_type": "code",
      "execution_count": null,
      "outputs": [],
      "metadata": {
        "id": "f53babc40011"
      },
      "source": [
        "from starthinker.util.configuration import execute\n",
        "from starthinker.util.recipe import json_set_fields\n",
        "\n",
        "TASKS = [\n",
        "  {\n",
        "    'dataset':{\n",
        "      'description':'Create a dataset where data will be combined and transfored for upload.',\n",
        "      'auth':{'field':{'name':'auth_write','kind':'authentication','order':1,'default':'service','description':'Credentials used for writing data.'}},\n",
        "      'dataset':{'field':{'name':'dataset','kind':'string','order':1,'description':'Place where tables will be created in BigQuery.'}}\n",
        "    }\n",
        "  },\n",
        "  {\n",
        "    'dbm':{\n",
        "      'auth':{'field':{'name':'auth_read','kind':'authentication','order':1,'default':'user','description':'Credentials used for reading data.'}},\n",
        "      'report':{\n",
        "        'timeout':90,\n",
        "        'filters':{\n",
        "          'FILTER_ADVERTISER':{\n",
        "            'values':{'field':{'name':'filter_ids','kind':'integer_list','order':7,'default':'','description':'The comma separated list of Advertiser Ids.'}}\n",
        "          }\n",
        "        },\n",
        "        'body':{\n",
        "          'timezoneCode':{'field':{'name':'recipe_timezone','kind':'timezone','description':'Timezone for report dates.','default':'America/Los_Angeles'}},\n",
        "          'metadata':{\n",
        "            'title':{'field':{'name':'recipe_name','kind':'string','prefix':'Monthly_Budget_Mover_','order':1,'description':'Name of report in DV360, should be unique.'}},\n",
        "            'dataRange':'PREVIOUS_MONTH',\n",
        "            'format':'CSV'\n",
        "          },\n",
        "          'params':{\n",
        "            'type':'TYPE_GENERAL',\n",
        "            'groupBys':[\n",
        "              'FILTER_ADVERTISER_CURRENCY',\n",
        "              'FILTER_INSERTION_ORDER'\n",
        "            ],\n",
        "            'metrics':[\n",
        "              'METRIC_REVENUE_ADVERTISER'\n",
        "            ]\n",
        "          }\n",
        "        }\n",
        "      },\n",
        "      'delete':False\n",
        "    }\n",
        "  },\n",
        "  {\n",
        "    'monthly_budget_mover':{\n",
        "      'auth':'user',\n",
        "      'is_colab':{'field':{'name':'is_colab','kind':'boolean','default':True,'order':7,'description':'Are you running this in Colab? (This will store the files in Colab instead of Bigquery)'}},\n",
        "      'report_name':{'field':{'name':'recipe_name','kind':'string','prefix':'Monthly_Budget_Mover_','order':1,'description':'Name of report in DV360, should be unique.'}},\n",
        "      'budget_categories':{'field':{'name':'budget_categories','kind':'json','order':3,'default':'{}','description':'A dictionary to show which IO Ids go under which Category. {\"CATEGORY1\":[12345,12345,12345], \"CATEGORY2\":[12345,12345]}'}},\n",
        "      'excluded_ios':{'field':{'name':'excluded_ios','kind':'integer_list','order':4,'description':'A comma separated list of Inserion Order Ids that should be exluded from the budget calculations'}},\n",
        "      'sdf':{\n",
        "        'auth':'user',\n",
        "        'version':{'field':{'name':'version','kind':'choice','order':6,'default':'5','description':'The sdf version to be returned.','choices':['SDF_VERSION_5','SDF_VERSION_5_1']}},\n",
        "        'partner_id':{'field':{'name':'partner_id','kind':'integer','order':1,'description':'The sdf file types.'}},\n",
        "        'file_types':'INSERTION_ORDER',\n",
        "        'filter_type':'FILTER_TYPE_ADVERTISER_ID',\n",
        "        'read':{\n",
        "          'filter_ids':{\n",
        "            'single_cell':True,\n",
        "            'values':{'field':{'name':'filter_ids','kind':'integer_list','order':4,'default':[],'description':'Comma separated list of filter ids for the request.'}}\n",
        "          }\n",
        "        },\n",
        "        'time_partitioned_table':False,\n",
        "        'create_single_day_table':False,\n",
        "        'dataset':{'field':{'name':'dataset','kind':'string','order':6,'default':'','description':'Dataset to be written to in BigQuery.'}},\n",
        "        'table_suffix':''\n",
        "      },\n",
        "      'out_old_sdf':{\n",
        "        'bigquery':{\n",
        "          'dataset':{'field':{'name':'dataset','kind':'string','order':8,'default':'','description':'Dataset that you would like your output tables to be produced in.'}},\n",
        "          'table':{'field':{'name':'recipe_name','kind':'string','prefix':'SDF_OLD_','description':'Table to write to.'}},\n",
        "          'schema':[\n",
        "          ],\n",
        "          'skip_rows':0,\n",
        "          'disposition':'WRITE_TRUNCATE'\n",
        "        },\n",
        "        'file':'/content/old_sdf.csv'\n",
        "      },\n",
        "      'out_new_sdf':{\n",
        "        'bigquery':{\n",
        "          'dataset':{'field':{'name':'dataset','kind':'string','order':8,'default':'','description':'Dataset that you would like your output tables to be produced in.'}},\n",
        "          'table':{'field':{'name':'recipe_name','kind':'string','prefix':'SDF_NEW_','description':'Table to write to.'}},\n",
        "          'schema':[\n",
        "          ],\n",
        "          'skip_rows':0,\n",
        "          'disposition':'WRITE_TRUNCATE'\n",
        "        },\n",
        "        'file':'/content/new_sdf.csv'\n",
        "      },\n",
        "      'out_changes':{\n",
        "        'bigquery':{\n",
        "          'dataset':{'field':{'name':'dataset','kind':'string','order':8,'default':'','description':'Dataset that you would like your output tables to be produced in.'}},\n",
        "          'table':{'field':{'name':'recipe_name','kind':'string','prefix':'SDF_BUDGET_MOVER_LOG_','description':'Table to write to.'}},\n",
        "          'schema':[\n",
        "          ],\n",
        "          'skip_rows':0,\n",
        "          'disposition':'WRITE_TRUNCATE'\n",
        "        },\n",
        "        'file':'/content/log.csv'\n",
        "      }\n",
        "    }\n",
        "  }\n",
        "]\n",
        "\n",
        "json_set_fields(TASKS, FIELDS)\n",
        "\n",
        "execute(CONFIG, TASKS, force=True)\n"
      ]
    }
  ]
}
