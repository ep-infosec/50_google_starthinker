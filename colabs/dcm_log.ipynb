{
  "nbformat": 4,
  "nbformat_minor": 0,
  "metadata": {
    "colab": {
      "name": "CM360 Log Audit",
      "toc_visible": true
    },
    "kernelspec": {
      "name": "python3",
      "display_name": "Python 3"
    }
  },
  "cells": [
    {
      "cell_type": "markdown",
      "metadata": {
        "id": "a36e9e200001"
      },
      "source": [
        "#CM360 Log Audit\n",
        "Downloads Campaign manager logs and allows audits.\n"
      ]
    },
    {
      "cell_type": "markdown",
      "metadata": {
        "id": "a36e9e200002"
      },
      "source": [
        "#License\n",
        "\n",
        "Copyright 2020 Google LLC,\n",
        "\n",
        "Licensed under the Apache License, Version 2.0 (the \"License\");\n",
        "you may not use this file except in compliance with the License.\n",
        "You may obtain a copy of the License at\n",
        "\n",
        "  https://www.apache.org/licenses/LICENSE-2.0\n",
        "\n",
        "Unless required by applicable law or agreed to in writing, software\n",
        "distributed under the License is distributed on an \"AS IS\" BASIS,\n",
        "WITHOUT WARRANTIES OR CONDITIONS OF ANY KIND, either express or implied.\n",
        "See the License for the specific language governing permissions and\n",
        "limitations under the License.\n",
        "\n"
      ]
    },
    {
      "cell_type": "markdown",
      "metadata": {
        "id": "a36e9e200003"
      },
      "source": [
        "#Disclaimer\n",
        "This is not an officially supported Google product. It is a reference implementation. There is absolutely NO WARRANTY provided for using this code. The code is Apache Licensed and CAN BE fully modified, white labeled, and disassembled by your team.\n",
        "\n",
        "This code generated (see starthinker/scripts for possible source):\n",
        "  - **Command**: \"python starthinker_ui/manage.py colab\"\n",
        "  - **Command**: \"python starthinker/tools/colab.py [JSON RECIPE]\"\n",
        "\n"
      ]
    },
    {
      "cell_type": "markdown",
      "metadata": {
        "id": "a36e9e200004"
      },
      "source": [
        "#1. Install Dependencies\n",
        "First install the libraries needed to execute recipes, this only needs to be done once, then click play.\n"
      ]
    },
    {
      "cell_type": "code",
      "execution_count": null,
      "outputs": [],
      "metadata": {
        "id": "a36e9e200005"
      },
      "source": [
        "!pip install git+https://github.com/google/starthinker\n"
      ]
    },
    {
      "cell_type": "markdown",
      "metadata": {
        "id": "a36e9e200006"
      },
      "source": [
        "#2. Set Configuration\n",
        "\n",
        "This code is required to initialize the project. Fill in required fields and press play.\n",
        "\n",
        "1. If the recipe uses a Google Cloud Project:\n",
        "  - Set the configuration **project** value to the project identifier from [these instructions](https://github.com/google/starthinker/blob/master/tutorials/cloud_project.md).\n",
        "\n",
        "1. If the recipe has **auth** set to **user**:\n",
        "  - If you have user credentials:\n",
        "    - Set the configuration **user** value to your user credentials JSON.\n",
        "  - If you DO NOT have user credentials:\n",
        "    - Set the configuration **client** value to [downloaded client credentials](https://github.com/google/starthinker/blob/master/tutorials/cloud_client_installed.md).\n",
        "\n",
        "1. If the recipe has **auth** set to **service**:\n",
        "  - Set the configuration **service** value to [downloaded service credentials](https://github.com/google/starthinker/blob/master/tutorials/cloud_service.md).\n",
        "\n"
      ]
    },
    {
      "cell_type": "code",
      "execution_count": null,
      "outputs": [],
      "metadata": {
        "id": "a36e9e200007"
      },
      "source": [
        "from starthinker.util.configuration import Configuration\n",
        "\n",
        "\n",
        "CONFIG = Configuration(\n",
        "  project=\"\",\n",
        "  client={},\n",
        "  service={},\n",
        "  user=\"/content/user.json\",\n",
        "  verbose=True\n",
        ")\n",
        "\n"
      ]
    },
    {
      "cell_type": "markdown",
      "metadata": {
        "id": "a36e9e200008"
      },
      "source": [
        "#3. Enter CM360 Log Audit Recipe Parameters\n",
        " 1. Wait for **BigQuery->->->CM_...** to be created.\n",
        " 1. Wait for **BigQuery->->->Barnacle_...** to be created, then copy and connect the following data sources.\n",
        " 1. Join the [StarThinker Assets Group](https://groups.google.com/d/forum/starthinker-assets) to access the following assets\n",
        " 1. Copy [Barnacle Profile Advertiser Map](https://datastudio.google.com/open/1a6K-XdPUzCYRXZp1ZcmeOUOURc9wn2Jj) and connect.\n",
        " 1. Copy [Barnacle Profile Campaign Map](https://datastudio.google.com/open/1NEzrQWWnPjkD90iUwN-ASKbVBzoeBdoT) and connect.\n",
        " 1. Copy [Barnacle Profile Site Map](https://datastudio.google.com/open/1v_GRaitwPaHHKUzfJZYNBhzotvZ-bR7Y) and connect.\n",
        " 1. Copy [Barnacle Profiles Connections](https://datastudio.google.com/open/14tWlh7yiqzxKJIppMFVOw2MoMtQV_ucE) and connect.\n",
        " 1. Copy [Barnacle Report Delivery Profiles](https://datastudio.google.com/open/1mavjxvHSEPfJq5aW4FYgCXsBCE5rthZG) and connect.\n",
        " 1. Copy [Barnacle Roles Duplicates](https://datastudio.google.com/open/1Azk_Nul-auinf4NnDq8T9fDyiKkUWD7A) and connect.\n",
        " 1. Copy [Barnacle Roles Not Used](https://datastudio.google.com/open/1ogoofpKtqkLwcW9qC_Ju_JvJdIajsjNI) and connect.\n",
        " 1. Copy [Barnacle Site Contacts Profiles](https://datastudio.google.com/open/1xLgZPjOPDtmPyEqYMiMbWwMI8-WTslfj) and connect.\n",
        " 1. If reports checked, copy [Barnacle Profile Report Map](https://datastudio.google.com/open/1-YGDiQPDnk0gD78_QOY5XdTXRlTrLeEq) and connect.\n",
        " 1. Copy [Barnacle Report](https://datastudio.google.com/open/1gjxHm0jUlQUd0jMuxaOlmrl8gOX1kyKT).\n",
        " 1. When prompted choose the new data sources you just created.\n",
        " 1. Or give these intructions to the client.\n",
        "Modify the values below for your use case, can be done multiple times, then click play.\n"
      ]
    },
    {
      "cell_type": "code",
      "execution_count": null,
      "outputs": [],
      "metadata": {
        "id": "a36e9e200009"
      },
      "source": [
        "FIELDS = {\n",
        "  'auth_read':'user',  # Credentials used for reading data.\n",
        "  'auth_write':'service',  # Credentials used for writing data.\n",
        "  'accounts':[],  # Comma separated CM account ids.\n",
        "  'days':7,  # Number of days to backfill the log, works on first run only.\n",
        "  'recipe_slug':'',  # Google BigQuery dataset to create tables in.\n",
        "}\n",
        "\n",
        "print(\"Parameters Set To: %s\" % FIELDS)\n"
      ]
    },
    {
      "cell_type": "markdown",
      "metadata": {
        "id": "a36e9e200010"
      },
      "source": [
        "#4. Execute CM360 Log Audit\n",
        "This does NOT need to be modified unless you are changing the recipe, click play.\n"
      ]
    },
    {
      "cell_type": "code",
      "execution_count": null,
      "outputs": [],
      "metadata": {
        "id": "a36e9e200011"
      },
      "source": [
        "from starthinker.util.configuration import execute\n",
        "from starthinker.util.recipe import json_set_fields\n",
        "\n",
        "TASKS = [\n",
        "  {\n",
        "    'dataset':{\n",
        "      'description':'The dataset will hold log table, Create it exists.',\n",
        "      'hour':[\n",
        "        1\n",
        "      ],\n",
        "      'auth':{'field':{'name':'auth_write','kind':'authentication','order':1,'default':'service','description':'Credentials used for writing data.'}},\n",
        "      'dataset':{'field':{'name':'recipe_slug','kind':'string','order':4,'default':'','description':'Name of Google BigQuery dataset to create.'}}\n",
        "    }\n",
        "  },\n",
        "  {\n",
        "    'dcm_log':{\n",
        "      'description':'Will create tables with format CM_* to hold each endpoint via a call to the API list function. Exclude reports for its own task.',\n",
        "      'hour':[\n",
        "        2\n",
        "      ],\n",
        "      'auth':{'field':{'name':'auth_read','kind':'authentication','order':0,'default':'user','description':'Credentials used for reading data.'}},\n",
        "      'accounts':{\n",
        "        'single_cell':True,\n",
        "        'values':{'field':{'name':'accounts','kind':'integer_list','order':2,'default':[],'description':'Comma separated CM account ids.'}}\n",
        "      },\n",
        "      'days':{'field':{'name':'days','kind':'integer','order':3,'default':7,'description':'Number of days to backfill the log, works on first run only.'}},\n",
        "      'out':{\n",
        "        'auth':{'field':{'name':'auth_write','kind':'authentication','order':1,'default':'service','description':'Credentials used for writing data.'}},\n",
        "        'dataset':{'field':{'name':'recipe_slug','kind':'string','order':5,'default':'','description':'Google BigQuery dataset to create tables in.'}}\n",
        "      }\n",
        "    }\n",
        "  }\n",
        "]\n",
        "\n",
        "json_set_fields(TASKS, FIELDS)\n",
        "\n",
        "execute(CONFIG, TASKS, force=True)\n"
      ]
    }
  ]
}
