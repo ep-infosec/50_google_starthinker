{
  "nbformat": 4,
  "nbformat_minor": 0,
  "metadata": {
    "colab": {
      "name": "DV360 Segmentology",
      "toc_visible": true
    },
    "kernelspec": {
      "name": "python3",
      "display_name": "Python 3"
    }
  },
  "cells": [
    {
      "cell_type": "markdown",
      "metadata": {
        "id": "491711720001"
      },
      "source": [
        "#DV360 Segmentology\n",
        "DV360 funnel analysis using Census data.\n"
      ]
    },
    {
      "cell_type": "markdown",
      "metadata": {
        "id": "491711720002"
      },
      "source": [
        "#License\n",
        "\n",
        "Copyright 2020 Google LLC,\n",
        "\n",
        "Licensed under the Apache License, Version 2.0 (the \"License\");\n",
        "you may not use this file except in compliance with the License.\n",
        "You may obtain a copy of the License at\n",
        "\n",
        "  https://www.apache.org/licenses/LICENSE-2.0\n",
        "\n",
        "Unless required by applicable law or agreed to in writing, software\n",
        "distributed under the License is distributed on an \"AS IS\" BASIS,\n",
        "WITHOUT WARRANTIES OR CONDITIONS OF ANY KIND, either express or implied.\n",
        "See the License for the specific language governing permissions and\n",
        "limitations under the License.\n",
        "\n"
      ]
    },
    {
      "cell_type": "markdown",
      "metadata": {
        "id": "491711720003"
      },
      "source": [
        "#Disclaimer\n",
        "This is not an officially supported Google product. It is a reference implementation. There is absolutely NO WARRANTY provided for using this code. The code is Apache Licensed and CAN BE fully modified, white labeled, and disassembled by your team.\n",
        "\n",
        "This code generated (see starthinker/scripts for possible source):\n",
        "  - **Command**: \"python starthinker_ui/manage.py colab\"\n",
        "  - **Command**: \"python starthinker/tools/colab.py [JSON RECIPE]\"\n",
        "\n"
      ]
    },
    {
      "cell_type": "markdown",
      "metadata": {
        "id": "491711720004"
      },
      "source": [
        "#1. Install Dependencies\n",
        "First install the libraries needed to execute recipes, this only needs to be done once, then click play.\n"
      ]
    },
    {
      "cell_type": "code",
      "execution_count": null,
      "outputs": [],
      "metadata": {
        "id": "491711720005"
      },
      "source": [
        "!pip install git+https://github.com/google/starthinker\n"
      ]
    },
    {
      "cell_type": "markdown",
      "metadata": {
        "id": "491711720006"
      },
      "source": [
        "#2. Set Configuration\n",
        "\n",
        "This code is required to initialize the project. Fill in required fields and press play.\n",
        "\n",
        "1. If the recipe uses a Google Cloud Project:\n",
        "  - Set the configuration **project** value to the project identifier from [these instructions](https://github.com/google/starthinker/blob/master/tutorials/cloud_project.md).\n",
        "\n",
        "1. If the recipe has **auth** set to **user**:\n",
        "  - If you have user credentials:\n",
        "    - Set the configuration **user** value to your user credentials JSON.\n",
        "  - If you DO NOT have user credentials:\n",
        "    - Set the configuration **client** value to [downloaded client credentials](https://github.com/google/starthinker/blob/master/tutorials/cloud_client_installed.md).\n",
        "\n",
        "1. If the recipe has **auth** set to **service**:\n",
        "  - Set the configuration **service** value to [downloaded service credentials](https://github.com/google/starthinker/blob/master/tutorials/cloud_service.md).\n",
        "\n"
      ]
    },
    {
      "cell_type": "code",
      "execution_count": null,
      "outputs": [],
      "metadata": {
        "id": "491711720007"
      },
      "source": [
        "from starthinker.util.configuration import Configuration\n",
        "\n",
        "\n",
        "CONFIG = Configuration(\n",
        "  project=\"\",\n",
        "  client={},\n",
        "  service={},\n",
        "  user=\"/content/user.json\",\n",
        "  verbose=True\n",
        ")\n",
        "\n"
      ]
    },
    {
      "cell_type": "markdown",
      "metadata": {
        "id": "491711720008"
      },
      "source": [
        "#3. Enter DV360 Segmentology Recipe Parameters\n",
        " 1. Wait for **BigQuery->->->Census_Join** to be created.\n",
        " 1. Join the [StarThinker Assets Group](https://groups.google.com/d/forum/starthinker-assets) to access the following assets\n",
        " 1. Copy [DV360 Segmentology Sample](https://datastudio.google.com/c/u/0/reporting/3673497b-f36f-4448-8fb9-3e05ea51842f/). Leave the Data Source as is, you will change it in the next step.\n",
        " 1. Click Edit Connection, and change to **BigQuery->->->Census_Join**.\n",
        " 1. Or give these intructions to the client.\n",
        "Modify the values below for your use case, can be done multiple times, then click play.\n"
      ]
    },
    {
      "cell_type": "code",
      "execution_count": null,
      "outputs": [],
      "metadata": {
        "id": "491711720009"
      },
      "source": [
        "FIELDS = {\n",
        "  'auth_read':'user',  # Credentials used for reading data.\n",
        "  'recipe_timezone':'America/Los_Angeles',  # Timezone for report dates.\n",
        "  'auth_write':'service',  # Authorization used for writing data.\n",
        "  'recipe_name':'',  # Name of report, not needed if ID used.\n",
        "  'date_range':'LAST_365_DAYS',  # Timeframe to run the report for.\n",
        "  'recipe_slug':'',  # Name of Google BigQuery dataset to create.\n",
        "  'partners':[],  # DV360 partner id.\n",
        "  'advertisers':[],  # Comma delimited list of DV360 advertiser ids.\n",
        "}\n",
        "\n",
        "print(\"Parameters Set To: %s\" % FIELDS)\n"
      ]
    },
    {
      "cell_type": "markdown",
      "metadata": {
        "id": "491711720010"
      },
      "source": [
        "#4. Execute DV360 Segmentology\n",
        "This does NOT need to be modified unless you are changing the recipe, click play.\n"
      ]
    },
    {
      "cell_type": "code",
      "execution_count": null,
      "outputs": [],
      "metadata": {
        "id": "491711720011"
      },
      "source": [
        "from starthinker.util.configuration import execute\n",
        "from starthinker.util.recipe import json_set_fields\n",
        "\n",
        "TASKS = [\n",
        "  {\n",
        "    'dataset':{\n",
        "      'description':'Create a dataset for bigquery tables.',\n",
        "      'hour':[\n",
        "        4\n",
        "      ],\n",
        "      'auth':{'field':{'name':'auth_write','kind':'authentication','order':1,'default':'service','description':'Credentials used for writing data.'}},\n",
        "      'dataset':{'field':{'name':'recipe_slug','kind':'string','suffix':'_Segmentology','description':'Place where tables will be created in BigQuery.'}}\n",
        "    }\n",
        "  },\n",
        "  {\n",
        "    'bigquery':{\n",
        "      'auth':{'field':{'name':'auth_write','kind':'authentication','order':1,'default':'service','description':'Credentials used for writing function.'}},\n",
        "      'function':'Pearson Significance Test',\n",
        "      'to':{\n",
        "        'dataset':{'field':{'name':'recipe_slug','kind':'string','suffix':'_Segmentology','order':4,'default':'','description':'Name of Google BigQuery dataset to create.'}}\n",
        "      }\n",
        "    }\n",
        "  },\n",
        "  {\n",
        "    'dbm':{\n",
        "      'auth':{'field':{'name':'auth_read','kind':'authentication','order':0,'default':'user','description':'Credentials used for reading data.'}},\n",
        "      'report':{\n",
        "        'filters':{\n",
        "          'FILTER_PARTNER':{\n",
        "            'values':{'field':{'name':'partners','kind':'integer_list','order':5,'default':[],'description':'DV360 partner id.'}}\n",
        "          },\n",
        "          'FILTER_ADVERTISER':{\n",
        "            'values':{'field':{'name':'advertisers','kind':'integer_list','order':6,'default':[],'description':'Comma delimited list of DV360 advertiser ids.'}}\n",
        "          }\n",
        "        },\n",
        "        'body':{\n",
        "          'timezoneCode':{'field':{'name':'recipe_timezone','kind':'timezone','description':'Timezone for report dates.','default':'America/Los_Angeles'}},\n",
        "          'metadata':{\n",
        "            'title':{'field':{'name':'recipe_name','kind':'string','order':3,'suffix':' Segmentology','default':'','description':'Name of report, not needed if ID used.'}},\n",
        "            'dataRange':{'field':{'name':'date_range','kind':'choice','order':3,'default':'LAST_365_DAYS','choices':['LAST_7_DAYS','LAST_14_DAYS','LAST_30_DAYS','LAST_365_DAYS','LAST_60_DAYS','LAST_7_DAYS','LAST_90_DAYS','MONTH_TO_DATE','PREVIOUS_MONTH','PREVIOUS_QUARTER','PREVIOUS_WEEK','PREVIOUS_YEAR','QUARTER_TO_DATE','WEEK_TO_DATE','YEAR_TO_DATE'],'description':'Timeframe to run the report for.'}},\n",
        "            'format':'CSV'\n",
        "          },\n",
        "          'params':{\n",
        "            'type':'TYPE_CROSS_PARTNER',\n",
        "            'groupBys':[\n",
        "              'FILTER_PARTNER',\n",
        "              'FILTER_PARTNER_NAME',\n",
        "              'FILTER_ADVERTISER',\n",
        "              'FILTER_ADVERTISER_NAME',\n",
        "              'FILTER_MEDIA_PLAN',\n",
        "              'FILTER_MEDIA_PLAN_NAME',\n",
        "              'FILTER_ZIP_POSTAL_CODE'\n",
        "            ],\n",
        "            'metrics':[\n",
        "              'METRIC_BILLABLE_IMPRESSIONS',\n",
        "              'METRIC_CLICKS',\n",
        "              'METRIC_TOTAL_CONVERSIONS'\n",
        "            ]\n",
        "          },\n",
        "          'schedule':{\n",
        "            'frequency':'WEEKLY'\n",
        "          }\n",
        "        }\n",
        "      }\n",
        "    }\n",
        "  },\n",
        "  {\n",
        "    'dbm':{\n",
        "      'auth':{'field':{'name':'auth_read','kind':'authentication','order':0,'default':'user','description':'Credentials used for reading data.'}},\n",
        "      'report':{\n",
        "        'name':{'field':{'name':'recipe_name','kind':'string','order':3,'suffix':' Segmentology','default':'','description':'Name of report, not needed if ID used.'}}\n",
        "      },\n",
        "      'out':{\n",
        "        'bigquery':{\n",
        "          'auth':{'field':{'name':'auth_write','kind':'authentication','order':1,'default':'service','description':'Authorization used for writing data.'}},\n",
        "          'dataset':{'field':{'name':'recipe_slug','kind':'string','suffix':'_Segmentology','order':4,'default':'','description':'Name of Google BigQuery dataset to create.'}},\n",
        "          'table':'DV360_KPI',\n",
        "          'header':True,\n",
        "          'schema':[\n",
        "            {\n",
        "              'name':'Partner_Id',\n",
        "              'type':'INTEGER',\n",
        "              'mode':'REQUIRED'\n",
        "            },\n",
        "            {\n",
        "              'name':'Partner',\n",
        "              'type':'STRING',\n",
        "              'mode':'REQUIRED'\n",
        "            },\n",
        "            {\n",
        "              'name':'Advertiser_Id',\n",
        "              'type':'INTEGER',\n",
        "              'mode':'REQUIRED'\n",
        "            },\n",
        "            {\n",
        "              'name':'Advertiser',\n",
        "              'type':'STRING',\n",
        "              'mode':'REQUIRED'\n",
        "            },\n",
        "            {\n",
        "              'name':'Campaign_Id',\n",
        "              'type':'INTEGER',\n",
        "              'mode':'REQUIRED'\n",
        "            },\n",
        "            {\n",
        "              'name':'Campaign',\n",
        "              'type':'STRING',\n",
        "              'mode':'REQUIRED'\n",
        "            },\n",
        "            {\n",
        "              'name':'Zip',\n",
        "              'type':'STRING',\n",
        "              'mode':'NULLABLE'\n",
        "            },\n",
        "            {\n",
        "              'name':'Impressions',\n",
        "              'type':'FLOAT',\n",
        "              'mode':'NULLABLE'\n",
        "            },\n",
        "            {\n",
        "              'name':'Clicks',\n",
        "              'type':'FLOAT',\n",
        "              'mode':'NULLABLE'\n",
        "            },\n",
        "            {\n",
        "              'name':'Conversions',\n",
        "              'type':'FLOAT',\n",
        "              'mode':'NULLABLE'\n",
        "            }\n",
        "          ]\n",
        "        }\n",
        "      }\n",
        "    }\n",
        "  },\n",
        "  {\n",
        "    'bigquery':{\n",
        "      'auth':{'field':{'name':'auth_write','kind':'authentication','order':1,'default':'service','description':'Authorization used for writing data.'}},\n",
        "      'from':{\n",
        "        'query':'SELECT            Partner_Id,            Partner,            Advertiser_Id,            Advertiser,            Campaign_Id,            Campaign,            Zip,            SAFE_DIVIDE(Impressions, SUM(Impressions) OVER(PARTITION BY Advertiser_Id)) AS Impression,            SAFE_DIVIDE(Clicks, Impressions) AS Click,            SAFE_DIVIDE(Conversions, Impressions) AS Conversion,            Impressions AS Impressions          FROM            `{dataset}.DV360_KPI`;        ',\n",
        "        'parameters':{\n",
        "          'dataset':{'field':{'name':'recipe_slug','kind':'string','suffix':'_Segmentology','description':'Place where tables will be created in BigQuery.'}}\n",
        "        },\n",
        "        'legacy':False\n",
        "      },\n",
        "      'to':{\n",
        "        'dataset':{'field':{'name':'recipe_slug','kind':'string','suffix':'_Segmentology','description':'Place where tables will be written in BigQuery.'}},\n",
        "        'view':'DV360_KPI_Normalized'\n",
        "      }\n",
        "    }\n",
        "  },\n",
        "  {\n",
        "    'census':{\n",
        "      'auth':{'field':{'name':'auth_write','kind':'authentication','order':1,'default':'service','description':'Authorization used for writing data.'}},\n",
        "      'normalize':{\n",
        "        'census_geography':'zip_codes',\n",
        "        'census_year':'2018',\n",
        "        'census_span':'5yr'\n",
        "      },\n",
        "      'to':{\n",
        "        'dataset':{'field':{'name':'recipe_slug','kind':'string','suffix':'_Segmentology','order':4,'default':'','description':'Name of Google BigQuery dataset to create.'}},\n",
        "        'type':'view'\n",
        "      }\n",
        "    }\n",
        "  },\n",
        "  {\n",
        "    'census':{\n",
        "      'auth':{'field':{'name':'auth_write','kind':'authentication','order':1,'default':'service','description':'Authorization used for writing data.'}},\n",
        "      'correlate':{\n",
        "        'join':'Zip',\n",
        "        'pass':[\n",
        "          'Partner_Id',\n",
        "          'Partner',\n",
        "          'Advertiser_Id',\n",
        "          'Advertiser',\n",
        "          'Campaign_Id',\n",
        "          'Campaign'\n",
        "        ],\n",
        "        'sum':[\n",
        "          'Impressions'\n",
        "        ],\n",
        "        'correlate':[\n",
        "          'Impression',\n",
        "          'Click',\n",
        "          'Conversion'\n",
        "        ],\n",
        "        'dataset':{'field':{'name':'recipe_slug','kind':'string','suffix':'_Segmentology','order':4,'default':'','description':'Name of Google BigQuery dataset to create.'}},\n",
        "        'table':'DV360_KPI_Normalized',\n",
        "        'significance':80\n",
        "      },\n",
        "      'to':{\n",
        "        'dataset':{'field':{'name':'recipe_slug','kind':'string','suffix':'_Segmentology','order':4,'default':'','description':'Name of Google BigQuery dataset to create.'}},\n",
        "        'type':'view'\n",
        "      }\n",
        "    }\n",
        "  }\n",
        "]\n",
        "\n",
        "json_set_fields(TASKS, FIELDS)\n",
        "\n",
        "execute(CONFIG, TASKS, force=True)\n"
      ]
    }
  ]
}
