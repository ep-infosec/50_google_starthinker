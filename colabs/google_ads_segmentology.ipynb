{
  "nbformat": 4,
  "nbformat_minor": 0,
  "metadata": {
    "colab": {
      "name": "GoogleAds Segmentology",
      "toc_visible": true
    },
    "kernelspec": {
      "name": "python3",
      "display_name": "Python 3"
    }
  },
  "cells": [
    {
      "cell_type": "markdown",
      "metadata": {
        "id": "c965b7e20001"
      },
      "source": [
        "#GoogleAds Segmentology\n",
        "GoogleAds funnel analysis using Census data.\n"
      ]
    },
    {
      "cell_type": "markdown",
      "metadata": {
        "id": "c965b7e20002"
      },
      "source": [
        "#License\n",
        "\n",
        "Copyright 2020 Google LLC,\n",
        "\n",
        "Licensed under the Apache License, Version 2.0 (the \"License\");\n",
        "you may not use this file except in compliance with the License.\n",
        "You may obtain a copy of the License at\n",
        "\n",
        "  https://www.apache.org/licenses/LICENSE-2.0\n",
        "\n",
        "Unless required by applicable law or agreed to in writing, software\n",
        "distributed under the License is distributed on an \"AS IS\" BASIS,\n",
        "WITHOUT WARRANTIES OR CONDITIONS OF ANY KIND, either express or implied.\n",
        "See the License for the specific language governing permissions and\n",
        "limitations under the License.\n",
        "\n"
      ]
    },
    {
      "cell_type": "markdown",
      "metadata": {
        "id": "c965b7e20003"
      },
      "source": [
        "#Disclaimer\n",
        "This is not an officially supported Google product. It is a reference implementation. There is absolutely NO WARRANTY provided for using this code. The code is Apache Licensed and CAN BE fully modified, white labeled, and disassembled by your team.\n",
        "\n",
        "This code generated (see starthinker/scripts for possible source):\n",
        "  - **Command**: \"python starthinker_ui/manage.py colab\"\n",
        "  - **Command**: \"python starthinker/tools/colab.py [JSON RECIPE]\"\n",
        "\n"
      ]
    },
    {
      "cell_type": "markdown",
      "metadata": {
        "id": "c965b7e20004"
      },
      "source": [
        "#1. Install Dependencies\n",
        "First install the libraries needed to execute recipes, this only needs to be done once, then click play.\n"
      ]
    },
    {
      "cell_type": "code",
      "execution_count": null,
      "outputs": [],
      "metadata": {
        "id": "c965b7e20005"
      },
      "source": [
        "!pip install git+https://github.com/google/starthinker\n"
      ]
    },
    {
      "cell_type": "markdown",
      "metadata": {
        "id": "c965b7e20006"
      },
      "source": [
        "#2. Set Configuration\n",
        "\n",
        "This code is required to initialize the project. Fill in required fields and press play.\n",
        "\n",
        "1. If the recipe uses a Google Cloud Project:\n",
        "  - Set the configuration **project** value to the project identifier from [these instructions](https://github.com/google/starthinker/blob/master/tutorials/cloud_project.md).\n",
        "\n",
        "1. If the recipe has **auth** set to **user**:\n",
        "  - If you have user credentials:\n",
        "    - Set the configuration **user** value to your user credentials JSON.\n",
        "  - If you DO NOT have user credentials:\n",
        "    - Set the configuration **client** value to [downloaded client credentials](https://github.com/google/starthinker/blob/master/tutorials/cloud_client_installed.md).\n",
        "\n",
        "1. If the recipe has **auth** set to **service**:\n",
        "  - Set the configuration **service** value to [downloaded service credentials](https://github.com/google/starthinker/blob/master/tutorials/cloud_service.md).\n",
        "\n"
      ]
    },
    {
      "cell_type": "code",
      "execution_count": null,
      "outputs": [],
      "metadata": {
        "id": "c965b7e20007"
      },
      "source": [
        "from starthinker.util.configuration import Configuration\n",
        "\n",
        "\n",
        "CONFIG = Configuration(\n",
        "  project=\"\",\n",
        "  client={},\n",
        "  service={},\n",
        "  user=\"/content/user.json\",\n",
        "  verbose=True\n",
        ")\n",
        "\n"
      ]
    },
    {
      "cell_type": "markdown",
      "metadata": {
        "id": "c965b7e20008"
      },
      "source": [
        "#3. Enter GoogleAds Segmentology Recipe Parameters\n",
        " 1. Wait for **BigQuery->->->Census_Join** to be created.\n",
        " 1. Join the [StarThinker Assets Group](https://groups.google.com/d/forum/starthinker-assets) to access the following assets\n",
        " 1. Copy [GoogleAds Segmentology Sample](https://datastudio.google.com/c/u/0/reporting/3673497b-f36f-4448-8fb9-3e05ea51842f/). Leave the Data Source as is, you will change it in the next step.\n",
        " 1. Click Edit Connection, and change to **BigQuery->->->Census_Join**.\n",
        " 1. Or give these instructions to the client.\n",
        "Modify the values below for your use case, can be done multiple times, then click play.\n"
      ]
    },
    {
      "cell_type": "code",
      "execution_count": null,
      "outputs": [],
      "metadata": {
        "id": "c965b7e20009"
      },
      "source": [
        "FIELDS = {\n",
        "  'auth_read':'user',  # Credentials used for reading data.\n",
        "  'customer_id':'',  # Google Ads customer.\n",
        "  'developer_token':'',  # Google Ads developer token.\n",
        "  'login_id':'',  # Google Ads login.\n",
        "  'auth_write':'service',  # Authorization used for writing data.\n",
        "  'recipe_slug':'',  # Name of Google BigQuery dataset to create.\n",
        "}\n",
        "\n",
        "print(\"Parameters Set To: %s\" % FIELDS)\n"
      ]
    },
    {
      "cell_type": "markdown",
      "metadata": {
        "id": "c965b7e20010"
      },
      "source": [
        "#4. Execute GoogleAds Segmentology\n",
        "This does NOT need to be modified unless you are changing the recipe, click play.\n"
      ]
    },
    {
      "cell_type": "code",
      "execution_count": null,
      "outputs": [],
      "metadata": {
        "id": "c965b7e20011"
      },
      "source": [
        "from starthinker.util.configuration import execute\n",
        "from starthinker.util.recipe import json_set_fields\n",
        "\n",
        "TASKS = [\n",
        "  {\n",
        "    'dataset':{\n",
        "      'description':'Create a dataset for bigquery tables.',\n",
        "      'hour':[\n",
        "        4\n",
        "      ],\n",
        "      'auth':{'field':{'name':'auth_write','kind':'authentication','order':1,'default':'service','description':'Credentials used for writing data.'}},\n",
        "      'dataset':{'field':{'name':'recipe_slug','kind':'string','suffix':'_Segmentology','description':'Place where tables will be created in BigQuery.'}}\n",
        "    }\n",
        "  },\n",
        "  {\n",
        "    'bigquery':{\n",
        "      'auth':{'field':{'name':'auth_write','kind':'authentication','order':1,'default':'service','description':'Credentials used for writing function.'}},\n",
        "      'function':'Pearson Significance Test',\n",
        "      'to':{\n",
        "        'dataset':{'field':{'name':'recipe_slug','kind':'string','suffix':'_Segmentology','order':4,'default':'','description':'Name of Google BigQuery dataset to create.'}}\n",
        "      }\n",
        "    }\n",
        "  },\n",
        "  {\n",
        "    'google_api':{\n",
        "      'auth':{'field':{'name':'auth_read','kind':'authentication','order':0,'default':'user','description':'Credentials used for reading data.'}},\n",
        "      'api':'googleads',\n",
        "      'version':'v8',\n",
        "      'function':'customers.googleAds.search',\n",
        "      'kwargs':{\n",
        "        'customerId':{'field':{'name':'customer_id','kind':'string','description':'Google Ads customer.','default':''}},\n",
        "        'body':{\n",
        "          'query':'SELECT           campaign.name,           ad_group.name,           segments.geo_target_postal_code,           metrics.impressions,           metrics.clicks,           metrics.conversions,           metrics.interactions           FROM user_location_view         '\n",
        "        }\n",
        "      },\n",
        "      'headers':{\n",
        "        'developer-token':{'field':{'name':'developer_token','kind':'string','description':'Google Ads developer token.','default':''}},\n",
        "        'login-customer-id':{'field':{'name':'login_id','kind':'string','description':'Google Ads login.','default':''}}\n",
        "      },\n",
        "      'iterate':True,\n",
        "      'results':{\n",
        "        'bigquery':{\n",
        "          'dataset':{'field':{'name':'recipe_slug','kind':'string','suffix':'_Segmentology','order':4,'default':'','description':'Name of Google BigQuery dataset to create.'}},\n",
        "          'table':'GoogleAds_KPI',\n",
        "          'schema':[\n",
        "            {\n",
        "              'name':'userLocationView',\n",
        "              'type':'RECORD',\n",
        "              'mode':'NULLABLE',\n",
        "              'fields':[\n",
        "                {\n",
        "                  'name':'resourceName',\n",
        "                  'type':'STRING',\n",
        "                  'mode':'NULLABLE'\n",
        "                }\n",
        "              ]\n",
        "            },\n",
        "            {\n",
        "              'name':'segments',\n",
        "              'type':'RECORD',\n",
        "              'mode':'NULLABLE',\n",
        "              'fields':[\n",
        "                {\n",
        "                  'name':'geoTargetPostalCode',\n",
        "                  'type':'STRING',\n",
        "                  'mode':'NULLABLE'\n",
        "                }\n",
        "              ]\n",
        "            },\n",
        "            {\n",
        "              'name':'metrics',\n",
        "              'type':'RECORD',\n",
        "              'mode':'NULLABLE',\n",
        "              'fields':[\n",
        "                {\n",
        "                  'name':'interactions',\n",
        "                  'type':'INTEGER',\n",
        "                  'mode':'NULLABLE'\n",
        "                },\n",
        "                {\n",
        "                  'name':'impressions',\n",
        "                  'type':'INTEGER',\n",
        "                  'mode':'NULLABLE'\n",
        "                },\n",
        "                {\n",
        "                  'name':'conversions',\n",
        "                  'type':'INTEGER',\n",
        "                  'mode':'NULLABLE'\n",
        "                },\n",
        "                {\n",
        "                  'name':'clicks',\n",
        "                  'type':'INTEGER',\n",
        "                  'mode':'NULLABLE'\n",
        "                }\n",
        "              ]\n",
        "            },\n",
        "            {\n",
        "              'name':'adGroup',\n",
        "              'type':'RECORD',\n",
        "              'mode':'NULLABLE',\n",
        "              'fields':[\n",
        "                {\n",
        "                  'name':'name',\n",
        "                  'type':'STRING',\n",
        "                  'mode':'NULLABLE'\n",
        "                },\n",
        "                {\n",
        "                  'name':'resourceName',\n",
        "                  'type':'STRING',\n",
        "                  'mode':'NULLABLE'\n",
        "                }\n",
        "              ]\n",
        "            },\n",
        "            {\n",
        "              'name':'campaign',\n",
        "              'type':'RECORD',\n",
        "              'mode':'NULLABLE',\n",
        "              'fields':[\n",
        "                {\n",
        "                  'name':'name',\n",
        "                  'type':'STRING',\n",
        "                  'mode':'NULLABLE'\n",
        "                },\n",
        "                {\n",
        "                  'name':'resourceName',\n",
        "                  'type':'STRING',\n",
        "                  'mode':'NULLABLE'\n",
        "                }\n",
        "              ]\n",
        "            }\n",
        "          ]\n",
        "        }\n",
        "      }\n",
        "    }\n",
        "  },\n",
        "  {\n",
        "    'bigquery':{\n",
        "      'auth':{'field':{'name':'auth_write','kind':'authentication','order':1,'default':'service','description':'Authorization used for writing data.'}},\n",
        "      'from':{\n",
        "        'query':'SELECT            campaign.name AS Campaign,            adGRoup.name AS Ad_Group,            segments.geoTargetPostalCode AS Postal_Code,            SAFE_DIVIDE(metrics.impressions, SUM(metrics.impressions) OVER()) AS Impression,            SAFE_DIVIDE(metrics.clicks, metrics.impressions) AS Click,            SAFE_DIVIDE(metrics.conversions, metrics.impressions) AS Conversion,            SAFE_DIVIDE(metrics.interactions, metrics.impressions) AS Interaction,            metrics.impressions AS Impressions          FROM            `{dataset}.GoogleAds_KPI`;        ',\n",
        "        'parameters':{\n",
        "          'dataset':{'field':{'name':'recipe_slug','kind':'string','suffix':'_Segmentology','description':'Place where tables will be created in BigQuery.'}}\n",
        "        },\n",
        "        'legacy':False\n",
        "      },\n",
        "      'to':{\n",
        "        'dataset':{'field':{'name':'recipe_slug','kind':'string','suffix':'_Segmentology','description':'Place where tables will be written in BigQuery.'}},\n",
        "        'view':'GoogleAds_KPI_Normalized'\n",
        "      }\n",
        "    }\n",
        "  },\n",
        "  {\n",
        "    'census':{\n",
        "      'auth':{'field':{'name':'auth_write','kind':'authentication','order':1,'default':'service','description':'Authorization used for writing data.'}},\n",
        "      'normalize':{\n",
        "        'census_geography':'zip_codes',\n",
        "        'census_year':'2018',\n",
        "        'census_span':'5yr'\n",
        "      },\n",
        "      'to':{\n",
        "        'dataset':{'field':{'name':'recipe_slug','kind':'string','suffix':'_Segmentology','order':4,'default':'','description':'Name of Google BigQuery dataset to create.'}},\n",
        "        'type':'view'\n",
        "      }\n",
        "    }\n",
        "  },\n",
        "  {\n",
        "    'census':{\n",
        "      'auth':{'field':{'name':'auth_write','kind':'authentication','order':1,'default':'service','description':'Authorization used for writing data.'}},\n",
        "      'correlate':{\n",
        "        'join':'Postal_Code',\n",
        "        'pass':[\n",
        "          'Campaign',\n",
        "          'Ad_Group'\n",
        "        ],\n",
        "        'sum':[\n",
        "          'Impressions'\n",
        "        ],\n",
        "        'correlate':[\n",
        "          'Impression',\n",
        "          'Click',\n",
        "          'Conversion',\n",
        "          'Interaction'\n",
        "        ],\n",
        "        'dataset':{'field':{'name':'recipe_slug','kind':'string','suffix':'_Segmentology','order':4,'default':'','description':'Name of Google BigQuery dataset to create.'}},\n",
        "        'table':'GoogleAds_KPI_Normalized',\n",
        "        'significance':80\n",
        "      },\n",
        "      'to':{\n",
        "        'dataset':{'field':{'name':'recipe_slug','kind':'string','suffix':'_Segmentology','order':4,'default':'','description':'Name of Google BigQuery dataset to create.'}},\n",
        "        'type':'view'\n",
        "      }\n",
        "    }\n",
        "  }\n",
        "]\n",
        "\n",
        "json_set_fields(TASKS, FIELDS)\n",
        "\n",
        "execute(CONFIG, TASKS, force=True)\n"
      ]
    }
  ]
}
