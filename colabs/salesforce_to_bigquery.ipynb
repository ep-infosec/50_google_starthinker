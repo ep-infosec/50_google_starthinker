{
  "nbformat": 4,
  "nbformat_minor": 0,
  "metadata": {
    "colab": {
      "name": "Salesforce To BigQuery",
      "toc_visible": true
    },
    "kernelspec": {
      "name": "python3",
      "display_name": "Python 3"
    }
  },
  "cells": [
    {
      "cell_type": "markdown",
      "metadata": {
        "id": "50524f1e0001"
      },
      "source": [
        "#Salesforce To BigQuery\n",
        "Move query results into a BigQuery table.\n"
      ]
    },
    {
      "cell_type": "markdown",
      "metadata": {
        "id": "50524f1e0002"
      },
      "source": [
        "#License\n",
        "\n",
        "Copyright 2020 Google LLC,\n",
        "\n",
        "Licensed under the Apache License, Version 2.0 (the \"License\");\n",
        "you may not use this file except in compliance with the License.\n",
        "You may obtain a copy of the License at\n",
        "\n",
        "  https://www.apache.org/licenses/LICENSE-2.0\n",
        "\n",
        "Unless required by applicable law or agreed to in writing, software\n",
        "distributed under the License is distributed on an \"AS IS\" BASIS,\n",
        "WITHOUT WARRANTIES OR CONDITIONS OF ANY KIND, either express or implied.\n",
        "See the License for the specific language governing permissions and\n",
        "limitations under the License.\n",
        "\n"
      ]
    },
    {
      "cell_type": "markdown",
      "metadata": {
        "id": "50524f1e0003"
      },
      "source": [
        "#Disclaimer\n",
        "This is not an officially supported Google product. It is a reference implementation. There is absolutely NO WARRANTY provided for using this code. The code is Apache Licensed and CAN BE fully modified, white labeled, and disassembled by your team.\n",
        "\n",
        "This code generated (see starthinker/scripts for possible source):\n",
        "  - **Command**: \"python starthinker_ui/manage.py colab\"\n",
        "  - **Command**: \"python starthinker/tools/colab.py [JSON RECIPE]\"\n",
        "\n"
      ]
    },
    {
      "cell_type": "markdown",
      "metadata": {
        "id": "50524f1e0004"
      },
      "source": [
        "#1. Install Dependencies\n",
        "First install the libraries needed to execute recipes, this only needs to be done once, then click play.\n"
      ]
    },
    {
      "cell_type": "code",
      "execution_count": null,
      "outputs": [],
      "metadata": {
        "id": "50524f1e0005"
      },
      "source": [
        "!pip install git+https://github.com/google/starthinker\n"
      ]
    },
    {
      "cell_type": "markdown",
      "metadata": {
        "id": "50524f1e0006"
      },
      "source": [
        "#2. Set Configuration\n",
        "\n",
        "This code is required to initialize the project. Fill in required fields and press play.\n",
        "\n",
        "1. If the recipe uses a Google Cloud Project:\n",
        "  - Set the configuration **project** value to the project identifier from [these instructions](https://github.com/google/starthinker/blob/master/tutorials/cloud_project.md).\n",
        "\n",
        "1. If the recipe has **auth** set to **user**:\n",
        "  - If you have user credentials:\n",
        "    - Set the configuration **user** value to your user credentials JSON.\n",
        "  - If you DO NOT have user credentials:\n",
        "    - Set the configuration **client** value to [downloaded client credentials](https://github.com/google/starthinker/blob/master/tutorials/cloud_client_installed.md).\n",
        "\n",
        "1. If the recipe has **auth** set to **service**:\n",
        "  - Set the configuration **service** value to [downloaded service credentials](https://github.com/google/starthinker/blob/master/tutorials/cloud_service.md).\n",
        "\n"
      ]
    },
    {
      "cell_type": "code",
      "execution_count": null,
      "outputs": [],
      "metadata": {
        "id": "50524f1e0007"
      },
      "source": [
        "from starthinker.util.configuration import Configuration\n",
        "\n",
        "\n",
        "CONFIG = Configuration(\n",
        "  project=\"\",\n",
        "  client={},\n",
        "  service={},\n",
        "  user=\"/content/user.json\",\n",
        "  verbose=True\n",
        ")\n",
        "\n"
      ]
    },
    {
      "cell_type": "markdown",
      "metadata": {
        "id": "50524f1e0008"
      },
      "source": [
        "#3. Enter Salesforce To BigQuery Recipe Parameters\n",
        " 1. Specify [Salesforce](https://developer.salesforce.com/) credentials.\n",
        " 1. Specify the query youd like to execute.\n",
        " 1. Specify a [SCHEMA](https://cloud.google.com/bigquery/docs/schemas#creating_a_json_schema_file) for that query (optional).\n",
        "Modify the values below for your use case, can be done multiple times, then click play.\n"
      ]
    },
    {
      "cell_type": "code",
      "execution_count": null,
      "outputs": [],
      "metadata": {
        "id": "50524f1e0009"
      },
      "source": [
        "FIELDS = {\n",
        "  'domain':'login.salesforce.com',  # Retrieve from a Salesforce Domain.\n",
        "  'client':'',  # Retrieve from a Salesforce App.\n",
        "  'secret':'',  # Retrieve from a Salesforce App.\n",
        "  'username':'',  # Your Salesforce user email.\n",
        "  'password':'',  # Your Salesforce login password.\n",
        "  'query':'',  # The query to run in Salesforce.\n",
        "  'auth_read':'user',  # Credentials used for reading data.\n",
        "  'dataset':'',  # Existing BigQuery dataset.\n",
        "  'table':'',  # Table to create from this report.\n",
        "  'schema':'[]',  # Schema provided in JSON list format or empty list.\n",
        "}\n",
        "\n",
        "print(\"Parameters Set To: %s\" % FIELDS)\n"
      ]
    },
    {
      "cell_type": "markdown",
      "metadata": {
        "id": "50524f1e0010"
      },
      "source": [
        "#4. Execute Salesforce To BigQuery\n",
        "This does NOT need to be modified unless you are changing the recipe, click play.\n"
      ]
    },
    {
      "cell_type": "code",
      "execution_count": null,
      "outputs": [],
      "metadata": {
        "id": "50524f1e0011"
      },
      "source": [
        "from starthinker.util.configuration import execute\n",
        "from starthinker.util.recipe import json_set_fields\n",
        "\n",
        "TASKS = [\n",
        "  {\n",
        "    'salesforce':{\n",
        "      'auth':{'field':{'name':'auth_read','kind':'authentication','order':1,'default':'user','description':'Credentials used for reading data.'}},\n",
        "      'domain':{'field':{'name':'domain','kind':'string','default':'login.salesforce.com','description':'Retrieve from a Salesforce Domain.'}},\n",
        "      'client':{'field':{'name':'client','kind':'string','default':'','description':'Retrieve from a Salesforce App.'}},\n",
        "      'secret':{'field':{'name':'secret','kind':'string','default':'','description':'Retrieve from a Salesforce App.'}},\n",
        "      'username':{'field':{'name':'username','kind':'email','default':'','description':'Your Salesforce user email.'}},\n",
        "      'password':{'field':{'name':'password','kind':'password','default':'','description':'Your Salesforce login password.'}},\n",
        "      'query':{'field':{'name':'query','kind':'string','default':'','description':'The query to run in Salesforce.'}},\n",
        "      'out':{\n",
        "        'bigquery':{\n",
        "          'dataset':{'field':{'name':'dataset','kind':'string','order':3,'default':'','description':'Existing BigQuery dataset.'}},\n",
        "          'table':{'field':{'name':'table','kind':'string','order':4,'default':'','description':'Table to create from this report.'}},\n",
        "          'schema':{'field':{'name':'schema','kind':'json','order':5,'default':'[]','description':'Schema provided in JSON list format or empty list.'}}\n",
        "        }\n",
        "      }\n",
        "    }\n",
        "  }\n",
        "]\n",
        "\n",
        "json_set_fields(TASKS, FIELDS)\n",
        "\n",
        "execute(CONFIG, TASKS, force=True)\n"
      ]
    }
  ]
}
