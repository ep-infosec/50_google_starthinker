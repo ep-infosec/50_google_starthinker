{
  "nbformat": 4,
  "nbformat_minor": 0,
  "metadata": {
    "colab": {
      "name": "Trends Places To Sheets Via Values",
      "toc_visible": true
    },
    "kernelspec": {
      "name": "python3",
      "display_name": "Python 3"
    }
  },
  "cells": [
    {
      "cell_type": "markdown",
      "metadata": {
        "id": "09bc4c190001"
      },
      "source": [
        "#Trends Places To Sheets Via Values\n",
        "Move using hard coded WOEID values.\n"
      ]
    },
    {
      "cell_type": "markdown",
      "metadata": {
        "id": "09bc4c190002"
      },
      "source": [
        "#License\n",
        "\n",
        "Copyright 2020 Google LLC,\n",
        "\n",
        "Licensed under the Apache License, Version 2.0 (the \"License\");\n",
        "you may not use this file except in compliance with the License.\n",
        "You may obtain a copy of the License at\n",
        "\n",
        "  https://www.apache.org/licenses/LICENSE-2.0\n",
        "\n",
        "Unless required by applicable law or agreed to in writing, software\n",
        "distributed under the License is distributed on an \"AS IS\" BASIS,\n",
        "WITHOUT WARRANTIES OR CONDITIONS OF ANY KIND, either express or implied.\n",
        "See the License for the specific language governing permissions and\n",
        "limitations under the License.\n",
        "\n"
      ]
    },
    {
      "cell_type": "markdown",
      "metadata": {
        "id": "09bc4c190003"
      },
      "source": [
        "#Disclaimer\n",
        "This is not an officially supported Google product. It is a reference implementation. There is absolutely NO WARRANTY provided for using this code. The code is Apache Licensed and CAN BE fully modified, white labeled, and disassembled by your team.\n",
        "\n",
        "This code generated (see starthinker/scripts for possible source):\n",
        "  - **Command**: \"python starthinker_ui/manage.py colab\"\n",
        "  - **Command**: \"python starthinker/tools/colab.py [JSON RECIPE]\"\n",
        "\n"
      ]
    },
    {
      "cell_type": "markdown",
      "metadata": {
        "id": "09bc4c190004"
      },
      "source": [
        "#1. Install Dependencies\n",
        "First install the libraries needed to execute recipes, this only needs to be done once, then click play.\n"
      ]
    },
    {
      "cell_type": "code",
      "execution_count": null,
      "outputs": [],
      "metadata": {
        "id": "09bc4c190005"
      },
      "source": [
        "!pip install git+https://github.com/google/starthinker\n"
      ]
    },
    {
      "cell_type": "markdown",
      "metadata": {
        "id": "09bc4c190006"
      },
      "source": [
        "#2. Set Configuration\n",
        "\n",
        "This code is required to initialize the project. Fill in required fields and press play.\n",
        "\n",
        "1. If the recipe uses a Google Cloud Project:\n",
        "  - Set the configuration **project** value to the project identifier from [these instructions](https://github.com/google/starthinker/blob/master/tutorials/cloud_project.md).\n",
        "\n",
        "1. If the recipe has **auth** set to **user**:\n",
        "  - If you have user credentials:\n",
        "    - Set the configuration **user** value to your user credentials JSON.\n",
        "  - If you DO NOT have user credentials:\n",
        "    - Set the configuration **client** value to [downloaded client credentials](https://github.com/google/starthinker/blob/master/tutorials/cloud_client_installed.md).\n",
        "\n",
        "1. If the recipe has **auth** set to **service**:\n",
        "  - Set the configuration **service** value to [downloaded service credentials](https://github.com/google/starthinker/blob/master/tutorials/cloud_service.md).\n",
        "\n"
      ]
    },
    {
      "cell_type": "code",
      "execution_count": null,
      "outputs": [],
      "metadata": {
        "id": "09bc4c190007"
      },
      "source": [
        "from starthinker.util.configuration import Configuration\n",
        "\n",
        "\n",
        "CONFIG = Configuration(\n",
        "  project=\"\",\n",
        "  client={},\n",
        "  service={},\n",
        "  user=\"/content/user.json\",\n",
        "  verbose=True\n",
        ")\n",
        "\n"
      ]
    },
    {
      "cell_type": "markdown",
      "metadata": {
        "id": "09bc4c190008"
      },
      "source": [
        "#3. Enter Trends Places To Sheets Via Values Recipe Parameters\n",
        " 1. Provide [Twitter Credentials](https://apps.twitter.com).\n",
        " 1. Provide a comma delimited list of WOEIDs.\n",
        " 1. Specify Sheet url and tab to write API call results to.\n",
        " 1. Writes: WOEID, Name, Url, Promoted_Content, Query, Tweet_Volume\n",
        " 1. Note Twitter API is rate limited to 15 requests per 15 minutes. So keep WOEID lists short.\n",
        "Modify the values below for your use case, can be done multiple times, then click play.\n"
      ]
    },
    {
      "cell_type": "code",
      "execution_count": null,
      "outputs": [],
      "metadata": {
        "id": "09bc4c190009"
      },
      "source": [
        "FIELDS = {\n",
        "  'auth_write':'service',  # Credentials used for writing data.\n",
        "  'secret':'',\n",
        "  'key':'',\n",
        "  'places_dataset':'',\n",
        "  'places_query':'',\n",
        "  'places_legacy':False,\n",
        "  'destination_sheet':'',\n",
        "  'destination_tab':'',\n",
        "}\n",
        "\n",
        "print(\"Parameters Set To: %s\" % FIELDS)\n"
      ]
    },
    {
      "cell_type": "markdown",
      "metadata": {
        "id": "09bc4c190010"
      },
      "source": [
        "#4. Execute Trends Places To Sheets Via Values\n",
        "This does NOT need to be modified unless you are changing the recipe, click play.\n"
      ]
    },
    {
      "cell_type": "code",
      "execution_count": null,
      "outputs": [],
      "metadata": {
        "id": "09bc4c190011"
      },
      "source": [
        "from starthinker.util.configuration import execute\n",
        "from starthinker.util.recipe import json_set_fields\n",
        "\n",
        "TASKS = [\n",
        "  {\n",
        "    'twitter':{\n",
        "      'auth':{'field':{'name':'auth_write','kind':'authentication','order':1,'default':'service','description':'Credentials used for writing data.'}},\n",
        "      'secret':{'field':{'name':'secret','kind':'string','order':1,'default':''}},\n",
        "      'key':{'field':{'name':'key','kind':'string','order':2,'default':''}},\n",
        "      'trends':{\n",
        "        'places':{\n",
        "          'single_cell':True,\n",
        "          'bigquery':{\n",
        "            'dataset':{'field':{'name':'places_dataset','kind':'string','order':3,'default':''}},\n",
        "            'query':{'field':{'name':'places_query','kind':'string','order':4,'default':''}},\n",
        "            'legacy':{'field':{'name':'places_legacy','kind':'boolean','order':5,'default':False}}\n",
        "          }\n",
        "        }\n",
        "      },\n",
        "      'out':{\n",
        "        'sheets':{\n",
        "          'sheet':{'field':{'name':'destination_sheet','kind':'string','order':6,'default':''}},\n",
        "          'tab':{'field':{'name':'destination_tab','kind':'string','order':7,'default':''}},\n",
        "          'range':'A1'\n",
        "        }\n",
        "      }\n",
        "    }\n",
        "  }\n",
        "]\n",
        "\n",
        "json_set_fields(TASKS, FIELDS)\n",
        "\n",
        "execute(CONFIG, TASKS, force=True)\n"
      ]
    }
  ]
}
