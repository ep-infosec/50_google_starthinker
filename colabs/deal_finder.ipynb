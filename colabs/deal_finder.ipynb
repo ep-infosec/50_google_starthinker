{
  "nbformat": 4,
  "nbformat_minor": 0,
  "metadata": {
    "colab": {
      "name": "DV360 Deal Finder",
      "toc_visible": true
    },
    "kernelspec": {
      "name": "python3",
      "display_name": "Python 3"
    }
  },
  "cells": [
    {
      "cell_type": "markdown",
      "metadata": {
        "id": "d7c56d700001"
      },
      "source": [
        "#DV360 Deal Finder\n",
        "Compares open vs. deal CPM, CPC, and CPA so that clients can decide which sites, inventory, and deals work best.\n"
      ]
    },
    {
      "cell_type": "markdown",
      "metadata": {
        "id": "d7c56d700002"
      },
      "source": [
        "#License\n",
        "\n",
        "Copyright 2020 Google LLC,\n",
        "\n",
        "Licensed under the Apache License, Version 2.0 (the \"License\");\n",
        "you may not use this file except in compliance with the License.\n",
        "You may obtain a copy of the License at\n",
        "\n",
        "  https://www.apache.org/licenses/LICENSE-2.0\n",
        "\n",
        "Unless required by applicable law or agreed to in writing, software\n",
        "distributed under the License is distributed on an \"AS IS\" BASIS,\n",
        "WITHOUT WARRANTIES OR CONDITIONS OF ANY KIND, either express or implied.\n",
        "See the License for the specific language governing permissions and\n",
        "limitations under the License.\n",
        "\n"
      ]
    },
    {
      "cell_type": "markdown",
      "metadata": {
        "id": "d7c56d700003"
      },
      "source": [
        "#Disclaimer\n",
        "This is not an officially supported Google product. It is a reference implementation. There is absolutely NO WARRANTY provided for using this code. The code is Apache Licensed and CAN BE fully modified, white labeled, and disassembled by your team.\n",
        "\n",
        "This code generated (see starthinker/scripts for possible source):\n",
        "  - **Command**: \"python starthinker_ui/manage.py colab\"\n",
        "  - **Command**: \"python starthinker/tools/colab.py [JSON RECIPE]\"\n",
        "\n"
      ]
    },
    {
      "cell_type": "markdown",
      "metadata": {
        "id": "d7c56d700004"
      },
      "source": [
        "#1. Install Dependencies\n",
        "First install the libraries needed to execute recipes, this only needs to be done once, then click play.\n"
      ]
    },
    {
      "cell_type": "code",
      "execution_count": null,
      "outputs": [],
      "metadata": {
        "id": "d7c56d700005"
      },
      "source": [
        "!pip install git+https://github.com/google/starthinker\n"
      ]
    },
    {
      "cell_type": "markdown",
      "metadata": {
        "id": "d7c56d700006"
      },
      "source": [
        "#2. Set Configuration\n",
        "\n",
        "This code is required to initialize the project. Fill in required fields and press play.\n",
        "\n",
        "1. If the recipe uses a Google Cloud Project:\n",
        "  - Set the configuration **project** value to the project identifier from [these instructions](https://github.com/google/starthinker/blob/master/tutorials/cloud_project.md).\n",
        "\n",
        "1. If the recipe has **auth** set to **user**:\n",
        "  - If you have user credentials:\n",
        "    - Set the configuration **user** value to your user credentials JSON.\n",
        "  - If you DO NOT have user credentials:\n",
        "    - Set the configuration **client** value to [downloaded client credentials](https://github.com/google/starthinker/blob/master/tutorials/cloud_client_installed.md).\n",
        "\n",
        "1. If the recipe has **auth** set to **service**:\n",
        "  - Set the configuration **service** value to [downloaded service credentials](https://github.com/google/starthinker/blob/master/tutorials/cloud_service.md).\n",
        "\n"
      ]
    },
    {
      "cell_type": "code",
      "execution_count": null,
      "outputs": [],
      "metadata": {
        "id": "d7c56d700007"
      },
      "source": [
        "from starthinker.util.configuration import Configuration\n",
        "\n",
        "\n",
        "CONFIG = Configuration(\n",
        "  project=\"\",\n",
        "  client={},\n",
        "  service={},\n",
        "  user=\"/content/user.json\",\n",
        "  verbose=True\n",
        ")\n",
        "\n"
      ]
    },
    {
      "cell_type": "markdown",
      "metadata": {
        "id": "d7c56d700008"
      },
      "source": [
        "#3. Enter DV360 Deal Finder Recipe Parameters\n",
        " 1. Wait for **BigQuery->->->Deal_Finder_Dashboard** to be created.\n",
        " 1. Join the [StarThinker Assets Group](https://groups.google.com/d/forum/starthinker-assets) to access the following assets\n",
        " 1. Copy [Deal Finder Sample Data](https://datastudio.google.com/open/1QrWNTurvQT6nx20vnzdDveSzSmRjqHxQ).\n",
        " 1. Click Edit Connection, and change to **BigQuery->StarThinker Data->->Deal_Finder_Dashboard**.\n",
        " 1. Copy [Deal Finder Sample Report](https://datastudio.google.com/open/1fjRI5AIKTYTA4fWs-pYkJbIMgCumlMyO).\n",
        " 1. When prompted choose the new data source you just created.\n",
        " 1. Or give these intructions to the client.\n",
        "Modify the values below for your use case, can be done multiple times, then click play.\n"
      ]
    },
    {
      "cell_type": "code",
      "execution_count": null,
      "outputs": [],
      "metadata": {
        "id": "d7c56d700009"
      },
      "source": [
        "FIELDS = {\n",
        "  'recipe_slug':'',  # Place where tables will be written in BigQuery.\n",
        "  'recipe_timezone':'America/Los_Angeles',  # Timezone for report dates.\n",
        "  'recipe_name':'',  # Name of report in DV360, should be unique.\n",
        "  'auth_write':'service',  # Credentials used for writing data.\n",
        "  'auth_read':'user',  # Credentials used for reading data.\n",
        "  'partners':[],  # DV360 partner id.\n",
        "  'advertisers':[],  # Comma delimited list of DV360 advertiser ids.\n",
        "}\n",
        "\n",
        "print(\"Parameters Set To: %s\" % FIELDS)\n"
      ]
    },
    {
      "cell_type": "markdown",
      "metadata": {
        "id": "d7c56d700010"
      },
      "source": [
        "#4. Execute DV360 Deal Finder\n",
        "This does NOT need to be modified unless you are changing the recipe, click play.\n"
      ]
    },
    {
      "cell_type": "code",
      "execution_count": null,
      "outputs": [],
      "metadata": {
        "id": "d7c56d700011"
      },
      "source": [
        "from starthinker.util.configuration import execute\n",
        "from starthinker.util.recipe import json_set_fields\n",
        "\n",
        "TASKS = [\n",
        "  {\n",
        "    'dataset':{\n",
        "      'description':'Create a dataset for bigquery tables.',\n",
        "      'hour':[\n",
        "        4\n",
        "      ],\n",
        "      'auth':{'field':{'name':'auth_write','kind':'authentication','order':1,'default':'service','description':'Credentials used for writing data.'}},\n",
        "      'dataset':{'field':{'name':'recipe_slug','kind':'string','description':'Place where tables will be created in BigQuery.'}}\n",
        "    }\n",
        "  },\n",
        "  {\n",
        "    'dbm':{\n",
        "      'description':'Create a DV360 report.',\n",
        "      'hour':[\n",
        "        3\n",
        "      ],\n",
        "      'auth':{'field':{'name':'auth_read','kind':'authentication','order':1,'default':'user','description':'Credentials used for reading data.'}},\n",
        "      'report':{\n",
        "        'filters':{\n",
        "          'FILTER_PARTNER':{\n",
        "            'values':{'field':{'name':'partners','kind':'integer_list','order':5,'default':[],'description':'DV360 partner id.'}}\n",
        "          },\n",
        "          'FILTER_ADVERTISER':{\n",
        "            'values':{'field':{'name':'advertisers','kind':'integer_list','order':6,'default':[],'description':'Comma delimited list of DV360 advertiser ids.'}}\n",
        "          }\n",
        "        },\n",
        "        'body':{\n",
        "          'timezoneCode':{'field':{'name':'recipe_timezone','kind':'timezone','description':'Timezone for report dates.','default':'America/Los_Angeles'}},\n",
        "          'metadata':{\n",
        "            'title':{'field':{'name':'recipe_name','kind':'string','prefix':'Deal Finder For ','description':'Name of report in DV360, should be unique.'}},\n",
        "            'dataRange':'LAST_30_DAYS',\n",
        "            'format':'CSV'\n",
        "          },\n",
        "          'params':{\n",
        "            'type':'TYPE_CROSS_PARTNER',\n",
        "            'groupBys':[\n",
        "              'FILTER_PARTNER_NAME',\n",
        "              'FILTER_PARTNER',\n",
        "              'FILTER_ADVERTISER_NAME',\n",
        "              'FILTER_ADVERTISER',\n",
        "              'FILTER_APP_URL',\n",
        "              'FILTER_SITE_ID',\n",
        "              'FILTER_INVENTORY_SOURCE_NAME',\n",
        "              'FILTER_INVENTORY_SOURCE',\n",
        "              'FILTER_INVENTORY_SOURCE_TYPE',\n",
        "              'FILTER_ADVERTISER_CURRENCY',\n",
        "              'FILTER_CREATIVE_WIDTH',\n",
        "              'FILTER_CREATIVE_HEIGHT',\n",
        "              'FILTER_CREATIVE_TYPE'\n",
        "            ],\n",
        "            'metrics':[\n",
        "              'METRIC_IMPRESSIONS',\n",
        "              'METRIC_CLICKS',\n",
        "              'METRIC_TOTAL_CONVERSIONS',\n",
        "              'METRIC_TOTAL_MEDIA_COST_ADVERTISER',\n",
        "              'METRIC_REVENUE_ADVERTISER',\n",
        "              'METRIC_ACTIVE_VIEW_MEASURABLE_IMPRESSIONS',\n",
        "              'METRIC_ACTIVE_VIEW_VIEWABLE_IMPRESSIONS'\n",
        "            ]\n",
        "          }\n",
        "        }\n",
        "      }\n",
        "    }\n",
        "  },\n",
        "  {\n",
        "    'dbm':{\n",
        "      'description':'Copy a DV360 report to BigQuery.',\n",
        "      'hour':[\n",
        "        4\n",
        "      ],\n",
        "      'auth':{'field':{'name':'auth_read','kind':'authentication','order':1,'default':'user','description':'Credentials used for reading data.'}},\n",
        "      'report':{\n",
        "        'name':{'field':{'name':'recipe_name','kind':'string','prefix':'Deal Finder For ','description':'Name of report in DV360, should be unique.'}},\n",
        "        'timeout':10\n",
        "      },\n",
        "      'out':{\n",
        "        'bigquery':{\n",
        "          'dataset':{'field':{'name':'recipe_slug','kind':'string','description':'Place where tables will be written in BigQuery.'}},\n",
        "          'table':'Deal_Finder_DV360_Report',\n",
        "          'header':True,\n",
        "          'schema':[\n",
        "            {\n",
        "              'name':'Partner',\n",
        "              'type':'STRING'\n",
        "            },\n",
        "            {\n",
        "              'name':'Partner_ID',\n",
        "              'type':'INTEGER'\n",
        "            },\n",
        "            {\n",
        "              'name':'Advertiser',\n",
        "              'type':'STRING'\n",
        "            },\n",
        "            {\n",
        "              'name':'Advertiser_ID',\n",
        "              'type':'INTEGER'\n",
        "            },\n",
        "            {\n",
        "              'name':'Site',\n",
        "              'type':'STRING'\n",
        "            },\n",
        "            {\n",
        "              'name':'Site_ID',\n",
        "              'type':'INTEGER'\n",
        "            },\n",
        "            {\n",
        "              'name':'Inventory',\n",
        "              'type':'STRING',\n",
        "              'mode':'NULLABLE'\n",
        "            },\n",
        "            {\n",
        "              'name':'Inventory_ID',\n",
        "              'type':'INTEGER',\n",
        "              'mode':'NULLABLE'\n",
        "            },\n",
        "            {\n",
        "              'name':'Inventory_Type',\n",
        "              'type':'STRING'\n",
        "            },\n",
        "            {\n",
        "              'name':'Advertiser_Currency',\n",
        "              'type':'STRING'\n",
        "            },\n",
        "            {\n",
        "              'name':'Creative_Width',\n",
        "              'type':'STRING',\n",
        "              'mode':'NULLABLE'\n",
        "            },\n",
        "            {\n",
        "              'name':'Creative_Height',\n",
        "              'type':'STRING',\n",
        "              'mode':'NULLABLE'\n",
        "            },\n",
        "            {\n",
        "              'name':'Creative_Type',\n",
        "              'type':'STRING'\n",
        "            },\n",
        "            {\n",
        "              'name':'Impressions',\n",
        "              'type':'INTEGER'\n",
        "            },\n",
        "            {\n",
        "              'name':'Clicks',\n",
        "              'type':'INTEGER'\n",
        "            },\n",
        "            {\n",
        "              'name':'Conversions',\n",
        "              'type':'FLOAT'\n",
        "            },\n",
        "            {\n",
        "              'name':'Cost',\n",
        "              'type':'FLOAT'\n",
        "            },\n",
        "            {\n",
        "              'name':'Revenue',\n",
        "              'type':'FLOAT'\n",
        "            },\n",
        "            {\n",
        "              'name':'AV_Impressions_Measurable',\n",
        "              'type':'INTEGER'\n",
        "            },\n",
        "            {\n",
        "              'name':'AV_Impressions_Viewable',\n",
        "              'type':'INTEGER'\n",
        "            }\n",
        "          ]\n",
        "        }\n",
        "      }\n",
        "    }\n",
        "  },\n",
        "  {\n",
        "    'bigquery':{\n",
        "      'description':'The logic query for Deal Finder, transforms report into view used by datastudio.',\n",
        "      'hour':[\n",
        "        4\n",
        "      ],\n",
        "      'auth':{'field':{'name':'auth_write','kind':'authentication','order':1,'default':'service','description':'Credentials used for writing data.'}},\n",
        "      'from':{\n",
        "        'query':\"SELECT Partner, Partner_ID, Advertiser, Advertiser_ID, Site, Site_ID, Inventory, Inventory_Type, Creative_Type, Creative_Size, Always_On, Deal_Impressions, Open_Impressions, Rank_Impressions, Deal_Clicks, Open_Clicks, Rank_Clicks, Deal_Conversions, Open_Conversions, Rank_Conversions, Deal_Impressions_Viewable, Open_Impressions_Viewable, Rank_Impressions_Viewable, Deal_Impressions_Measurable, Open_Impressions_Measurable, Rank_Impressions_Measurable, Deal_Cost, Open_Cost, Rank_Cost, FROM ( SELECT FIRST(Partner) AS Partner, FIRST(Partner_ID) AS Partner_ID, FIRST(Advertiser) AS Advertiser, Advertiser_ID, First(Site) AS Site, Site_ID, Inventory, Inventory_Type, Creative_Type, Creative_Width + ' x ' + Creative_Height AS Creative_Size, IF (LEFT(Inventory, 5) == 'AO - ', True, False) AS Always_On, SUM(Deal_Impressions) AS Deal_Impressions, SUM(Open_Impressions) AS Open_Impressions, SUM(Open_Impressions) + SUM(Deal_Impressions) AS Total_Impressions, ROW_NUMBER() OVER (PARTITION BY Advertiser_ID ORDER BY Total_Impressions DESC) AS Rank_Impressions, SUM(Deal_Clicks) AS Deal_Clicks, SUM(Open_Clicks) AS Open_Clicks, SUM(Open_Clicks) + SUM(Deal_Clicks) AS Total_Clicks, ROW_NUMBER() OVER (PARTITION BY Advertiser_ID ORDER BY Total_Clicks DESC) AS Rank_Clicks, SUM(Deal_Conversions) AS Deal_Conversions, SUM(Open_Conversions) AS Open_Conversions, SUM(Open_Conversions) + SUM(Deal_Conversions) AS Total_Conversions, ROW_NUMBER() OVER (PARTITION BY Advertiser_ID ORDER BY Total_Conversions DESC) AS Rank_Conversions, SUM(Deal_Cost) AS Deal_Cost, SUM(Open_Cost) AS Open_Cost, SUM(Open_Cost) + SUM(Deal_Cost) AS Total_Cost, RANK() OVER (PARTITION BY Advertiser_ID ORDER BY Total_Cost DESC) AS Rank_Cost, SUM(Deal_Impressions_Viewable) AS Deal_Impressions_Viewable, SUM(Open_Impressions_Viewable) AS Open_Impressions_Viewable, SUM(Open_Impressions_Viewable) + SUM(Deal_Impressions_Viewable) AS Total_Impressions_Viewable, ROW_NUMBER() OVER (PARTITION BY Advertiser_ID ORDER BY Total_Impressions_Viewable DESC) AS Rank_Impressions_Viewable, SUM(Deal_Impressions_Measurable) AS Deal_Impressions_Measurable, SUM(Open_Impressions_Measurable) AS Open_Impressions_Measurable, SUM(Open_Impressions_Measurable) + SUM(Deal_Impressions_Measurable) AS Total_Impressions_Measurable, ROW_NUMBER() OVER (PARTITION BY Advertiser_ID ORDER BY Total_Impressions_Measurable DESC) AS Rank_Impressions_Measurable, FROM ( SELECT Partner, Partner_ID, Advertiser, Advertiser_ID, Site, Site_ID, Inventory, Inventory_Type, Creative_Type, Creative_Width, Creative_Height, IF(Inventory_ID IS NULL, Impressions, 0) AS Open_Impressions, IF(Inventory_ID IS NULL, 0, Impressions) AS Deal_Impressions, IF(Inventory_ID IS NULL, Clicks, 0) AS Open_Clicks, IF(Inventory_ID IS NULL, 0, Clicks) AS Deal_Clicks, IF(Inventory_ID IS NULL, Conversions, 0) AS Open_Conversions, IF(Inventory_ID IS NULL, 0, Conversions) AS Deal_Conversions, IF(Inventory_ID IS NULL, Cost, 0) AS Open_Cost, IF(Inventory_ID IS NULL, 0, Cost) AS Deal_Cost, IF(Inventory_ID IS NULL, AV_Impressions_Viewable, 0) AS Open_Impressions_Viewable, IF(Inventory_ID IS NULL, 0, AV_Impressions_Viewable) AS Deal_Impressions_Viewable, IF(Inventory_ID IS NULL, AV_Impressions_Measurable, 0) AS Open_Impressions_Measurable, IF(Inventory_ID IS NULL, 0, AV_Impressions_Measurable) AS Deal_Impressions_Measurable, FROM [[PARAMETER].Deal_Finder_DV360_Report] OMIT RECORD IF Site == 'Low volume inventory') GROUP By Advertiser_ID, Site_ID, Inventory, Inventory_Type, Creative_Type, Creative_Size, Always_On) WHERE Rank_Impressions < 100 OR Rank_Clicks < 100 OR Rank_Conversions < 100 OR Rank_Cost < 100;\",\n",
        "        'parameters':[\n",
        "          {'field':{'name':'recipe_slug','kind':'string','description':'Place where tables will be written in BigQuery.'}}\n",
        "        ]\n",
        "      },\n",
        "      'to':{\n",
        "        'dataset':{'field':{'name':'recipe_slug','kind':'string','description':'Place where tables will be written in BigQuery.'}},\n",
        "        'view':'Deal_Finder_Dashboard'\n",
        "      }\n",
        "    }\n",
        "  }\n",
        "]\n",
        "\n",
        "json_set_fields(TASKS, FIELDS)\n",
        "\n",
        "execute(CONFIG, TASKS, force=True)\n"
      ]
    }
  ]
}
