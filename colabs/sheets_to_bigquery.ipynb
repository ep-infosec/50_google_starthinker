{
  "nbformat": 4,
  "nbformat_minor": 0,
  "metadata": {
    "colab": {
      "name": "Sheet To BigQuery",
      "toc_visible": true
    },
    "kernelspec": {
      "name": "python3",
      "display_name": "Python 3"
    }
  },
  "cells": [
    {
      "cell_type": "markdown",
      "metadata": {
        "id": "d01d39eb0001"
      },
      "source": [
        "#Sheet To BigQuery\n",
        "Import data from a sheet and move it to a BigQuery table.\n"
      ]
    },
    {
      "cell_type": "markdown",
      "metadata": {
        "id": "d01d39eb0002"
      },
      "source": [
        "#License\n",
        "\n",
        "Copyright 2020 Google LLC,\n",
        "\n",
        "Licensed under the Apache License, Version 2.0 (the \"License\");\n",
        "you may not use this file except in compliance with the License.\n",
        "You may obtain a copy of the License at\n",
        "\n",
        "  https://www.apache.org/licenses/LICENSE-2.0\n",
        "\n",
        "Unless required by applicable law or agreed to in writing, software\n",
        "distributed under the License is distributed on an \"AS IS\" BASIS,\n",
        "WITHOUT WARRANTIES OR CONDITIONS OF ANY KIND, either express or implied.\n",
        "See the License for the specific language governing permissions and\n",
        "limitations under the License.\n",
        "\n"
      ]
    },
    {
      "cell_type": "markdown",
      "metadata": {
        "id": "d01d39eb0003"
      },
      "source": [
        "#Disclaimer\n",
        "This is not an officially supported Google product. It is a reference implementation. There is absolutely NO WARRANTY provided for using this code. The code is Apache Licensed and CAN BE fully modified, white labeled, and disassembled by your team.\n",
        "\n",
        "This code generated (see starthinker/scripts for possible source):\n",
        "  - **Command**: \"python starthinker_ui/manage.py colab\"\n",
        "  - **Command**: \"python starthinker/tools/colab.py [JSON RECIPE]\"\n",
        "\n"
      ]
    },
    {
      "cell_type": "markdown",
      "metadata": {
        "id": "d01d39eb0004"
      },
      "source": [
        "#1. Install Dependencies\n",
        "First install the libraries needed to execute recipes, this only needs to be done once, then click play.\n"
      ]
    },
    {
      "cell_type": "code",
      "execution_count": null,
      "outputs": [],
      "metadata": {
        "id": "d01d39eb0005"
      },
      "source": [
        "!pip install git+https://github.com/google/starthinker\n"
      ]
    },
    {
      "cell_type": "markdown",
      "metadata": {
        "id": "d01d39eb0006"
      },
      "source": [
        "#2. Set Configuration\n",
        "\n",
        "This code is required to initialize the project. Fill in required fields and press play.\n",
        "\n",
        "1. If the recipe uses a Google Cloud Project:\n",
        "  - Set the configuration **project** value to the project identifier from [these instructions](https://github.com/google/starthinker/blob/master/tutorials/cloud_project.md).\n",
        "\n",
        "1. If the recipe has **auth** set to **user**:\n",
        "  - If you have user credentials:\n",
        "    - Set the configuration **user** value to your user credentials JSON.\n",
        "  - If you DO NOT have user credentials:\n",
        "    - Set the configuration **client** value to [downloaded client credentials](https://github.com/google/starthinker/blob/master/tutorials/cloud_client_installed.md).\n",
        "\n",
        "1. If the recipe has **auth** set to **service**:\n",
        "  - Set the configuration **service** value to [downloaded service credentials](https://github.com/google/starthinker/blob/master/tutorials/cloud_service.md).\n",
        "\n"
      ]
    },
    {
      "cell_type": "code",
      "execution_count": null,
      "outputs": [],
      "metadata": {
        "id": "d01d39eb0007"
      },
      "source": [
        "from starthinker.util.configuration import Configuration\n",
        "\n",
        "\n",
        "CONFIG = Configuration(\n",
        "  project=\"\",\n",
        "  client={},\n",
        "  service={},\n",
        "  user=\"/content/user.json\",\n",
        "  verbose=True\n",
        ")\n",
        "\n"
      ]
    },
    {
      "cell_type": "markdown",
      "metadata": {
        "id": "d01d39eb0008"
      },
      "source": [
        "#3. Enter Sheet To BigQuery Recipe Parameters\n",
        " 1. For the sheet, provide the full edit URL.\n",
        " 1. If the tab does not exist it will be created.\n",
        " 1. Empty cells in the range will be NULL.\n",
        " 1. Check Sheets header if first row is a header\n",
        "Modify the values below for your use case, can be done multiple times, then click play.\n"
      ]
    },
    {
      "cell_type": "code",
      "execution_count": null,
      "outputs": [],
      "metadata": {
        "id": "d01d39eb0009"
      },
      "source": [
        "FIELDS = {\n",
        "  'auth_read':'user',  # Credentials used for reading data.\n",
        "  'auth_write':'service',  # Credentials used for writing data.\n",
        "  'sheets_url':'',\n",
        "  'sheets_tab':'',\n",
        "  'sheets_range':'',\n",
        "  'dataset':'',\n",
        "  'table':'',\n",
        "  'sheets_header':True,\n",
        "}\n",
        "\n",
        "print(\"Parameters Set To: %s\" % FIELDS)\n"
      ]
    },
    {
      "cell_type": "markdown",
      "metadata": {
        "id": "d01d39eb0010"
      },
      "source": [
        "#4. Execute Sheet To BigQuery\n",
        "This does NOT need to be modified unless you are changing the recipe, click play.\n"
      ]
    },
    {
      "cell_type": "code",
      "execution_count": null,
      "outputs": [],
      "metadata": {
        "id": "d01d39eb0011"
      },
      "source": [
        "from starthinker.util.configuration import execute\n",
        "from starthinker.util.recipe import json_set_fields\n",
        "\n",
        "TASKS = [\n",
        "  {\n",
        "    'sheets':{\n",
        "      'auth':{'field':{'name':'auth_read','kind':'authentication','order':0,'default':'user','description':'Credentials used for reading data.'}},\n",
        "      'sheet':{'field':{'name':'sheets_url','kind':'string','order':2,'default':''}},\n",
        "      'tab':{'field':{'name':'sheets_tab','kind':'string','order':3,'default':''}},\n",
        "      'range':{'field':{'name':'sheets_range','kind':'string','order':4,'default':''}},\n",
        "      'header':{'field':{'name':'sheets_header','kind':'boolean','order':9,'default':True}},\n",
        "      'out':{\n",
        "        'auth':{'field':{'name':'auth_write','kind':'authentication','order':1,'default':'service','description':'Credentials used for writing data.'}},\n",
        "        'bigquery':{\n",
        "          'dataset':{'field':{'name':'dataset','kind':'string','order':5,'default':''}},\n",
        "          'table':{'field':{'name':'table','kind':'string','order':6,'default':''}}\n",
        "        }\n",
        "      }\n",
        "    }\n",
        "  }\n",
        "]\n",
        "\n",
        "json_set_fields(TASKS, FIELDS)\n",
        "\n",
        "execute(CONFIG, TASKS, force=True)\n"
      ]
    }
  ]
}
