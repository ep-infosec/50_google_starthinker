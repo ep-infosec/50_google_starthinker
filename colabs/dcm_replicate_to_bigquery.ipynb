{
  "license": "Licensed under the Apache License, Version 2.0",
  "copyright": "Copyright 2020 Google LLC",
  "nbformat": 4,
  "nbformat_minor": 0,
  "metadata": {
    "colab": {
      "name": "CM360 Report Replicate",
      "provenance": [],
      "collapsed_sections": [],
      "toc_visible": true
    },
    "kernelspec": {
      "name": "python3",
      "display_name": "Python 3"
    }
  },
  "cells": [
    {
      "cell_type": "markdown",
      "metadata": {
        "id": "1d705f63-001",
        "colab_type": "text"
      },
      "source": [
        "#CM360 Report Replicate\n",
        "Replicate a report across multiple networks and advertisers.\n"
      ]
    },
    {
      "cell_type": "markdown",
      "metadata": {
        "id": "1d705f63-002",
        "colab_type": "text"
      },
      "source": [
        "#License\n",
        "\n",
        "Copyright 2020 Google LLC,\n",
        "\n",
        "Licensed under the Apache License, Version 2.0 (the \"License\");\n",
        "you may not use this file except in compliance with the License.\n",
        "You may obtain a copy of the License at\n",
        "\n",
        "  https://www.apache.org/licenses/LICENSE-2.0\n",
        "\n",
        "Unless required by applicable law or agreed to in writing, software\n",
        "distributed under the License is distributed on an \"AS IS\" BASIS,\n",
        "WITHOUT WARRANTIES OR CONDITIONS OF ANY KIND, either express or implied.\n",
        "See the License for the specific language governing permissions and\n",
        "limitations under the License.\n",
        "\n"
      ]
    },
    {
      "cell_type": "markdown",
      "metadata": {
        "id": "1d705f63-003",
        "colab_type": "text"
      },
      "source": [
        "#Disclaimer\n",
        "This is not an officially supported Google product. It is a reference implementation. There is absolutely NO WARRANTY provided for using this code. The code is Apache Licensed and CAN BE fully modified, white labeled, and disassembled by your team.\n",
        "\n",
        "This code generated (see starthinker/scripts for possible source):\n",
        "  - **Command**: \"python starthinker_ui/manage.py colab\"\n",
        "  - **Command**: \"python starthinker/tools/colab.py [JSON RECIPE]\"\n",
        "\n"
      ]
    },
    {
      "cell_type": "markdown",
      "metadata": {
        "id": "1d705f63-004",
        "colab_type": "text"
      },
      "source": [
        "#1. Install Dependencies\n",
        "First install the libraries needed to execute recipes, this only needs to be done once, then click play.\n"
      ]
    },
    {
      "cell_type": "code",
      "metadata": {
        "id": "1d705f63-005",
        "colab_type": "code"
      },
      "source": [
        "!pip install git+https://github.com/google/starthinker\n"
      ]
    },
    {
      "cell_type": "markdown",
      "metadata": {
        "id": "1d705f63-006",
        "colab_type": "text"
      },
      "source": [
        "#2. Get Cloud Project ID\n",
        "To run this recipe [requires a Google Cloud Project](https://github.com/google/starthinker/blob/master/tutorials/cloud_project.md), this only needs to be done once, then click play.\n"
      ]
    },
    {
      "cell_type": "code",
      "metadata": {
        "id": "1d705f63-007",
        "colab_type": "code"
      },
      "source": [
        "CLOUD_PROJECT = 'PASTE PROJECT ID HERE'\n",
        "\n",
        "print(\"Cloud Project Set To: %s\" % CLOUD_PROJECT)\n"
      ]
    },
    {
      "cell_type": "markdown",
      "metadata": {
        "id": "1d705f63-008",
        "colab_type": "text"
      },
      "source": [
        "#3. Get Client Credentials\n",
        "To read and write to various endpoints requires [downloading client credentials](https://github.com/google/starthinker/blob/master/tutorials/cloud_client_installed.md), this only needs to be done once, then click play.\n"
      ]
    },
    {
      "cell_type": "code",
      "metadata": {
        "id": "1d705f63-009",
        "colab_type": "code"
      },
      "source": [
        "CLIENT_CREDENTIALS = 'PASTE CLIENT CREDENTIALS HERE'\n",
        "\n",
        "print(\"Client Credentials Set To: %s\" % CLIENT_CREDENTIALS)\n"
      ]
    },
    {
      "cell_type": "markdown",
      "metadata": {
        "id": "1d705f63-010",
        "colab_type": "text"
      },
      "source": [
        "#4. Enter CM360 Report Replicate Parameters\n",
        " 1. Provide the name or ID of an existing report.\n",
        " 1. Run the recipe once to generate the input sheet called .\n",
        " 1. Enter network and advertiser ids to replicate the report.\n",
        " 1. Data will be written to BigQuery &gt;  &gt;  &gt; _All\n",
        "Modify the values below for your use case, can be done multiple times, then click play.\n"
      ]
    },
    {
      "cell_type": "code",
      "metadata": {
        "id": "1d705f63-011",
        "colab_type": "code"
      },
      "source": [
        "FIELDS = {\n",
        "  'auth_read': 'user',  # Credentials used for reading data.\n",
        "  'recipe_name': '',  # Sheet to read ids from.\n",
        "  'auth_write': 'service',  # Credentials used for writing data.\n",
        "  'account': '',  # CM network id.\n",
        "  'recipe_slug': '',\n",
        "  'report_id': '',  # CM template report id, for template\n",
        "  'report_name': '',  # CM template report name, empty if using id instead.\n",
        "  'delete': False,  # Use only to reset the reports if setup changes.\n",
        "  'Aggregate': False,  # Append report data to existing table, requires Date column.\n",
        "}\n",
        "\n",
        "print(\"Parameters Set To: %s\" % FIELDS)\n"
      ]
    },
    {
      "cell_type": "markdown",
      "metadata": {
        "id": "1d705f63-012",
        "colab_type": "text"
      },
      "source": [
        "#5. Execute CM360 Report Replicate\n",
        "This does NOT need to be modified unless you are changing the recipe, click play.\n"
      ]
    },
    {
      "cell_type": "code",
      "metadata": {
        "id": "1d705f63-013",
        "colab_type": "code"
      },
      "source": [
        "from starthinker.util.configuration import Configuration\n",
        "from starthinker.util.configuration import execute\n",
        "from starthinker.util.recipe import json_set_fields\n",
        "\n",
        "USER_CREDENTIALS = '/content/user.json'\n",
        "\n",
        "TASKS = [\n",
        "  {\n",
        "    'drive': {\n",
        "      'auth': 'user',\n",
        "      'copy': {\n",
        "        'source': 'https://docs.google.com/spreadsheets/d/1Su3t2YUWV_GG9RD63Wa3GNANmQZswTHstFY6aDPm6qE/',\n",
        "        'destination': {'field': {'name': 'recipe_name','kind': 'string','order': 1,'description': 'Name of document to deploy to.','default': ''}}\n",
        "      }\n",
        "    }\n",
        "  },\n",
        "  {\n",
        "    'dataset': {\n",
        "      'auth': 'user',\n",
        "      'dataset': {'field': {'name': 'recipe_slug','kind': 'string','order': 2,'default': '','description': 'Name of Google BigQuery dataset to create.'}}\n",
        "    }\n",
        "  },\n",
        "  {\n",
        "    'dcm_replicate': {\n",
        "      'auth': 'user',\n",
        "      'report': {\n",
        "        'account': {'field': {'name': 'account','kind': 'integer','order': 3,'default': '','description': 'CM network id.'}},\n",
        "        'id': {'field': {'name': 'report_id','kind': 'integer','order': 4,'default': '','description': 'CM template report id, for template'}},\n",
        "        'name': {'field': {'name': 'report_name','kind': 'string','order': 5,'default': '','description': 'CM template report name, empty if using id instead.'}},\n",
        "        'delete': {'field': {'name': 'delete','kind': 'boolean','order': 6,'default': False,'description': 'Use only to reset the reports if setup changes.'}}\n",
        "      },\n",
        "      'in': {\n",
        "        'sheet': {'field': {'name': 'recipe_name','kind': 'string','order': 1,'default': '','description': 'Sheet to read ids from.'}},\n",
        "        'tab': 'Accounts'\n",
        "      },\n",
        "      'out': {\n",
        "        'bigquery': {\n",
        "          'dataset': {'field': {'name': 'recipe_slug','kind': 'string','order': 4,'default': ''}},\n",
        "          'is_incremental_load': {'field': {'name': 'Aggregate','kind': 'boolean','order': 7,'default': False,'description': 'Append report data to existing table, requires Date column.'}}\n",
        "        }\n",
        "      }\n",
        "    }\n",
        "  }\n",
        "]\n",
        "\n",
        "json_set_fields(TASKS, FIELDS)\n",
        "\n",
        "execute(Configuration(project=CLOUD_PROJECT, client=CLIENT_CREDENTIALS, user=USER_CREDENTIALS, verbose=True), TASKS, force=True)\n"
      ]
    }
  ]
}
