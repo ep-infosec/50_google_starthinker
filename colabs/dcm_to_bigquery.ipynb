{
  "nbformat": 4,
  "nbformat_minor": 0,
  "metadata": {
    "colab": {
      "name": "CM360 Report To BigQuery",
      "toc_visible": true
    },
    "kernelspec": {
      "name": "python3",
      "display_name": "Python 3"
    }
  },
  "cells": [
    {
      "cell_type": "markdown",
      "metadata": {
        "id": "0b92bc6a0001"
      },
      "source": [
        "#CM360 Report To BigQuery\n",
        "Move existing CM report into a BigQuery table.\n"
      ]
    },
    {
      "cell_type": "markdown",
      "metadata": {
        "id": "0b92bc6a0002"
      },
      "source": [
        "#License\n",
        "\n",
        "Copyright 2020 Google LLC,\n",
        "\n",
        "Licensed under the Apache License, Version 2.0 (the \"License\");\n",
        "you may not use this file except in compliance with the License.\n",
        "You may obtain a copy of the License at\n",
        "\n",
        "  https://www.apache.org/licenses/LICENSE-2.0\n",
        "\n",
        "Unless required by applicable law or agreed to in writing, software\n",
        "distributed under the License is distributed on an \"AS IS\" BASIS,\n",
        "WITHOUT WARRANTIES OR CONDITIONS OF ANY KIND, either express or implied.\n",
        "See the License for the specific language governing permissions and\n",
        "limitations under the License.\n",
        "\n"
      ]
    },
    {
      "cell_type": "markdown",
      "metadata": {
        "id": "0b92bc6a0003"
      },
      "source": [
        "#Disclaimer\n",
        "This is not an officially supported Google product. It is a reference implementation. There is absolutely NO WARRANTY provided for using this code. The code is Apache Licensed and CAN BE fully modified, white labeled, and disassembled by your team.\n",
        "\n",
        "This code generated (see starthinker/scripts for possible source):\n",
        "  - **Command**: \"python starthinker_ui/manage.py colab\"\n",
        "  - **Command**: \"python starthinker/tools/colab.py [JSON RECIPE]\"\n",
        "\n"
      ]
    },
    {
      "cell_type": "markdown",
      "metadata": {
        "id": "0b92bc6a0004"
      },
      "source": [
        "#1. Install Dependencies\n",
        "First install the libraries needed to execute recipes, this only needs to be done once, then click play.\n"
      ]
    },
    {
      "cell_type": "code",
      "execution_count": null,
      "outputs": [],
      "metadata": {
        "id": "0b92bc6a0005"
      },
      "source": [
        "!pip install git+https://github.com/google/starthinker\n"
      ]
    },
    {
      "cell_type": "markdown",
      "metadata": {
        "id": "0b92bc6a0006"
      },
      "source": [
        "#2. Set Configuration\n",
        "\n",
        "This code is required to initialize the project. Fill in required fields and press play.\n",
        "\n",
        "1. If the recipe uses a Google Cloud Project:\n",
        "  - Set the configuration **project** value to the project identifier from [these instructions](https://github.com/google/starthinker/blob/master/tutorials/cloud_project.md).\n",
        "\n",
        "1. If the recipe has **auth** set to **user**:\n",
        "  - If you have user credentials:\n",
        "    - Set the configuration **user** value to your user credentials JSON.\n",
        "  - If you DO NOT have user credentials:\n",
        "    - Set the configuration **client** value to [downloaded client credentials](https://github.com/google/starthinker/blob/master/tutorials/cloud_client_installed.md).\n",
        "\n",
        "1. If the recipe has **auth** set to **service**:\n",
        "  - Set the configuration **service** value to [downloaded service credentials](https://github.com/google/starthinker/blob/master/tutorials/cloud_service.md).\n",
        "\n"
      ]
    },
    {
      "cell_type": "code",
      "execution_count": null,
      "outputs": [],
      "metadata": {
        "id": "0b92bc6a0007"
      },
      "source": [
        "from starthinker.util.configuration import Configuration\n",
        "\n",
        "\n",
        "CONFIG = Configuration(\n",
        "  project=\"\",\n",
        "  client={},\n",
        "  service={},\n",
        "  user=\"/content/user.json\",\n",
        "  verbose=True\n",
        ")\n",
        "\n"
      ]
    },
    {
      "cell_type": "markdown",
      "metadata": {
        "id": "0b92bc6a0008"
      },
      "source": [
        "#3. Enter CM360 Report To BigQuery Recipe Parameters\n",
        " 1. Specify an account id.\n",
        " 1. Specify either report name or report id to move a report.\n",
        " 1. The most recent valid file will overwrite the table.\n",
        " 1. Schema is pulled from the official CM specification.\n",
        "Modify the values below for your use case, can be done multiple times, then click play.\n"
      ]
    },
    {
      "cell_type": "code",
      "execution_count": null,
      "outputs": [],
      "metadata": {
        "id": "0b92bc6a0009"
      },
      "source": [
        "FIELDS = {\n",
        "  'auth_read':'user',  # Credentials used for reading data.\n",
        "  'auth_write':'service',  # Credentials used for writing data.\n",
        "  'account':'',  # CM network id.\n",
        "  'report_id':'',  # CM report id, empty if using name .\n",
        "  'report_name':'',  # CM report name, empty if using id instead.\n",
        "  'dataset':'',  # Dataset to be written to in BigQuery.\n",
        "  'table':'',  # Table to be written to in BigQuery.\n",
        "  'is_incremental_load':False,  # Clear data in destination table during this report's time period, then append report data to existing table.\n",
        "}\n",
        "\n",
        "print(\"Parameters Set To: %s\" % FIELDS)\n"
      ]
    },
    {
      "cell_type": "markdown",
      "metadata": {
        "id": "0b92bc6a0010"
      },
      "source": [
        "#4. Execute CM360 Report To BigQuery\n",
        "This does NOT need to be modified unless you are changing the recipe, click play.\n"
      ]
    },
    {
      "cell_type": "code",
      "execution_count": null,
      "outputs": [],
      "metadata": {
        "id": "0b92bc6a0011"
      },
      "source": [
        "from starthinker.util.configuration import execute\n",
        "from starthinker.util.recipe import json_set_fields\n",
        "\n",
        "TASKS = [\n",
        "  {\n",
        "    'dcm':{\n",
        "      'auth':{'field':{'name':'auth_read','kind':'authentication','order':0,'default':'user','description':'Credentials used for reading data.'}},\n",
        "      'report':{\n",
        "        'account':{'field':{'name':'account','kind':'integer','order':2,'default':'','description':'CM network id.'}},\n",
        "        'report_id':{'field':{'name':'report_id','kind':'integer','order':3,'default':'','description':'CM report id, empty if using name .'}},\n",
        "        'name':{'field':{'name':'report_name','kind':'string','order':4,'default':'','description':'CM report name, empty if using id instead.'}}\n",
        "      },\n",
        "      'out':{\n",
        "        'bigquery':{\n",
        "          'auth':{'field':{'name':'auth_write','kind':'authentication','order':1,'default':'service','description':'Credentials used for writing data.'}},\n",
        "          'dataset':{'field':{'name':'dataset','kind':'string','order':5,'default':'','description':'Dataset to be written to in BigQuery.'}},\n",
        "          'table':{'field':{'name':'table','kind':'string','order':6,'default':'','description':'Table to be written to in BigQuery.'}},\n",
        "          'header':True,\n",
        "          'is_incremental_load':{'field':{'name':'is_incremental_load','kind':'boolean','order':7,'default':False,'description':\"Clear data in destination table during this report's time period, then append report data to existing table.\"}}\n",
        "        }\n",
        "      }\n",
        "    }\n",
        "  }\n",
        "]\n",
        "\n",
        "json_set_fields(TASKS, FIELDS)\n",
        "\n",
        "execute(CONFIG, TASKS, force=True)\n"
      ]
    }
  ]
}
