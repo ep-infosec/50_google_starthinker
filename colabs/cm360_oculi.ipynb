{
  "nbformat": 4,
  "nbformat_minor": 0,
  "metadata": {
    "colab": {
      "name": "CM360 Oculi",
      "toc_visible": true
    },
    "kernelspec": {
      "name": "python3",
      "display_name": "Python 3"
    }
  },
  "cells": [
    {
      "cell_type": "markdown",
      "metadata": {
        "id": "5d8e29aa0001"
      },
      "source": [
        "#CM360 Oculi\n",
        "Export CM360 Creatives into BigQuery, process them with the Vision API, and generate a breakdown of each creative asset mapped back to its parent. Also generate a series of views to flatten the data.\n"
      ]
    },
    {
      "cell_type": "markdown",
      "metadata": {
        "id": "5d8e29aa0002"
      },
      "source": [
        "#License\n",
        "\n",
        "Copyright 2020 Google LLC,\n",
        "\n",
        "Licensed under the Apache License, Version 2.0 (the \"License\");\n",
        "you may not use this file except in compliance with the License.\n",
        "You may obtain a copy of the License at\n",
        "\n",
        "  https://www.apache.org/licenses/LICENSE-2.0\n",
        "\n",
        "Unless required by applicable law or agreed to in writing, software\n",
        "distributed under the License is distributed on an \"AS IS\" BASIS,\n",
        "WITHOUT WARRANTIES OR CONDITIONS OF ANY KIND, either express or implied.\n",
        "See the License for the specific language governing permissions and\n",
        "limitations under the License.\n",
        "\n"
      ]
    },
    {
      "cell_type": "markdown",
      "metadata": {
        "id": "5d8e29aa0003"
      },
      "source": [
        "#Disclaimer\n",
        "This is not an officially supported Google product. It is a reference implementation. There is absolutely NO WARRANTY provided for using this code. The code is Apache Licensed and CAN BE fully modified, white labeled, and disassembled by your team.\n",
        "\n",
        "This code generated (see starthinker/scripts for possible source):\n",
        "  - **Command**: \"python starthinker_ui/manage.py colab\"\n",
        "  - **Command**: \"python starthinker/tools/colab.py [JSON RECIPE]\"\n",
        "\n"
      ]
    },
    {
      "cell_type": "markdown",
      "metadata": {
        "id": "5d8e29aa0004"
      },
      "source": [
        "#1. Install Dependencies\n",
        "First install the libraries needed to execute recipes, this only needs to be done once, then click play.\n"
      ]
    },
    {
      "cell_type": "code",
      "execution_count": null,
      "outputs": [],
      "metadata": {
        "id": "5d8e29aa0005"
      },
      "source": [
        "!pip install git+https://github.com/google/starthinker\n"
      ]
    },
    {
      "cell_type": "markdown",
      "metadata": {
        "id": "5d8e29aa0006"
      },
      "source": [
        "#2. Set Configuration\n",
        "\n",
        "This code is required to initialize the project. Fill in required fields and press play.\n",
        "\n",
        "1. If the recipe uses a Google Cloud Project:\n",
        "  - Set the configuration **project** value to the project identifier from [these instructions](https://github.com/google/starthinker/blob/master/tutorials/cloud_project.md).\n",
        "\n",
        "1. If the recipe has **auth** set to **user**:\n",
        "  - If you have user credentials:\n",
        "    - Set the configuration **user** value to your user credentials JSON.\n",
        "  - If you DO NOT have user credentials:\n",
        "    - Set the configuration **client** value to [downloaded client credentials](https://github.com/google/starthinker/blob/master/tutorials/cloud_client_installed.md).\n",
        "\n",
        "1. If the recipe has **auth** set to **service**:\n",
        "  - Set the configuration **service** value to [downloaded service credentials](https://github.com/google/starthinker/blob/master/tutorials/cloud_service.md).\n",
        "\n"
      ]
    },
    {
      "cell_type": "code",
      "execution_count": null,
      "outputs": [],
      "metadata": {
        "id": "5d8e29aa0007"
      },
      "source": [
        "from starthinker.util.configuration import Configuration\n",
        "\n",
        "\n",
        "CONFIG = Configuration(\n",
        "  project=\"\",\n",
        "  client={},\n",
        "  service={},\n",
        "  user=\"/content/user.json\",\n",
        "  verbose=True\n",
        ")\n",
        "\n"
      ]
    },
    {
      "cell_type": "markdown",
      "metadata": {
        "id": "5d8e29aa0008"
      },
      "source": [
        "#3. Enter CM360 Oculi Recipe Parameters\n",
        " 1. Wait for **BigQuery->->->Oculi_...** to be created.\n",
        " 1. Then use the data for analysis.\n",
        " 1. Or give these intructions to the client.\n",
        "Modify the values below for your use case, can be done multiple times, then click play.\n"
      ]
    },
    {
      "cell_type": "code",
      "execution_count": null,
      "outputs": [],
      "metadata": {
        "id": "5d8e29aa0009"
      },
      "source": [
        "FIELDS = {\n",
        "  'auth_cm':'user',  # CM360 read credentials.\n",
        "  'auth_bigquery':'service',  # BigQuery read/ write credentials.\n",
        "  'account':'',  # CM360 Account Identifier\n",
        "  'limit':1000,  # Number of creatives to pull.\n",
        "  'recipe_slug':'',  # name of dataset in BigQuery.\n",
        "}\n",
        "\n",
        "print(\"Parameters Set To: %s\" % FIELDS)\n"
      ]
    },
    {
      "cell_type": "markdown",
      "metadata": {
        "id": "5d8e29aa0010"
      },
      "source": [
        "#4. Execute CM360 Oculi\n",
        "This does NOT need to be modified unless you are changing the recipe, click play.\n"
      ]
    },
    {
      "cell_type": "code",
      "execution_count": null,
      "outputs": [],
      "metadata": {
        "id": "5d8e29aa0011"
      },
      "source": [
        "from starthinker.util.configuration import execute\n",
        "from starthinker.util.recipe import json_set_fields\n",
        "\n",
        "TASKS = [\n",
        "  {\n",
        "    'dataset':{\n",
        "      'auth':{'field':{'name':'auth_bigquery','kind':'authentication','order':3,'default':'service','description':'BigQuery read/ write credentials.'}},\n",
        "      'dataset':{'field':{'name':'recipe_slug','kind':'string','order':5,'default':'','description':'name of dataset in BigQuery.'}}\n",
        "    }\n",
        "  },\n",
        "  {\n",
        "    'google_api':{\n",
        "      '__comment__':'Download all creatives, limit set to 20K for 4 hour processing time, and up to maximum 80K to prevent triggering 500 Error in API.',\n",
        "      'auth':{'field':{'name':'auth_cm','kind':'authentication','order':1,'default':'user','description':'CM360 read credentials.'}},\n",
        "      'api':'dfareporting',\n",
        "      'version':'v3.4',\n",
        "      'function':'creatives.list',\n",
        "      'kwargs':{\n",
        "        'accountId':{'field':{'name':'account','kind':'integer','order':3,'default':'','description':'CM360 Account Identifier'}},\n",
        "        'sortField':'ID',\n",
        "        'sortOrder':'DESCENDING'\n",
        "      },\n",
        "      'iterate':True,\n",
        "      'limit':{'field':{'name':'limit','kind':'integer','order':4,'default':1000,'description':'Number of creatives to pull.','choices':[1000,5000,10000,20000,40000,80000]}},\n",
        "      'results':{\n",
        "        'bigquery':{\n",
        "          'auth':{'field':{'name':'auth_bigquery','kind':'authentication','order':3,'default':'service','description':'BigQuery read/ write credentials.'}},\n",
        "          'dataset':{'field':{'name':'recipe_slug','kind':'string','order':5,'default':'','description':'name of dataset in BigQuery.'}},\n",
        "          'table':'CM_Creatives'\n",
        "        }\n",
        "      }\n",
        "    }\n",
        "  },\n",
        "  {\n",
        "    'url':{\n",
        "      'auth':{'field':{'name':'auth_bigquery','kind':'authentication','order':3,'default':'service','description':'BigQuery read/ write credentials.'}},\n",
        "      'status':True,\n",
        "      'read':True,\n",
        "      'urls':{\n",
        "        'bigquery':{\n",
        "          'dataset':{'field':{'name':'recipe_slug','kind':'string','order':5,'default':'','description':'name of dataset in BigQuery.'}},\n",
        "          'query':\"WITH             URL_PARTS AS (               SELECT                 C.id,                 CAST(C.AdvertiserId AS STRING) AS AdvertiserId,                 CA.assetIdentifier.name AS Name               FROM `CM_Creatives` AS C, UNNEST(creativeAssets) AS CA               WHERE REPLACE(RIGHT(CA.assetIdentifier.name, 4), '.', '') IN ('jpg', 'png', 'gif', 'jpeg','html','htm')               AND CA.size.width >1 and CA.size.height > 1             )             SELECT FORMAT('https://s0.2mdn.net/%s/%s', AdvertiserId, REPLACE(Name, ' ', '%20')) AS URL, id AS URI FROM URL_PARTS             UNION ALL             SELECT  FORMAT('https://s0.2mdn.net/sadbundle/%s', REPLACE(Name, ' ', '%20')) AS URL, id AS URI FROM URL_PARTS             UNION ALL             SELECT FORMAT('https://s0.2mdn.net/simgad/%s', REPLACE(Name, ' ', '%20')) AS URL, id AS URI FROM URL_PARTS           \",\n",
        "          'legacy':False\n",
        "        }\n",
        "      },\n",
        "      'to':{\n",
        "        'bigquery':{\n",
        "          'dataset':{'field':{'name':'recipe_slug','kind':'string','order':5,'default':'','description':'name of dataset in BigQuery.'}},\n",
        "          'table':'Creative_URLs'\n",
        "        }\n",
        "      }\n",
        "    }\n",
        "  },\n",
        "  {\n",
        "    'vision_api':{\n",
        "      'auth':{'field':{'name':'auth_cm','kind':'authentication','order':1,'default':'user','description':'CM360 read credentials.'}},\n",
        "      'requests':{\n",
        "        'bigquery':{\n",
        "          'dataset':{'field':{'name':'recipe_slug','kind':'string','order':5,'default':'','description':'name of dataset in BigQuery.'}},\n",
        "          'query':\"             SELECT             STRUCT(               Read AS content,               STRUCT(                 URI AS imageUri               ) AS source             ) AS image,             [               STRUCT(                 'TEXT_DETECTION' AS type,                 10 AS maxResults,                 'builtin/stable' AS model               ),               STRUCT(                 'IMAGE_PROPERTIES' AS type,                 10 AS maxResults,                 'builtin/stable' AS model               ),               STRUCT(                 'SAFE_SEARCH_DETECTION' AS type,                 10 AS maxResults,                 'builtin/stable' AS model               ),               STRUCT(                 'LABEL_DETECTION' AS type,                 10 AS maxResults,                 'builtin/stable' AS model               ),               STRUCT(                 'LOGO_DETECTION' AS type,                 10 AS maxResults,                 'builtin/stable' AS model               ),               STRUCT(                 'FACE_DETECTION' AS type,                 10 AS maxResults,                 'builtin/stable' AS model               ),               STRUCT(                 'OBJECT_LOCALIZATION' AS type,                 10 AS maxResults,                 'builtin/stable' AS model               )             ] AS features             FROM `Creative_URLs`             WHERE Status=200           \",\n",
        "          'legacy':False\n",
        "        }\n",
        "      },\n",
        "      'responses':{\n",
        "        'bigquery':{\n",
        "          'auth':{'field':{'name':'auth_bigquery','kind':'authentication','order':3,'default':'service','description':'BigQuery read/ write credentials.'}},\n",
        "          'dataset':{'field':{'name':'recipe_slug','kind':'string','order':5,'default':'','description':'name of dataset in BigQuery.'}},\n",
        "          'table':'Vision_Creatives'\n",
        "        }\n",
        "      }\n",
        "    }\n",
        "  },\n",
        "  {\n",
        "    'bigquery':{\n",
        "      'auth':{'field':{'name':'auth_bigquery','kind':'authentication','order':3,'default':'service','description':'BigQuery read/ write credentials.'}},\n",
        "      'from':{\n",
        "        'query':'SELECT           C.*,           VC.*           FROM `{dataset}.CM_Creatives` AS C           LEFT JOIN `{dataset}.Vision_Creatives` AS VC           ON C.Id=CAST(VC.imageUri AS INT64)         ',\n",
        "        'parameters':{\n",
        "          'dataset':{'field':{'name':'recipe_slug','kind':'string','order':5,'default':'','description':'name of dataset in BigQuery.'}}\n",
        "        },\n",
        "        'legacy':False\n",
        "      },\n",
        "      'to':{\n",
        "        'dataset':{'field':{'name':'recipe_slug','kind':'string','order':5,'default':'','description':'name of dataset in BigQuery.'}},\n",
        "        'view':'Oculi_Creatives'\n",
        "      }\n",
        "    }\n",
        "  },\n",
        "  {\n",
        "    'bigquery':{\n",
        "      'auth':{'field':{'name':'auth_bigquery','kind':'authentication','order':3,'default':'service','description':'BigQuery read/ write credentials.'}},\n",
        "      'from':{\n",
        "        'query':'SELECT           CAST(imageUri AS INT64) AS creativeID,           description AS label,           score         FROM           `{dataset}.Vision_Creatives`, UNNEST( labelAnnotations)         ',\n",
        "        'parameters':{\n",
        "          'dataset':{'field':{'name':'recipe_slug','kind':'string','order':5,'default':'','description':'name of dataset in BigQuery.'}}\n",
        "        },\n",
        "        'legacy':False\n",
        "      },\n",
        "      'to':{\n",
        "        'dataset':{'field':{'name':'recipe_slug','kind':'string','order':5,'default':'','description':'name of dataset in BigQuery.'}},\n",
        "        'view':'Oculi_labelAnnotations'\n",
        "      }\n",
        "    }\n",
        "  },\n",
        "  {\n",
        "    'bigquery':{\n",
        "      'auth':{'field':{'name':'auth_bigquery','kind':'authentication','order':3,'default':'service','description':'BigQuery read/ write credentials.'}},\n",
        "      'from':{\n",
        "        'query':\"WITH Creative_Sizes AS (           SELECT             Id AS creativeId,             MAX(size.width) AS width,             MAX(size.height) AS height,           FROM `{dataset}.CM_Creatives`           GROUP BY 1         )          SELECT           CAST(VC.imageUri AS INT64) AS creativeId,           LOWER(T.description) AS word,           SAFE_DIVIDE(MAX(V.x) - MIN(v.x), ANY_VALUE(width)) * SAFE_DIVIDE(MAX(V.y) - MIN(v.y), ANY_VALUE(height)) AS area_fraction           FROM             `{dataset}.Vision_Creatives` AS VC             JOIN UNNEST(textAnnotations) AS T             JOIN UNNEST(boundingPoly.vertices) AS V             JOIN Creative_Sizes AS CS             ON CAST(VC.imageUri AS INT64) = CS.creativeId           WHERE             /* Exclude small and common words */             LENGTH(description) > 2             AND LOWER(description) NOT IN ('for', 'the')           GROUP BY 1,2         \",\n",
        "        'parameters':{\n",
        "          'dataset':{'field':{'name':'recipe_slug','kind':'string','order':5,'default':'','description':'name of dataset in BigQuery.'}}\n",
        "        },\n",
        "        'legacy':False\n",
        "      },\n",
        "      'to':{\n",
        "        'dataset':{'field':{'name':'recipe_slug','kind':'string','order':5,'default':'','description':'name of dataset in BigQuery.'}},\n",
        "        'view':'Oculi_textAnnotations'\n",
        "      }\n",
        "    }\n",
        "  },\n",
        "  {\n",
        "    'bigquery':{\n",
        "      'auth':{'field':{'name':'auth_bigquery','kind':'authentication','order':3,'default':'service','description':'BigQuery read/ write credentials.'}},\n",
        "      'function':'RGB To HSV',\n",
        "      'to':{\n",
        "        'dataset':{'field':{'name':'recipe_slug','kind':'string','order':5,'default':'','description':'name of dataset in BigQuery.'}}\n",
        "      }\n",
        "    }\n",
        "  },\n",
        "  {\n",
        "    'bigquery':{\n",
        "      'auth':{'field':{'name':'auth_bigquery','kind':'authentication','order':3,'default':'service','description':'BigQuery read/ write credentials.'}},\n",
        "      'from':{\n",
        "        'query':'SELECT             CAST(VC.imageUri AS INT64) AS creativeId,             LOWER(LO.name) AS name,             (MAX(V.x) - MIN(v.x)) * (MAX(V.y) - MIN(v.y)) AS areaFraction           FROM `{dataset}.Vision_Creatives` AS VC             JOIN UNNEST(localizedObjectAnnotations) AS LO             JOIN UNNEST(boundingPoly.normalizedVertices) AS V           GROUP BY 1,2         ',\n",
        "        'parameters':{\n",
        "          'dataset':{'field':{'name':'recipe_slug','kind':'string','order':5,'default':'','description':'name of dataset in BigQuery.'}}\n",
        "        },\n",
        "        'legacy':False\n",
        "      },\n",
        "      'to':{\n",
        "        'dataset':{'field':{'name':'recipe_slug','kind':'string','order':5,'default':'','description':'name of dataset in BigQuery.'}},\n",
        "        'view':'Oculi_localizedObjectAnnotations'\n",
        "      }\n",
        "    }\n",
        "  },\n",
        "  {\n",
        "    'bigquery':{\n",
        "      'auth':{'field':{'name':'auth_bigquery','kind':'authentication','order':3,'default':'service','description':'BigQuery read/ write credentials.'}},\n",
        "      'from':{\n",
        "        'dataset':{'field':{'name':'recipe_slug','kind':'string','order':5,'default':'','description':'name of dataset in BigQuery.'}},\n",
        "        'query':\"WITH Vision_Colors AS (           SELECT             CAST(VC.imageUri AS INT64) AS creativeId,             STRUCT(               CAST(C.color.red AS INT64) AS r,               CAST(C.color.green AS INT64) AS g,               CAST(C.color.blue AS INT64) AS b             ) as rgb,             STRUCT(               FORMAT('%02X', CAST(C.color.red AS INT64)) as r,               FORMAT('%02X', CAST(C.color.green AS INT64)) as g,               FORMAT('%02X', CAST(C.color.blue AS INT64)) as b             ) as html,             `{dataset}`.rgb_to_hsv(C.color.red, C.color.green, C.color.blue) AS hsv,             (0.2126*C.color.red + 0.7152*C.color.green + 0.0722*C.color.blue) / 255.0 AS percievedBrightness,             C.score,             C.pixelFraction AS areaFraction           FROM             `{dataset}.Vision_Creatives` AS VC             JOIN UNNEST(imagePropertiesAnnotation.dominantColors.colors) AS C          )           SELECT            *,            CASE              WHEN hsv.h < 90 THEN (90 - hsv.h) / 90              WHEN hsv.h < 270 THEN 0              ELSE (hsv.h - 270) / 90            END AS warmness,            CASE              WHEN hsv.h < 90 THEN 0              WHEN hsv.h < 270 THEN ( 90 - ABS(180 - hsv.h)) / 90              ELSE 0            END AS coldness          FROM Vision_Colors;         \",\n",
        "        'parameters':{\n",
        "          'dataset':{'field':{'name':'recipe_slug','kind':'string','order':5,'default':'','description':'name of dataset in BigQuery.'}}\n",
        "        },\n",
        "        'legacy':False\n",
        "      },\n",
        "      'to':{\n",
        "        'dataset':{'field':{'name':'recipe_slug','kind':'string','order':5,'default':'','description':'name of dataset in BigQuery.'}},\n",
        "        'view':'Oculi_imagePropertiesAnnotation'\n",
        "      }\n",
        "    }\n",
        "  },\n",
        "  {\n",
        "    'bigquery':{\n",
        "      'auth':{'field':{'name':'auth_bigquery','kind':'authentication','order':3,'default':'service','description':'BigQuery read/ write credentials.'}},\n",
        "      'from':{\n",
        "        'query':'           WITH Creative_Sizes AS (             SELECT               Id AS creativeId,               MAX(size.width) AS width,               MAX(size.height) AS height,             FROM `{dataset}.CM_Creatives`             GROUP BY 1           )            SELECT             CAST(VC.imageUri AS INT64) AS creativeId,             F.angerLikelihood,             F.headwearLikelihood,             F.surpriseLikelihood,             F.sorrowLikelihood,             F.joyLikelihood,             F.blurredLikelihood,             F.panAngle,             F.rollAngle,             F.tiltAngle,             detectionConfidence AS score,             SAFE_DIVIDE(MAX(v.x) - MIN(v.x), ANY_VALUE(width)) * SAFE_DIVIDE(MAX(v.y) - MIN(v.y), ANY_VALUE(height)) AS area_fraction           FROM             `{dataset}.Vision_Creatives` AS VC             JOIN UNNEST(faceAnnotations ) AS F             JOIN UNNEST(boundingPoly.vertices) AS V             JOIN Creative_Sizes AS CS             ON CAST(VC.imageUri AS INT64) = CS.creativeId           GROUP BY 1,2,3,4,5,6,7,8,9,10,11         ',\n",
        "        'parameters':{\n",
        "          'dataset':{'field':{'name':'recipe_slug','kind':'string','order':5,'default':'','description':'name of dataset in BigQuery.'}}\n",
        "        },\n",
        "        'legacy':False\n",
        "      },\n",
        "      'to':{\n",
        "        'dataset':{'field':{'name':'recipe_slug','kind':'string','order':5,'default':'','description':'name of dataset in BigQuery.'}},\n",
        "        'view':'Oculi_faceAnnotations'\n",
        "      }\n",
        "    }\n",
        "  },\n",
        "  {\n",
        "    'bigquery':{\n",
        "      'auth':{'field':{'name':'auth_bigquery','kind':'authentication','order':3,'default':'service','description':'BigQuery read/ write credentials.'}},\n",
        "      'from':{\n",
        "        'query':\"           WITH Creative_Sizes AS (             SELECT               Id AS creativeId,               MAX(size.width) AS width,               MAX(size.height) AS height,             FROM `{dataset}.CM_Creatives`             GROUP BY 1           ),           Creative_Faces AS (           SELECT             CAST(VC.imageUri AS INT64) AS creativeId,             description AS logo,             score,             SAFE_DIVIDE((MAX(v.x) + MIN(v.x)) / 2, ANY_VALUE(width)) AS x_fraction,             SAFE_DIVIDE((MAX(v.y) + MIN(v.y)) / 2, ANY_VALUE(height)) AS y_fraction,             SAFE_DIVIDE(MAX(v.x) - MIN(v.x), ANY_VALUE(width)) * SAFE_DIVIDE(MAX(v.y) - MIN(v.y), ANY_VALUE(height)) AS area_fraction           FROM             `{dataset}.Vision_Creatives` AS VC             JOIN UNNEST(logoAnnotations ) AS L             JOIN UNNEST(boundingPoly.vertices) AS V             JOIN Creative_Sizes AS CS             ON CAST(VC.imageUri AS INT64) = CS.creativeId           GROUP BY 1,2,3           )            SELECT           *,           score * area_fraction AS prominenceScore,           RANK() OVER (PARTITION BY creativeId ORDER BY score * area_fraction DESC) AS prominenceRank,           CASE             WHEN x_fraction < 0.33 AND y_fraction < 0.33 THEN 'TOP LEFT'             WHEN x_fraction > 0.66 AND y_fraction < 0.33 THEN 'TOP RIGHT'             WHEN x_fraction < 0.33 AND y_fraction > 0.66 THEN 'BOTTOM LEFT'             WHEN x_fraction > 0.66 AND y_fraction > 0.66 THEN 'BOTTOM RIGHT'             WHEN y_fraction < 0.33 THEN 'TOP CENTER'             WHEN y_fraction > 0.66 THEN 'BOTTOM CENTER'             WHEN X_fraction > 0.66 THEN 'RIGHT CENTER'             WHEN x_fraction < 0.33 THEN 'LEFT CENTER'             ELSE 'CENTER'           END AS position           FROM Creative_Faces;         \",\n",
        "        'parameters':{\n",
        "          'dataset':{'field':{'name':'recipe_slug','kind':'string','order':5,'default':'','description':'name of dataset in BigQuery.'}}\n",
        "        },\n",
        "        'legacy':False\n",
        "      },\n",
        "      'to':{\n",
        "        'dataset':{'field':{'name':'recipe_slug','kind':'string','order':5,'default':'','description':'name of dataset in BigQuery.'}},\n",
        "        'view':'Oculi_logoAnnotations'\n",
        "      }\n",
        "    }\n",
        "  }\n",
        "]\n",
        "\n",
        "json_set_fields(TASKS, FIELDS)\n",
        "\n",
        "execute(CONFIG, TASKS, force=True)\n"
      ]
    }
  ]
}
