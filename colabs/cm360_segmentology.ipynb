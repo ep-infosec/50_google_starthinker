{
  "nbformat": 4,
  "nbformat_minor": 0,
  "metadata": {
    "colab": {
      "name": "CM360 Segmentology",
      "toc_visible": true
    },
    "kernelspec": {
      "name": "python3",
      "display_name": "Python 3"
    }
  },
  "cells": [
    {
      "cell_type": "markdown",
      "metadata": {
        "id": "8b181d270001"
      },
      "source": [
        "#CM360 Segmentology\n",
        "CM360 funnel analysis using Census data.\n"
      ]
    },
    {
      "cell_type": "markdown",
      "metadata": {
        "id": "8b181d270002"
      },
      "source": [
        "#License\n",
        "\n",
        "Copyright 2020 Google LLC,\n",
        "\n",
        "Licensed under the Apache License, Version 2.0 (the \"License\");\n",
        "you may not use this file except in compliance with the License.\n",
        "You may obtain a copy of the License at\n",
        "\n",
        "  https://www.apache.org/licenses/LICENSE-2.0\n",
        "\n",
        "Unless required by applicable law or agreed to in writing, software\n",
        "distributed under the License is distributed on an \"AS IS\" BASIS,\n",
        "WITHOUT WARRANTIES OR CONDITIONS OF ANY KIND, either express or implied.\n",
        "See the License for the specific language governing permissions and\n",
        "limitations under the License.\n",
        "\n"
      ]
    },
    {
      "cell_type": "markdown",
      "metadata": {
        "id": "8b181d270003"
      },
      "source": [
        "#Disclaimer\n",
        "This is not an officially supported Google product. It is a reference implementation. There is absolutely NO WARRANTY provided for using this code. The code is Apache Licensed and CAN BE fully modified, white labeled, and disassembled by your team.\n",
        "\n",
        "This code generated (see starthinker/scripts for possible source):\n",
        "  - **Command**: \"python starthinker_ui/manage.py colab\"\n",
        "  - **Command**: \"python starthinker/tools/colab.py [JSON RECIPE]\"\n",
        "\n"
      ]
    },
    {
      "cell_type": "markdown",
      "metadata": {
        "id": "8b181d270004"
      },
      "source": [
        "#1. Install Dependencies\n",
        "First install the libraries needed to execute recipes, this only needs to be done once, then click play.\n"
      ]
    },
    {
      "cell_type": "code",
      "execution_count": null,
      "outputs": [],
      "metadata": {
        "id": "8b181d270005"
      },
      "source": [
        "!pip install git+https://github.com/google/starthinker\n"
      ]
    },
    {
      "cell_type": "markdown",
      "metadata": {
        "id": "8b181d270006"
      },
      "source": [
        "#2. Set Configuration\n",
        "\n",
        "This code is required to initialize the project. Fill in required fields and press play.\n",
        "\n",
        "1. If the recipe uses a Google Cloud Project:\n",
        "  - Set the configuration **project** value to the project identifier from [these instructions](https://github.com/google/starthinker/blob/master/tutorials/cloud_project.md).\n",
        "\n",
        "1. If the recipe has **auth** set to **user**:\n",
        "  - If you have user credentials:\n",
        "    - Set the configuration **user** value to your user credentials JSON.\n",
        "  - If you DO NOT have user credentials:\n",
        "    - Set the configuration **client** value to [downloaded client credentials](https://github.com/google/starthinker/blob/master/tutorials/cloud_client_installed.md).\n",
        "\n",
        "1. If the recipe has **auth** set to **service**:\n",
        "  - Set the configuration **service** value to [downloaded service credentials](https://github.com/google/starthinker/blob/master/tutorials/cloud_service.md).\n",
        "\n"
      ]
    },
    {
      "cell_type": "code",
      "execution_count": null,
      "outputs": [],
      "metadata": {
        "id": "8b181d270007"
      },
      "source": [
        "from starthinker.util.configuration import Configuration\n",
        "\n",
        "\n",
        "CONFIG = Configuration(\n",
        "  project=\"\",\n",
        "  client={},\n",
        "  service={},\n",
        "  user=\"/content/user.json\",\n",
        "  verbose=True\n",
        ")\n",
        "\n"
      ]
    },
    {
      "cell_type": "markdown",
      "metadata": {
        "id": "8b181d270008"
      },
      "source": [
        "#3. Enter CM360 Segmentology Recipe Parameters\n",
        " 1. Wait for **BigQuery->->->Census_Join** to be created.\n",
        " 1. Join the [StarThinker Assets Group](https://groups.google.com/d/forum/starthinker-assets) to access the following assets\n",
        " 1. Copy [CM360 Segmentology Sample](https://datastudio.google.com/c/u/0/reporting/3673497b-f36f-4448-8fb9-3e05ea51842f/). Leave the Data Source as is, you will change it in the next step.\n",
        " 1. Click Edit Connection, and change to **BigQuery->->->Census_Join**.\n",
        " 1. Or give these intructions to the client.\n",
        "Modify the values below for your use case, can be done multiple times, then click play.\n"
      ]
    },
    {
      "cell_type": "code",
      "execution_count": null,
      "outputs": [],
      "metadata": {
        "id": "8b181d270009"
      },
      "source": [
        "FIELDS = {\n",
        "  'account':'',\n",
        "  'auth_read':'user',  # Credentials used for reading data.\n",
        "  'auth_write':'service',  # Authorization used for writing data.\n",
        "  'recipe_name':'',  # Name of report, not needed if ID used.\n",
        "  'date_range':'LAST_365_DAYS',  # Timeframe to run report for.\n",
        "  'recipe_slug':'',  # Name of Google BigQuery dataset to create.\n",
        "  'advertisers':[],  # Comma delimited list of CM360 advertiser ids.\n",
        "}\n",
        "\n",
        "print(\"Parameters Set To: %s\" % FIELDS)\n"
      ]
    },
    {
      "cell_type": "markdown",
      "metadata": {
        "id": "8b181d270010"
      },
      "source": [
        "#4. Execute CM360 Segmentology\n",
        "This does NOT need to be modified unless you are changing the recipe, click play.\n"
      ]
    },
    {
      "cell_type": "code",
      "execution_count": null,
      "outputs": [],
      "metadata": {
        "id": "8b181d270011"
      },
      "source": [
        "from starthinker.util.configuration import execute\n",
        "from starthinker.util.recipe import json_set_fields\n",
        "\n",
        "TASKS = [\n",
        "  {\n",
        "    'dataset':{\n",
        "      'description':'Create a dataset for bigquery tables.',\n",
        "      'hour':[\n",
        "        4\n",
        "      ],\n",
        "      'auth':{'field':{'name':'auth_write','kind':'authentication','order':1,'default':'service','description':'Credentials used for writing data.'}},\n",
        "      'dataset':{'field':{'name':'recipe_slug','kind':'string','suffix':'_Segmentology','description':'Place where tables will be created in BigQuery.'}}\n",
        "    }\n",
        "  },\n",
        "  {\n",
        "    'bigquery':{\n",
        "      'auth':{'field':{'name':'auth_write','kind':'authentication','order':1,'default':'service','description':'Credentials used for writing function.'}},\n",
        "      'function':'Pearson Significance Test',\n",
        "      'to':{\n",
        "        'dataset':{'field':{'name':'recipe_slug','kind':'string','suffix':'_Segmentology','order':4,'default':'','description':'Name of Google BigQuery dataset to create.'}}\n",
        "      }\n",
        "    }\n",
        "  },\n",
        "  {\n",
        "    'google_api':{\n",
        "      'auth':'user',\n",
        "      'api':'dfareporting',\n",
        "      'version':'v3.4',\n",
        "      'function':'accounts.get',\n",
        "      'kwargs':{\n",
        "        'id':{'field':{'name':'account','kind':'integer','order':5,'default':'','description':'Campaign Manager Account ID'}},\n",
        "        'fields':'id,name'\n",
        "      },\n",
        "      'results':{\n",
        "        'bigquery':{\n",
        "          'auth':{'field':{'name':'auth_write','kind':'authentication','order':1,'default':'service','description':'Credentials used for writing function.'}},\n",
        "          'dataset':{'field':{'name':'recipe_slug','kind':'string','suffix':'_Segmentology','order':4,'default':'','description':'Name of Google BigQuery dataset to create.'}},\n",
        "          'table':'CM360_Account'\n",
        "        }\n",
        "      }\n",
        "    }\n",
        "  },\n",
        "  {\n",
        "    'dcm':{\n",
        "      'auth':{'field':{'name':'auth_read','kind':'authentication','order':0,'default':'user','description':'Credentials used for reading data.'}},\n",
        "      'report':{\n",
        "        'filters':{\n",
        "          'advertiser':{\n",
        "            'values':{'field':{'name':'advertisers','kind':'integer_list','order':6,'default':[],'description':'Comma delimited list of CM360 advertiser ids.'}}\n",
        "          }\n",
        "        },\n",
        "        'account':{'field':{'name':'account','kind':'string','order':5,'default':'','description':'Campaign Manager Account ID'}},\n",
        "        'body':{\n",
        "          'name':{'field':{'name':'recipe_name','kind':'string','suffix':' Segmentology','description':'The report name.','default':''}},\n",
        "          'criteria':{\n",
        "            'dateRange':{\n",
        "              'kind':'dfareporting#dateRange',\n",
        "              'relativeDateRange':{'field':{'name':'date_range','kind':'choice','order':3,'default':'LAST_365_DAYS','choices':['LAST_7_DAYS','LAST_14_DAYS','LAST_30_DAYS','LAST_365_DAYS','LAST_60_DAYS','LAST_7_DAYS','LAST_90_DAYS','LAST_24_MONTHS','MONTH_TO_DATE','PREVIOUS_MONTH','PREVIOUS_QUARTER','PREVIOUS_WEEK','PREVIOUS_YEAR','QUARTER_TO_DATE','WEEK_TO_DATE','YEAR_TO_DATE'],'description':'Timeframe to run report for.'}}\n",
        "            },\n",
        "            'dimensions':[\n",
        "              {\n",
        "                'kind':'dfareporting#sortedDimension',\n",
        "                'name':'advertiserId'\n",
        "              },\n",
        "              {\n",
        "                'kind':'dfareporting#sortedDimension',\n",
        "                'name':'advertiser'\n",
        "              },\n",
        "              {\n",
        "                'kind':'dfareporting#sortedDimension',\n",
        "                'name':'zipCode'\n",
        "              }\n",
        "            ],\n",
        "            'metricNames':[\n",
        "              'impressions',\n",
        "              'clicks',\n",
        "              'totalConversions'\n",
        "            ]\n",
        "          },\n",
        "          'type':'STANDARD',\n",
        "          'delivery':{\n",
        "            'emailOwner':False\n",
        "          },\n",
        "          'format':'CSV'\n",
        "        }\n",
        "      }\n",
        "    }\n",
        "  },\n",
        "  {\n",
        "    'dcm':{\n",
        "      'auth':{'field':{'name':'auth_read','kind':'authentication','order':0,'default':'user','description':'Credentials used for reading data.'}},\n",
        "      'report':{\n",
        "        'account':{'field':{'name':'account','kind':'string','default':''}},\n",
        "        'name':{'field':{'name':'recipe_name','kind':'string','order':3,'suffix':' Segmentology','default':'','description':'Name of report, not needed if ID used.'}}\n",
        "      },\n",
        "      'out':{\n",
        "        'bigquery':{\n",
        "          'auth':{'field':{'name':'auth_write','kind':'authentication','order':1,'default':'service','description':'Authorization used for writing data.'}},\n",
        "          'dataset':{'field':{'name':'recipe_slug','kind':'string','suffix':'_Segmentology','order':4,'default':'','description':'Name of Google BigQuery dataset to create.'}},\n",
        "          'table':'CM360_KPI',\n",
        "          'header':True\n",
        "        }\n",
        "      }\n",
        "    }\n",
        "  },\n",
        "  {\n",
        "    'bigquery':{\n",
        "      'auth':{'field':{'name':'auth_write','kind':'authentication','order':1,'default':'service','description':'Authorization used for writing data.'}},\n",
        "      'from':{\n",
        "        'query':'SELECT            Id AS Partner_Id,            Name AS Partner,            Advertiser_Id,            Advertiser,            Zip_Postal_Code AS Zip,            SAFE_DIVIDE(Impressions, SUM(Impressions) OVER(PARTITION BY Advertiser_Id)) AS Impression,            SAFE_DIVIDE(Clicks, Impressions) AS Click,            SAFE_DIVIDE(Total_Conversions, Impressions) AS Conversion,            Impressions AS Impressions          FROM `{dataset}.CM360_KPI`          CROSS JOIN `{dataset}.CM360_Account`        ',\n",
        "        'parameters':{\n",
        "          'dataset':{'field':{'name':'recipe_slug','kind':'string','suffix':'_Segmentology','description':'Place where tables will be created in BigQuery.'}}\n",
        "        },\n",
        "        'legacy':False\n",
        "      },\n",
        "      'to':{\n",
        "        'dataset':{'field':{'name':'recipe_slug','kind':'string','suffix':'_Segmentology','description':'Place where tables will be written in BigQuery.'}},\n",
        "        'view':'CM360_KPI_Normalized'\n",
        "      }\n",
        "    }\n",
        "  },\n",
        "  {\n",
        "    'census':{\n",
        "      'auth':{'field':{'name':'auth_write','kind':'authentication','order':1,'default':'service','description':'Authorization used for writing data.'}},\n",
        "      'normalize':{\n",
        "        'census_geography':'zip_codes',\n",
        "        'census_year':'2018',\n",
        "        'census_span':'5yr'\n",
        "      },\n",
        "      'to':{\n",
        "        'dataset':{'field':{'name':'recipe_slug','kind':'string','suffix':'_Segmentology','order':4,'default':'','description':'Name of Google BigQuery dataset to create.'}},\n",
        "        'type':'view'\n",
        "      }\n",
        "    }\n",
        "  },\n",
        "  {\n",
        "    'census':{\n",
        "      'auth':{'field':{'name':'auth_write','kind':'authentication','order':1,'default':'service','description':'Authorization used for writing data.'}},\n",
        "      'correlate':{\n",
        "        'join':'Zip',\n",
        "        'pass':[\n",
        "          'Partner_Id',\n",
        "          'Partner',\n",
        "          'Advertiser_Id',\n",
        "          'Advertiser'\n",
        "        ],\n",
        "        'sum':[\n",
        "          'Impressions'\n",
        "        ],\n",
        "        'correlate':[\n",
        "          'Impression',\n",
        "          'Click',\n",
        "          'Conversion'\n",
        "        ],\n",
        "        'dataset':{'field':{'name':'recipe_slug','kind':'string','suffix':'_Segmentology','order':4,'default':'','description':'Name of Google BigQuery dataset to create.'}},\n",
        "        'table':'CM360_KPI_Normalized',\n",
        "        'significance':80\n",
        "      },\n",
        "      'to':{\n",
        "        'dataset':{'field':{'name':'recipe_slug','kind':'string','suffix':'_Segmentology','order':4,'default':'','description':'Name of Google BigQuery dataset to create.'}},\n",
        "        'type':'view'\n",
        "      }\n",
        "    }\n",
        "  }\n",
        "]\n",
        "\n",
        "json_set_fields(TASKS, FIELDS)\n",
        "\n",
        "execute(CONFIG, TASKS, force=True)\n"
      ]
    }
  ]
}
